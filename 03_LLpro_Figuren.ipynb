{
 "cells": [
  {
   "cell_type": "code",
   "execution_count": 78,
   "metadata": {
    "pycharm": {
     "name": "#%%\n"
    }
   },
   "outputs": [],
   "source": [
    "import collections\n",
    "\n",
    "import pandas\n",
    "from matplotlib import pyplot as plt\n",
    "from tqdm import tqdm\n",
    "from pathlib import Path\n",
    "import numpy as np\n",
    "import re"
   ]
  },
  {
   "cell_type": "markdown",
   "metadata": {
    "pycharm": {
     "name": "#%% md\n"
    }
   },
   "source": [
    "## Figurenhäufigkeit in den Werken"
   ]
  },
  {
   "cell_type": "code",
   "execution_count": 2,
   "metadata": {
    "pycharm": {
     "name": "#%%\n"
    }
   },
   "outputs": [
    {
     "data": {
      "text/plain": [
       "[PosixPath('llpro_output/DEU073_Schicksale_einer_Seele.txt.tsv'),\n",
       " PosixPath('llpro_output/DEU066_Der_Stechlin.txt.tsv'),\n",
       " PosixPath('llpro_output/DEU007_Die_Mappe_meines_Urgroßvaters.txt.tsv'),\n",
       " PosixPath('llpro_output/DEU039_Problematische_Naturen_Erste_Abtheilung.txt.tsv'),\n",
       " PosixPath('llpro_output/DEU045_Witiko.txt.tsv'),\n",
       " PosixPath('llpro_output/DEU096_Der_Golem.txt.tsv'),\n",
       " PosixPath('llpro_output/DEU011_Soll_und_Haben.txt.tsv'),\n",
       " PosixPath('llpro_output/DEU005_Der_Sonnenwirt.txt.tsv'),\n",
       " PosixPath('llpro_output/DEU059_Irrungen_Wirrungen.txt.tsv'),\n",
       " PosixPath('llpro_output/DEU079_Die_Aufzeichnungen_des_Malte_Laurids_Brigge.txt.tsv'),\n",
       " PosixPath('llpro_output/DEU030_Die_verlorene_Handschrift.txt.tsv'),\n",
       " PosixPath('llpro_output/DEU094_Der_Weg_ins_Freie.txt.tsv'),\n",
       " PosixPath('llpro_output/DEU013_Barfüßele.txt.tsv'),\n",
       " PosixPath('llpro_output/DEU061_Größenwahn_ELTeC_ausgabe.txt.tsv'),\n",
       " PosixPath('llpro_output/DEU072_Im_alten_Eisen.txt.tsv'),\n",
       " PosixPath('llpro_output/DEU097_Wellen.txt.tsv'),\n",
       " PosixPath('llpro_output/DEU038_Der_Hungerpastor.txt.tsv'),\n",
       " PosixPath('llpro_output/DEU032_Jürg_Jenatsch.txt.tsv'),\n",
       " PosixPath('llpro_output/DEU025_Der_Amerika_Müde.txt.tsv'),\n",
       " PosixPath('llpro_output/DEU076_Caspar_Hauser.txt.tsv')]"
      ]
     },
     "execution_count": 2,
     "metadata": {},
     "output_type": "execute_result"
    }
   ],
   "source": [
    "files = list(Path('llpro_output').glob('*'))\n",
    "files"
   ]
  },
  {
   "cell_type": "code",
   "execution_count": 3,
   "metadata": {
    "pycharm": {
     "name": "#%%\n"
    }
   },
   "outputs": [
    {
     "data": {
      "text/html": [
       "<div>\n",
       "<style scoped>\n",
       "    .dataframe tbody tr th:only-of-type {\n",
       "        vertical-align: middle;\n",
       "    }\n",
       "\n",
       "    .dataframe tbody tr th {\n",
       "        vertical-align: top;\n",
       "    }\n",
       "\n",
       "    .dataframe thead th {\n",
       "        text-align: right;\n",
       "    }\n",
       "</style>\n",
       "<table border=\"1\" class=\"dataframe\">\n",
       "  <thead>\n",
       "    <tr style=\"text-align: right;\">\n",
       "      <th></th>\n",
       "      <th>i</th>\n",
       "      <th>text</th>\n",
       "      <th>orig</th>\n",
       "      <th>is_sent_start</th>\n",
       "      <th>is_para_start</th>\n",
       "      <th>is_section_start</th>\n",
       "      <th>pos</th>\n",
       "      <th>tag</th>\n",
       "      <th>lemma</th>\n",
       "      <th>morph</th>\n",
       "      <th>dep</th>\n",
       "      <th>head</th>\n",
       "      <th>speech</th>\n",
       "      <th>entity</th>\n",
       "      <th>character</th>\n",
       "      <th>coref_clusters</th>\n",
       "      <th>scene_id</th>\n",
       "      <th>scene_label</th>\n",
       "      <th>event_id</th>\n",
       "      <th>event_label</th>\n",
       "    </tr>\n",
       "  </thead>\n",
       "  <tbody>\n",
       "    <tr>\n",
       "      <th>0</th>\n",
       "      <td>0</td>\n",
       "      <td>Im</td>\n",
       "      <td>Im</td>\n",
       "      <td>1</td>\n",
       "      <td>1</td>\n",
       "      <td>1</td>\n",
       "      <td>ADP</td>\n",
       "      <td>APPRART</td>\n",
       "      <td>in</td>\n",
       "      <td>AdpType=Prep|Case=Dat|Gender=Masc|Number=Sing|...</td>\n",
       "      <td>pp</td>\n",
       "      <td>12</td>\n",
       "      <td>_</td>\n",
       "      <td>O</td>\n",
       "      <td>O</td>\n",
       "      <td>_</td>\n",
       "      <td>0</td>\n",
       "      <td>Nonscene</td>\n",
       "      <td>0</td>\n",
       "      <td>stative_event</td>\n",
       "    </tr>\n",
       "    <tr>\n",
       "      <th>1</th>\n",
       "      <td>1</td>\n",
       "      <td>Norden</td>\n",
       "      <td>Norden</td>\n",
       "      <td>0</td>\n",
       "      <td>0</td>\n",
       "      <td>0</td>\n",
       "      <td>NOUN</td>\n",
       "      <td>NN</td>\n",
       "      <td>Norden</td>\n",
       "      <td>Case=Dat|Gender=Masc|Number=Sing</td>\n",
       "      <td>pn</td>\n",
       "      <td>0</td>\n",
       "      <td>_</td>\n",
       "      <td>O</td>\n",
       "      <td>O</td>\n",
       "      <td>0</td>\n",
       "      <td>0</td>\n",
       "      <td>Nonscene</td>\n",
       "      <td>0</td>\n",
       "      <td>stative_event</td>\n",
       "    </tr>\n",
       "    <tr>\n",
       "      <th>2</th>\n",
       "      <td>2</td>\n",
       "      <td>der</td>\n",
       "      <td>der</td>\n",
       "      <td>0</td>\n",
       "      <td>0</td>\n",
       "      <td>0</td>\n",
       "      <td>DET</td>\n",
       "      <td>ART</td>\n",
       "      <td>der</td>\n",
       "      <td>Case=Gen|Gender=Fem|Number=Sing|PronType=Art</td>\n",
       "      <td>det</td>\n",
       "      <td>3</td>\n",
       "      <td>_</td>\n",
       "      <td>O</td>\n",
       "      <td>O</td>\n",
       "      <td>_</td>\n",
       "      <td>0</td>\n",
       "      <td>Nonscene</td>\n",
       "      <td>0</td>\n",
       "      <td>stative_event</td>\n",
       "    </tr>\n",
       "    <tr>\n",
       "      <th>3</th>\n",
       "      <td>3</td>\n",
       "      <td>Grafschaft</td>\n",
       "      <td>Grafschaft</td>\n",
       "      <td>0</td>\n",
       "      <td>0</td>\n",
       "      <td>0</td>\n",
       "      <td>NOUN</td>\n",
       "      <td>NN</td>\n",
       "      <td>Grafschaft</td>\n",
       "      <td>Case=Gen|Gender=Fem|Number=Sing</td>\n",
       "      <td>gmod</td>\n",
       "      <td>1</td>\n",
       "      <td>_</td>\n",
       "      <td>O</td>\n",
       "      <td>O</td>\n",
       "      <td>_</td>\n",
       "      <td>0</td>\n",
       "      <td>Nonscene</td>\n",
       "      <td>0</td>\n",
       "      <td>stative_event</td>\n",
       "    </tr>\n",
       "    <tr>\n",
       "      <th>4</th>\n",
       "      <td>4</td>\n",
       "      <td>Ruppin</td>\n",
       "      <td>Ruppin</td>\n",
       "      <td>0</td>\n",
       "      <td>0</td>\n",
       "      <td>0</td>\n",
       "      <td>PROPN</td>\n",
       "      <td>NE</td>\n",
       "      <td>Ruppin</td>\n",
       "      <td>Case=Nom|Gender=*|Number=Sing</td>\n",
       "      <td>app</td>\n",
       "      <td>3</td>\n",
       "      <td>_</td>\n",
       "      <td>B-LOC</td>\n",
       "      <td>O</td>\n",
       "      <td>_</td>\n",
       "      <td>0</td>\n",
       "      <td>Nonscene</td>\n",
       "      <td>0</td>\n",
       "      <td>stative_event</td>\n",
       "    </tr>\n",
       "  </tbody>\n",
       "</table>\n",
       "</div>"
      ],
      "text/plain": [
       "   i        text        orig  is_sent_start  is_para_start  is_section_start  \\\n",
       "0  0          Im          Im              1              1                 1   \n",
       "1  1      Norden      Norden              0              0                 0   \n",
       "2  2         der         der              0              0                 0   \n",
       "3  3  Grafschaft  Grafschaft              0              0                 0   \n",
       "4  4      Ruppin      Ruppin              0              0                 0   \n",
       "\n",
       "     pos      tag       lemma  \\\n",
       "0    ADP  APPRART          in   \n",
       "1   NOUN       NN      Norden   \n",
       "2    DET      ART         der   \n",
       "3   NOUN       NN  Grafschaft   \n",
       "4  PROPN       NE      Ruppin   \n",
       "\n",
       "                                               morph   dep  head speech  \\\n",
       "0  AdpType=Prep|Case=Dat|Gender=Masc|Number=Sing|...    pp    12      _   \n",
       "1                   Case=Dat|Gender=Masc|Number=Sing    pn     0      _   \n",
       "2       Case=Gen|Gender=Fem|Number=Sing|PronType=Art   det     3      _   \n",
       "3                    Case=Gen|Gender=Fem|Number=Sing  gmod     1      _   \n",
       "4                      Case=Nom|Gender=*|Number=Sing   app     3      _   \n",
       "\n",
       "  entity character coref_clusters  scene_id scene_label event_id  \\\n",
       "0      O         O              _         0    Nonscene        0   \n",
       "1      O         O              0         0    Nonscene        0   \n",
       "2      O         O              _         0    Nonscene        0   \n",
       "3      O         O              _         0    Nonscene        0   \n",
       "4  B-LOC         O              _         0    Nonscene        0   \n",
       "\n",
       "     event_label  \n",
       "0  stative_event  \n",
       "1  stative_event  \n",
       "2  stative_event  \n",
       "3  stative_event  \n",
       "4  stative_event  "
      ]
     },
     "execution_count": 3,
     "metadata": {},
     "output_type": "execute_result"
    }
   ],
   "source": [
    "text = files[1]\n",
    "\n",
    "annotated = pandas.read_csv(text, sep='\\t')\n",
    "annotated.head()"
   ]
  },
  {
   "cell_type": "code",
   "execution_count": 29,
   "metadata": {
    "pycharm": {
     "name": "#%%\n"
    }
   },
   "outputs": [],
   "source": [
    "def get_character_freq(annotated):\n",
    "    character_mentions = []\n",
    "\n",
    "    cur_character = []\n",
    "    for id, row in tqdm(annotated.iterrows(), total=len(annotated)):\n",
    "        if row['character'] == 'B-PER':\n",
    "            if len(cur_character) > 0:\n",
    "                character_mentions.append(' '.join(annotated.loc[cur_character, 'text']))\n",
    "            cur_character = [id]\n",
    "        if row['character'] == 'I-PER':\n",
    "            cur_character.append(id)\n",
    "\n",
    "    char_counter = collections.Counter()\n",
    "    char_counter.update([character_str for character_str, ids in character_mentions])\n",
    "\n",
    "    return pandas.DataFrame(char_counter.most_common(), columns=['mention', 'freq'])\n"
   ]
  },
  {
   "cell_type": "code",
   "execution_count": 32,
   "metadata": {
    "pycharm": {
     "name": "#%%\n"
    }
   },
   "outputs": [
    {
     "name": "stdout",
     "output_type": "stream",
     "text": [
      "llpro_output/DEU073_Schicksale_einer_Seele.txt.tsv\n"
     ]
    },
    {
     "name": "stderr",
     "output_type": "stream",
     "text": [
      "100%|██████████| 104398/104398 [00:13<00:00, 7821.43it/s] \n"
     ]
    },
    {
     "name": "stdout",
     "output_type": "stream",
     "text": [
      "llpro_output/DEU066_Der_Stechlin.txt.tsv\n"
     ]
    },
    {
     "name": "stderr",
     "output_type": "stream",
     "text": [
      "100%|██████████| 154597/154597 [00:20<00:00, 7595.70it/s]\n"
     ]
    },
    {
     "name": "stdout",
     "output_type": "stream",
     "text": [
      "llpro_output/DEU007_Die_Mappe_meines_Urgroßvaters.txt.tsv\n"
     ]
    },
    {
     "name": "stderr",
     "output_type": "stream",
     "text": [
      "100%|██████████| 82269/82269 [00:06<00:00, 13508.06it/s]\n"
     ]
    },
    {
     "name": "stdout",
     "output_type": "stream",
     "text": [
      "llpro_output/DEU039_Problematische_Naturen_Erste_Abtheilung.txt.tsv\n"
     ]
    },
    {
     "name": "stderr",
     "output_type": "stream",
     "text": [
      "100%|██████████| 225288/225288 [00:17<00:00, 12907.79it/s]\n"
     ]
    },
    {
     "name": "stdout",
     "output_type": "stream",
     "text": [
      "llpro_output/DEU045_Witiko.txt.tsv\n"
     ]
    },
    {
     "name": "stderr",
     "output_type": "stream",
     "text": [
      "100%|██████████| 338070/338070 [00:30<00:00, 10986.82it/s]\n"
     ]
    },
    {
     "name": "stdout",
     "output_type": "stream",
     "text": [
      "llpro_output/DEU096_Der_Golem.txt.tsv\n"
     ]
    },
    {
     "name": "stderr",
     "output_type": "stream",
     "text": [
      "100%|██████████| 90852/90852 [00:05<00:00, 15655.81it/s]\n"
     ]
    },
    {
     "name": "stdout",
     "output_type": "stream",
     "text": [
      "llpro_output/DEU011_Soll_und_Haben.txt.tsv\n"
     ]
    },
    {
     "name": "stderr",
     "output_type": "stream",
     "text": [
      "100%|██████████| 344302/344302 [00:26<00:00, 13181.21it/s]\n"
     ]
    },
    {
     "name": "stdout",
     "output_type": "stream",
     "text": [
      "llpro_output/DEU005_Der_Sonnenwirt.txt.tsv\n"
     ]
    },
    {
     "name": "stderr",
     "output_type": "stream",
     "text": [
      "100%|██████████| 215012/215012 [00:15<00:00, 13772.10it/s]\n"
     ]
    },
    {
     "name": "stdout",
     "output_type": "stream",
     "text": [
      "llpro_output/DEU059_Irrungen_Wirrungen.txt.tsv\n"
     ]
    },
    {
     "name": "stderr",
     "output_type": "stream",
     "text": [
      "100%|██████████| 63354/63354 [00:04<00:00, 13412.87it/s]\n",
      "  0%|          | 0/70472 [00:00<?, ?it/s]"
     ]
    },
    {
     "name": "stdout",
     "output_type": "stream",
     "text": [
      "llpro_output/DEU079_Die_Aufzeichnungen_des_Malte_Laurids_Brigge.txt.tsv\n"
     ]
    },
    {
     "name": "stderr",
     "output_type": "stream",
     "text": [
      "100%|██████████| 70472/70472 [00:04<00:00, 15663.06it/s]\n"
     ]
    },
    {
     "name": "stdout",
     "output_type": "stream",
     "text": [
      "llpro_output/DEU030_Die_verlorene_Handschrift.txt.tsv\n"
     ]
    },
    {
     "name": "stderr",
     "output_type": "stream",
     "text": [
      "100%|██████████| 307383/307383 [00:26<00:00, 11808.64it/s]\n"
     ]
    },
    {
     "name": "stdout",
     "output_type": "stream",
     "text": [
      "llpro_output/DEU094_Der_Weg_ins_Freie.txt.tsv\n"
     ]
    },
    {
     "name": "stderr",
     "output_type": "stream",
     "text": [
      "100%|██████████| 144741/144741 [00:11<00:00, 12707.05it/s]\n"
     ]
    },
    {
     "name": "stdout",
     "output_type": "stream",
     "text": [
      "llpro_output/DEU013_Barfüßele.txt.tsv\n"
     ]
    },
    {
     "name": "stderr",
     "output_type": "stream",
     "text": [
      "100%|██████████| 74804/74804 [00:05<00:00, 12932.18it/s]\n"
     ]
    },
    {
     "name": "stdout",
     "output_type": "stream",
     "text": [
      "llpro_output/DEU061_Größenwahn_ELTeC_ausgabe.txt.tsv\n"
     ]
    },
    {
     "name": "stderr",
     "output_type": "stream",
     "text": [
      "100%|██████████| 293243/293243 [00:22<00:00, 12874.71it/s]\n"
     ]
    },
    {
     "name": "stdout",
     "output_type": "stream",
     "text": [
      "llpro_output/DEU072_Im_alten_Eisen.txt.tsv\n"
     ]
    },
    {
     "name": "stderr",
     "output_type": "stream",
     "text": [
      "100%|██████████| 64387/64387 [00:04<00:00, 13019.07it/s]\n"
     ]
    },
    {
     "name": "stdout",
     "output_type": "stream",
     "text": [
      "llpro_output/DEU097_Wellen.txt.tsv\n"
     ]
    },
    {
     "name": "stderr",
     "output_type": "stream",
     "text": [
      "100%|██████████| 54751/54751 [00:04<00:00, 11685.87it/s]\n"
     ]
    },
    {
     "name": "stdout",
     "output_type": "stream",
     "text": [
      "llpro_output/DEU038_Der_Hungerpastor.txt.tsv\n"
     ]
    },
    {
     "name": "stderr",
     "output_type": "stream",
     "text": [
      "100%|██████████| 166061/166061 [00:14<00:00, 11826.60it/s]\n"
     ]
    },
    {
     "name": "stdout",
     "output_type": "stream",
     "text": [
      "llpro_output/DEU032_Jürg_Jenatsch.txt.tsv\n"
     ]
    },
    {
     "name": "stderr",
     "output_type": "stream",
     "text": [
      "100%|██████████| 83840/83840 [00:06<00:00, 13584.08it/s]\n"
     ]
    },
    {
     "name": "stdout",
     "output_type": "stream",
     "text": [
      "llpro_output/DEU025_Der_Amerika_Müde.txt.tsv\n"
     ]
    },
    {
     "name": "stderr",
     "output_type": "stream",
     "text": [
      "100%|██████████| 197276/197276 [00:13<00:00, 14124.31it/s]\n"
     ]
    },
    {
     "name": "stdout",
     "output_type": "stream",
     "text": [
      "llpro_output/DEU076_Caspar_Hauser.txt.tsv\n"
     ]
    },
    {
     "name": "stderr",
     "output_type": "stream",
     "text": [
      "100%|██████████| 156609/156609 [00:13<00:00, 11220.56it/s]\n"
     ]
    }
   ],
   "source": [
    "output = []\n",
    "\n",
    "for text in files:\n",
    "    print(text)\n",
    "    annotated = pandas.read_csv(text, sep='\\t')\n",
    "    freqs = get_character_freq(annotated)\n",
    "\n",
    "    freqs = freqs[:100] # 100 häufigsten Figuren\n",
    "    freqs['filename'] = text.name\n",
    "    output.append(freqs)"
   ]
  },
  {
   "cell_type": "code",
   "execution_count": 35,
   "metadata": {
    "pycharm": {
     "name": "#%%\n"
    }
   },
   "outputs": [],
   "source": [
    "\n",
    "pandas.concat(output).to_csv('figurenhäufigkeit.csv', index=False)\n"
   ]
  },
  {
   "cell_type": "markdown",
   "metadata": {
    "pycharm": {
     "name": "#%% md\n"
    }
   },
   "source": [
    "## Figurenhäufigkeit/-reihenfolge in den Zusammenfassungen"
   ]
  },
  {
   "cell_type": "code",
   "execution_count": 2,
   "metadata": {
    "pycharm": {
     "name": "#%%\n"
    }
   },
   "outputs": [
    {
     "data": {
      "application/vnd.jupyter.widget-view+json": {
       "model_id": "4f275321c5654dff9e260855b3d5e36e",
       "version_major": 2,
       "version_minor": 0
      },
      "text/plain": [
       "Downloading pytorch_model.bin:   0%|          | 0.00/2.24G [00:00<?, ?B/s]"
      ]
     },
     "metadata": {},
     "output_type": "display_data"
    },
    {
     "data": {
      "application/vnd.jupyter.widget-view+json": {
       "model_id": "3332b9a253f645de9e636d9c97e890ec",
       "version_major": 2,
       "version_minor": 0
      },
      "text/plain": [
       "Downloading (…)lve/main/config.json:   0%|          | 0.00/616 [00:00<?, ?B/s]"
      ]
     },
     "metadata": {},
     "output_type": "display_data"
    },
    {
     "data": {
      "application/vnd.jupyter.widget-view+json": {
       "model_id": "4e7047dcc4ea4943a90e41b0bd385ba8",
       "version_major": 2,
       "version_minor": 0
      },
      "text/plain": [
       "Downloading (…)tencepiece.bpe.model:   0%|          | 0.00/5.07M [00:00<?, ?B/s]"
      ]
     },
     "metadata": {},
     "output_type": "display_data"
    },
    {
     "data": {
      "application/vnd.jupyter.widget-view+json": {
       "model_id": "c807b644087d4892ac5cd2c020f599f4",
       "version_major": 2,
       "version_minor": 0
      },
      "text/plain": [
       "Downloading (…)/main/tokenizer.json:   0%|          | 0.00/9.10M [00:00<?, ?B/s]"
      ]
     },
     "metadata": {},
     "output_type": "display_data"
    },
    {
     "name": "stdout",
     "output_type": "stream",
     "text": [
      "2023-05-25 11:17:48,419 SequenceTagger predicts: Dictionary with 20 tags: <unk>, O, B-PER, E-PER, S-LOC, B-MISC, I-MISC, E-MISC, S-PER, B-ORG, E-ORG, S-ORG, I-ORG, B-LOC, E-LOC, S-MISC, I-PER, I-LOC, <START>, <STOP>\n"
     ]
    }
   ],
   "source": [
    "from flair.models import SequenceTagger\n",
    "\n",
    "character_tagger = SequenceTagger.load('flair/ner-german-large')"
   ]
  },
  {
   "cell_type": "code",
   "execution_count": 3,
   "metadata": {
    "pycharm": {
     "name": "#%%\n"
    }
   },
   "outputs": [],
   "source": [
    "summaries = list(Path('kindler').glob('*'))"
   ]
  },
  {
   "cell_type": "code",
   "execution_count": 33,
   "metadata": {
    "pycharm": {
     "name": "#%%\n"
    }
   },
   "outputs": [],
   "source": [
    "from segtok.segmenter import split_single\n",
    "from flair.data import Sentence\n",
    "\n",
    "def get_character_freq_from_summary(summary_file):\n",
    "    summary = open(summary_file).read()\n",
    "    sentences = [Sentence(sent, use_tokenizer=True) for sent in split_single(summary)]\n",
    "    character_tagger.predict(sentences)\n",
    "    character_mentions = []\n",
    "    for sent in sentences:\n",
    "        for label in sent.labels:\n",
    "            if label.value == 'PER':\n",
    "                # immer nur Vornamen\n",
    "                character_mentions.append(label.data_point[0].text)\n",
    "                \n",
    "    freqs = pandas.DataFrame(collections.Counter(character_mentions).most_common(), columns=['mention', 'freq'])\n",
    "    freqs['filename'] = summary_file.name\n",
    "    freqs['occurence_order'] = freqs['mention'].apply(lambda x: character_mentions.index(x)+1)\n",
    "    return freqs"
   ]
  },
  {
   "cell_type": "code",
   "execution_count": 34,
   "metadata": {},
   "outputs": [
    {
     "name": "stderr",
     "output_type": "stream",
     "text": [
      "100%|██████████| 19/19 [12:32<00:00, 39.60s/it]\n"
     ]
    }
   ],
   "source": [
    "output = []\n",
    "\n",
    "for file in tqdm(summaries):\n",
    "    df = get_character_freq_from_summary(file)\n",
    "    output.append(df)"
   ]
  },
  {
   "cell_type": "code",
   "execution_count": 37,
   "metadata": {},
   "outputs": [],
   "source": [
    "pandas.concat(output).to_csv('figurenhäufigkeit_kindler.csv', index=False)"
   ]
  },
  {
   "cell_type": "markdown",
   "metadata": {},
   "source": [
    "## Auswertung"
   ]
  },
  {
   "cell_type": "code",
   "execution_count": 99,
   "metadata": {},
   "outputs": [],
   "source": [
    "freq_texts = pandas.read_csv('figurenhäufigkeit.csv', index_col=None)\n",
    "freq_summaries = pandas.read_csv('figurenhäufigkeit_kindler.csv', index_col=None)\n",
    "gold = pandas.read_csv('Romanauswahl_Hauptfiguren_Goldstandard.csv', index_col=None, sep=';')"
   ]
  },
  {
   "cell_type": "code",
   "execution_count": 114,
   "metadata": {},
   "outputs": [
    {
     "data": {
      "text/html": [
       "<div>\n",
       "<style scoped>\n",
       "    .dataframe tbody tr th:only-of-type {\n",
       "        vertical-align: middle;\n",
       "    }\n",
       "\n",
       "    .dataframe tbody tr th {\n",
       "        vertical-align: top;\n",
       "    }\n",
       "\n",
       "    .dataframe thead th {\n",
       "        text-align: right;\n",
       "    }\n",
       "</style>\n",
       "<table border=\"1\" class=\"dataframe\">\n",
       "  <thead>\n",
       "    <tr style=\"text-align: right;\">\n",
       "      <th></th>\n",
       "      <th>filename</th>\n",
       "      <th>gold_name</th>\n",
       "      <th>filename_kindler</th>\n",
       "    </tr>\n",
       "  </thead>\n",
       "  <tbody>\n",
       "    <tr>\n",
       "      <th>0</th>\n",
       "      <td>DEU039_Problematische_Naturen_Erste_Abtheilung...</td>\n",
       "      <td>Problematische Naturen</td>\n",
       "      <td>Spielhagen_Naturen.txt</td>\n",
       "    </tr>\n",
       "    <tr>\n",
       "      <th>1</th>\n",
       "      <td>DEU005_Der_Sonnenwirt.txt.tsv</td>\n",
       "      <td>Der Sonnenwirt</td>\n",
       "      <td>Kurz_Sonnenwirt.txt</td>\n",
       "    </tr>\n",
       "    <tr>\n",
       "      <th>2</th>\n",
       "      <td>DEU097_Wellen.txt.tsv</td>\n",
       "      <td>Wellen</td>\n",
       "      <td>Keyserling_Wellen.txt</td>\n",
       "    </tr>\n",
       "    <tr>\n",
       "      <th>3</th>\n",
       "      <td>DEU096_Der_Golem.txt.tsv</td>\n",
       "      <td>Der Golem</td>\n",
       "      <td>Meyrink_Golem.txt</td>\n",
       "    </tr>\n",
       "    <tr>\n",
       "      <th>4</th>\n",
       "      <td>DEU072_Im_alten_Eisen.txt.tsv</td>\n",
       "      <td>NaN</td>\n",
       "      <td>NaN</td>\n",
       "    </tr>\n",
       "    <tr>\n",
       "      <th>5</th>\n",
       "      <td>DEU073_Schicksale_einer_Seele.txt.tsv</td>\n",
       "      <td>Schicksale einer Seele</td>\n",
       "      <td>Dohm_Schicksale.txt</td>\n",
       "    </tr>\n",
       "    <tr>\n",
       "      <th>6</th>\n",
       "      <td>DEU025_Der_Amerika_Müde.txt.tsv</td>\n",
       "      <td>Der Amerika-Müde</td>\n",
       "      <td>Kürnberger_Amerika.txt</td>\n",
       "    </tr>\n",
       "    <tr>\n",
       "      <th>7</th>\n",
       "      <td>DEU032_Jürg_Jenatsch.txt.tsv</td>\n",
       "      <td>Georg Jenatsch</td>\n",
       "      <td>Meyer_Jenatsch.txt</td>\n",
       "    </tr>\n",
       "    <tr>\n",
       "      <th>8</th>\n",
       "      <td>DEU030_Die_verlorene_Handschrift.txt.tsv</td>\n",
       "      <td>Die verlorene Handschrift</td>\n",
       "      <td>Freytag_Handschrift.txt</td>\n",
       "    </tr>\n",
       "    <tr>\n",
       "      <th>9</th>\n",
       "      <td>DEU038_Der_Hungerpastor.txt.tsv</td>\n",
       "      <td>Der Hungerpastor</td>\n",
       "      <td>Raabe_Hungerpastor.txt</td>\n",
       "    </tr>\n",
       "    <tr>\n",
       "      <th>10</th>\n",
       "      <td>DEU045_Witiko.txt.tsv</td>\n",
       "      <td>Witiko</td>\n",
       "      <td>Stifter_Witiko.txt</td>\n",
       "    </tr>\n",
       "    <tr>\n",
       "      <th>11</th>\n",
       "      <td>DEU079_Die_Aufzeichnungen_des_Malte_Laurids_Br...</td>\n",
       "      <td>Die Aufzeichnungen des Malte Laurids Brigge</td>\n",
       "      <td>Rilke_Malte.txt</td>\n",
       "    </tr>\n",
       "    <tr>\n",
       "      <th>12</th>\n",
       "      <td>DEU013_Barfüßele.txt.tsv</td>\n",
       "      <td>Barfüßele</td>\n",
       "      <td>Auerbach_Barfüßele.txt</td>\n",
       "    </tr>\n",
       "    <tr>\n",
       "      <th>13</th>\n",
       "      <td>DEU066_Der_Stechlin.txt.tsv</td>\n",
       "      <td>Der Stechlin</td>\n",
       "      <td>Fontane_Stechlin.txt</td>\n",
       "    </tr>\n",
       "    <tr>\n",
       "      <th>14</th>\n",
       "      <td>DEU007_Die_Mappe_meines_Urgroßvaters.txt.tsv</td>\n",
       "      <td>Die Mappe meines Urgroßvaters</td>\n",
       "      <td>Stifter_Mappe.txt</td>\n",
       "    </tr>\n",
       "    <tr>\n",
       "      <th>15</th>\n",
       "      <td>DEU076_Caspar_Hauser.txt.tsv</td>\n",
       "      <td>Caspar Hauser</td>\n",
       "      <td>Wassermann_Hauser.txt</td>\n",
       "    </tr>\n",
       "    <tr>\n",
       "      <th>16</th>\n",
       "      <td>DEU011_Soll_und_Haben.txt.tsv</td>\n",
       "      <td>Soll und Haben</td>\n",
       "      <td>Freytag_Soll_Haben.txt</td>\n",
       "    </tr>\n",
       "    <tr>\n",
       "      <th>17</th>\n",
       "      <td>DEU061_Größenwahn_ELTeC_ausgabe.txt.tsv</td>\n",
       "      <td>Größenwahn</td>\n",
       "      <td>Bleitreu_Größenwahn.txt</td>\n",
       "    </tr>\n",
       "    <tr>\n",
       "      <th>18</th>\n",
       "      <td>DEU094_Der_Weg_ins_Freie.txt.tsv</td>\n",
       "      <td>Der Weg ins Freie</td>\n",
       "      <td>Schnitzler_Freie.txt</td>\n",
       "    </tr>\n",
       "    <tr>\n",
       "      <th>19</th>\n",
       "      <td>DEU059_Irrungen_Wirrungen.txt.tsv</td>\n",
       "      <td>Irrungen, Wirrungen</td>\n",
       "      <td>Fontane_Irrungen.txt</td>\n",
       "    </tr>\n",
       "  </tbody>\n",
       "</table>\n",
       "</div>"
      ],
      "text/plain": [
       "                                             filename   \n",
       "0   DEU039_Problematische_Naturen_Erste_Abtheilung...  \\\n",
       "1                       DEU005_Der_Sonnenwirt.txt.tsv   \n",
       "2                               DEU097_Wellen.txt.tsv   \n",
       "3                            DEU096_Der_Golem.txt.tsv   \n",
       "4                       DEU072_Im_alten_Eisen.txt.tsv   \n",
       "5               DEU073_Schicksale_einer_Seele.txt.tsv   \n",
       "6                     DEU025_Der_Amerika_Müde.txt.tsv   \n",
       "7                        DEU032_Jürg_Jenatsch.txt.tsv   \n",
       "8            DEU030_Die_verlorene_Handschrift.txt.tsv   \n",
       "9                     DEU038_Der_Hungerpastor.txt.tsv   \n",
       "10                              DEU045_Witiko.txt.tsv   \n",
       "11  DEU079_Die_Aufzeichnungen_des_Malte_Laurids_Br...   \n",
       "12                           DEU013_Barfüßele.txt.tsv   \n",
       "13                        DEU066_Der_Stechlin.txt.tsv   \n",
       "14       DEU007_Die_Mappe_meines_Urgroßvaters.txt.tsv   \n",
       "15                       DEU076_Caspar_Hauser.txt.tsv   \n",
       "16                      DEU011_Soll_und_Haben.txt.tsv   \n",
       "17            DEU061_Größenwahn_ELTeC_ausgabe.txt.tsv   \n",
       "18                   DEU094_Der_Weg_ins_Freie.txt.tsv   \n",
       "19                  DEU059_Irrungen_Wirrungen.txt.tsv   \n",
       "\n",
       "                                      gold_name         filename_kindler  \n",
       "0                        Problematische Naturen   Spielhagen_Naturen.txt  \n",
       "1                                Der Sonnenwirt      Kurz_Sonnenwirt.txt  \n",
       "2                                        Wellen    Keyserling_Wellen.txt  \n",
       "3                                     Der Golem        Meyrink_Golem.txt  \n",
       "4                                           NaN                      NaN  \n",
       "5                        Schicksale einer Seele      Dohm_Schicksale.txt  \n",
       "6                              Der Amerika-Müde   Kürnberger_Amerika.txt  \n",
       "7                                Georg Jenatsch       Meyer_Jenatsch.txt  \n",
       "8                     Die verlorene Handschrift  Freytag_Handschrift.txt  \n",
       "9                              Der Hungerpastor   Raabe_Hungerpastor.txt  \n",
       "10                                       Witiko       Stifter_Witiko.txt  \n",
       "11  Die Aufzeichnungen des Malte Laurids Brigge          Rilke_Malte.txt  \n",
       "12                                    Barfüßele   Auerbach_Barfüßele.txt  \n",
       "13                                 Der Stechlin     Fontane_Stechlin.txt  \n",
       "14                Die Mappe meines Urgroßvaters        Stifter_Mappe.txt  \n",
       "15                                Caspar Hauser    Wassermann_Hauser.txt  \n",
       "16                               Soll und Haben   Freytag_Soll_Haben.txt  \n",
       "17                                   Größenwahn  Bleitreu_Größenwahn.txt  \n",
       "18                            Der Weg ins Freie     Schnitzler_Freie.txt  \n",
       "19                          Irrungen, Wirrungen     Fontane_Irrungen.txt  "
      ]
     },
     "execution_count": 114,
     "metadata": {},
     "output_type": "execute_result"
    }
   ],
   "source": [
    "text_mapping = pandas.read_csv('mapping.csv')\n",
    "text_mapping"
   ]
  },
  {
   "cell_type": "code",
   "execution_count": 131,
   "metadata": {},
   "outputs": [],
   "source": [
    "def predict_by_text_freq(gold_chars, pred_chars):\n",
    "    for i in range(1, 25):\n",
    "        retrieved = pred_chars[:i]\n",
    "        \n",
    "        # assign retrieved to gold characters\n",
    "        assignment = {p: None for p in retrieved}\n",
    "        for p in retrieved:\n",
    "            for x in gold_chars:\n",
    "                if p in x:\n",
    "                    assignment[p] = x\n",
    "                    break\n",
    "\n",
    "        precision = len([k for k,v in assignment.items() if v is not None])/len(assignment)\n",
    "        recall = len(set(x for x in assignment.values() if x is not None)) / len(gold_chars)\n",
    "        \n",
    "        yield precision, recall, i\n",
    "\n",
    "\n",
    "# gold_chars = gold[gold.Titel == 'Der Hungerpastor'].Hauptfiguren_Goldstandard.item().split(', ')\n",
    "# pred_chars = freq_texts[freq_texts.filename.str.contains('Hungerpastor')].char.tolist()\n",
    "\n",
    "# pr, rec, thres = np.array(list(zip(*predict_by_text_freq(gold_chars, pred_chars))))\n",
    "# print(pr, rec, thres)"
   ]
  },
  {
   "cell_type": "code",
   "execution_count": 187,
   "metadata": {},
   "outputs": [
    {
     "name": "stdout",
     "output_type": "stream",
     "text": [
      "missing DEU072_Im_alten_Eisen.txt.tsv\n",
      "missing DEU072_Im_alten_Eisen.txt.tsv\n",
      "missing DEU072_Im_alten_Eisen.txt.tsv\n"
     ]
    },
    {
     "data": {
      "image/png": "[encoded data removed]",
      "text/plain": [
       "<Figure size 1000x1000 with 1 Axes>"
      ]
     },
     "metadata": {
      "needs_background": "light"
     },
     "output_type": "display_data"
    }
   ],
   "source": [
    "from sklearn.metrics import PrecisionRecallDisplay\n",
    "\n",
    "fig, ax = plt.subplots(figsize=(10,10), dpi=100)\n",
    "prs = []\n",
    "recs = []\n",
    "\n",
    "for _, row in text_mapping.iterrows():\n",
    "    gold_chars = gold[gold.Titel == row.gold_name].Hauptfiguren_Goldstandard\n",
    "    if len(gold_chars) == 0:\n",
    "        print('missing', row.filename)\n",
    "        continue\n",
    "    gold_chars = gold_chars.item().split(', ')\n",
    "    pred_chars = freq_texts[freq_texts.filename == row.filename].char.tolist()\n",
    "    \n",
    "    pr, rec, thres = np.array(list(zip(*predict_by_text_freq(gold_chars, pred_chars))))\n",
    "    prs.append(pr)\n",
    "    recs.append(rec)\n",
    "\n",
    "ax.plot(np.array(recs).mean(axis=0), np.array(prs).mean(axis=0), drawstyle=\"steps-post\", label='Top-K Character Mentions aus Texten')\n",
    "\n",
    "\n",
    "prs = []\n",
    "recs = []\n",
    "\n",
    "for _, row in text_mapping.iterrows():\n",
    "    gold_chars = gold[gold.Titel == row.gold_name].Hauptfiguren_Goldstandard\n",
    "    if len(gold_chars) == 0:\n",
    "        print('missing', row.filename)\n",
    "        continue\n",
    "    gold_chars = gold_chars.item().split(', ')\n",
    "    pred_chars = freq_summaries[freq_summaries.filename == row.filename_kindler].sort_values('freq', ascending=False).mention.tolist()\n",
    "    \n",
    "    pr, rec, thres = np.array(list(zip(*predict_by_text_freq(gold_chars, pred_chars))))\n",
    "    prs.append(pr)\n",
    "    recs.append(rec)\n",
    "\n",
    "ax.plot(np.array(recs).mean(axis=0), np.array(prs).mean(axis=0), drawstyle=\"steps-post\", label='Top-K Character Mentions aus Kindler-Zusammenfassung')\n",
    "\n",
    "prs = []\n",
    "recs = []\n",
    "\n",
    "for _, row in text_mapping.iterrows():\n",
    "    gold_chars = gold[gold.Titel == row.gold_name].Hauptfiguren_Goldstandard\n",
    "    if len(gold_chars) == 0:\n",
    "        print('missing', row.filename)\n",
    "        continue\n",
    "    gold_chars = gold_chars.item().split(', ')\n",
    "    pred_chars = freq_summaries[freq_summaries.filename == row.filename_kindler].sort_values('occurence_order', ascending=True).mention.tolist()\n",
    "    \n",
    "    pr, rec, thres = np.array(list(zip(*predict_by_text_freq(gold_chars, pred_chars))))\n",
    "    prs.append(pr)\n",
    "    recs.append(rec)\n",
    "\n",
    "ax.plot(np.array(recs).mean(axis=0), np.array(prs).mean(axis=0), drawstyle=\"steps-post\", label='Ersten K vorkommenen Character Mentions aus Kindler-Zusammenfassung')\n",
    "\n",
    "f_scores = np.linspace(0.2, 0.6, num=5)\n",
    "lines, labels = [], []\n",
    "for f_score in f_scores:\n",
    "    x = np.linspace(0.01, 1)\n",
    "    y = f_score * x / (2 * x - f_score)\n",
    "    (l,) = ax.plot(x[y >= 0], y[y >= 0], color=\"gray\", alpha=0.2)\n",
    "    ax.annotate(\"f1={0:0.1f}\".format(f_score), xy=(0.65, y[35] + 0.02))\n",
    "    \n",
    "\n",
    "ax.set_xlim([0.0, .7])\n",
    "ax.set_ylim([0.0, .79])\n",
    "ax.set(xlabel='Recall', ylabel='Precision')\n",
    "plt.legend()\n",
    "plt.show()"
   ]
  },
  {
   "cell_type": "code",
   "execution_count": 182,
   "metadata": {},
   "outputs": [
    {
     "data": {
      "text/plain": [
       "(array([0.03529657, 0.09218559, 0.2051523 , 0.25963948, 0.31339567,\n",
       "        0.37632251, 0.44582829, 0.53594943, 0.59138157, 0.61172088,\n",
       "        0.63684488, 0.65883605, 0.66760798, 0.68521318, 0.6987698 ,\n",
       "        0.70355449, 0.70760307, 0.71643634, 0.71643634, 0.71643634,\n",
       "        0.72048492, 0.72048492, 0.72048492, 0.72048492]),\n",
       " array([0.26315789, 0.31578947, 0.38596491, 0.41666667, 0.41929825,\n",
       "        0.45614035, 0.45989975, 0.47963659, 0.48913952, 0.48036759,\n",
       "        0.48132452, 0.48371687, 0.46954683, 0.4701252 , 0.46711768,\n",
       "        0.46251241, 0.46096443, 0.46285641, 0.46454924, 0.46108664,\n",
       "        0.46046007, 0.45863733, 0.45697309, 0.45544754]))"
      ]
     },
     "execution_count": 182,
     "metadata": {},
     "output_type": "execute_result"
    }
   ],
   "source": [
    "np.array(recs).mean(axis=0), np.array(prs).mean(axis=0)"
   ]
  }
 ],
 "metadata": {
  "kernelspec": {
   "display_name": "Python 3",
   "language": "python",
   "name": "python3"
  },
  "language_info": {
   "codemirror_mode": {
    "name": "ipython",
    "version": 3
   },
   "file_extension": ".py",
   "mimetype": "text/x-python",
   "name": "python",
   "nbconvert_exporter": "python",
   "pygments_lexer": "ipython3",
   "version": "3.9.2"
  }
 },
 "nbformat": 4,
 "nbformat_minor": 1
}
