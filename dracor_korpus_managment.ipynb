{
 "cells": [
  {
   "cell_type": "code",
   "execution_count": 5,
   "id": "8e6964d9",
   "metadata": {},
   "outputs": [],
   "source": [
    "import pandas as pd\n",
    "import xml.etree.ElementTree as ET\n",
    "from tqdm import tqdm\n",
    "import gender_guesser.detector as gender"
   ]
  },
  {
   "cell_type": "code",
   "execution_count": 6,
   "id": "5aef5b50",
   "metadata": {},
   "outputs": [],
   "source": [
    "df = pd.read_csv(\"gerdracor-metadata.csv\", sep=\";\", encoding=\"utf-8\")"
   ]
  },
  {
   "cell_type": "code",
   "execution_count": 8,
   "id": "eecb642c",
   "metadata": {},
   "outputs": [
    {
     "name": "stderr",
     "output_type": "stream",
     "text": [
      "100%|████████████████████████████████████████| 612/612 [00:04<00:00, 150.08it/s]\n"
     ]
    }
   ],
   "source": [
    "firstnames = []\n",
    "for name in tqdm(df[\"name\"]):\n",
    "    #filename = f'gerdracor/tei/{name}.xml'\n",
    "    tree = ET.parse(f'gerdracor/tei/{name}.xml')\n",
    "    \n",
    "    root = tree.getroot()\n",
    "    \n",
    "    names = root.findall(\".//{http://www.tei-c.org/ns/1.0}author/{http://www.tei-c.org/ns/1.0}persName/{http://www.tei-c.org/ns/1.0}forename\")\n",
    "    if names == []:\n",
    "        firstnames.append(\"[keine Angabe]\")\n",
    "    else:\n",
    "        firstnames.append(names[0].text)\n",
    "\n",
    "    \n"
   ]
  },
  {
   "cell_type": "code",
   "execution_count": 9,
   "id": "2d061530",
   "metadata": {},
   "outputs": [],
   "source": [
    "df[\"firstAuthorFirstname\"] = firstnames"
   ]
  },
  {
   "cell_type": "code",
   "execution_count": 10,
   "id": "fcd2bec5",
   "metadata": {},
   "outputs": [],
   "source": [
    "genders_dict = {}\n",
    "genders_list = []\n",
    "d = gender.Detector()\n",
    "\n",
    "for name in firstnames:\n",
    "    genders_dict[name] = d.get_gender(name)\n",
    "    genders_list.append(d.get_gender(name))\n"
   ]
  },
  {
   "cell_type": "code",
   "execution_count": 11,
   "id": "81de6b80",
   "metadata": {
    "scrolled": true
   },
   "outputs": [
    {
     "data": {
      "text/plain": [
       "{'Karl': 'male',\n",
       " 'Konrad': 'male',\n",
       " 'Johann': 'male',\n",
       " 'Louis': 'male',\n",
       " '[keine Angabe]': 'unknown',\n",
       " 'Ludwig': 'male',\n",
       " 'Achim': 'male',\n",
       " 'Leopold': 'male',\n",
       " 'Ferdinand': 'male',\n",
       " 'Cornelius': 'male',\n",
       " 'Adolf': 'male',\n",
       " 'Jens': 'male',\n",
       " 'Hermann': 'male',\n",
       " 'Hugo': 'male',\n",
       " 'Ernst': 'male',\n",
       " 'Eduard': 'male',\n",
       " 'Michael': 'male',\n",
       " 'Roderich': 'male',\n",
       " 'O.': 'unknown',\n",
       " 'Josef': 'male',\n",
       " 'Heinrich': 'male',\n",
       " 'Otto': 'male',\n",
       " 'Charlotte': 'female',\n",
       " 'Oskar': 'male',\n",
       " 'Wolfgang': 'male',\n",
       " 'Hinrich': 'male',\n",
       " 'Albert': 'male',\n",
       " 'Lily': 'female',\n",
       " 'Joachim': 'male',\n",
       " 'Adele': 'female',\n",
       " 'Clemens': 'male',\n",
       " 'Christoph': 'male',\n",
       " 'Georg': 'male',\n",
       " 'Rudolf': 'male',\n",
       " 'Ferruccio': 'male',\n",
       " 'Ignaz': 'male',\n",
       " 'Helmina': 'unknown',\n",
       " 'Hans': 'male',\n",
       " 'Peter': 'male',\n",
       " 'Max': 'male',\n",
       " 'Richard': 'male',\n",
       " 'Friedrich': 'male',\n",
       " 'Hedwig': 'female',\n",
       " 'Beatrice': 'female',\n",
       " 'Annette': 'female',\n",
       " 'Marie': 'female',\n",
       " 'Joseph': 'male',\n",
       " 'Gerrit': 'mostly_male',\n",
       " 'Bruno': 'male',\n",
       " 'Gorch': 'male',\n",
       " 'Gustav': 'male',\n",
       " 'Christian': 'male',\n",
       " 'Emil': 'male',\n",
       " 'Salomon': 'male',\n",
       " 'Luise': 'female',\n",
       " 'Franz': 'male',\n",
       " 'Andreas': 'male',\n",
       " 'Karoline': 'female',\n",
       " 'Philipp': 'male',\n",
       " 'Walter': 'male',\n",
       " 'Carl': 'male',\n",
       " 'Gerhart': 'male',\n",
       " 'Henry': 'male',\n",
       " 'Paul': 'male',\n",
       " 'Theodor': 'male',\n",
       " 'Arno': 'male',\n",
       " 'Ödön': 'male',\n",
       " 'August': 'male',\n",
       " 'Benedikt': 'male',\n",
       " 'Emma': 'female',\n",
       " 'Adolph': 'male',\n",
       " 'Else': 'female',\n",
       " 'Jakob': 'male',\n",
       " 'Gotthold': 'male',\n",
       " 'Justus': 'male',\n",
       " 'Erich': 'male',\n",
       " 'Robert': 'male',\n",
       " 'Christlob': 'unknown',\n",
       " 'Caroline': 'female',\n",
       " 'Hennie': 'female',\n",
       " 'Anton': 'male',\n",
       " 'Rainer': 'male',\n",
       " 'Wilhelm': 'male',\n",
       " 'Emanuel': 'male',\n",
       " 'Johannes': 'male',\n",
       " 'Arthur': 'male',\n",
       " 'Julius': 'male',\n",
       " 'Reinhard': 'male',\n",
       " 'Fritz': 'male',\n",
       " 'Helfrich': 'unknown',\n",
       " 'Baptista': 'unknown',\n",
       " 'Frank': 'male',\n",
       " 'Johanna': 'female',\n",
       " 'Zacharias': 'male',\n",
       " 'Adelheid': 'female'}"
      ]
     },
     "execution_count": 11,
     "metadata": {},
     "output_type": "execute_result"
    }
   ],
   "source": [
    "genders_dict"
   ]
  },
  {
   "cell_type": "code",
   "execution_count": 12,
   "id": "851a2c19",
   "metadata": {},
   "outputs": [],
   "source": [
    "df[\"firstAuthorGender\"] = genders_list"
   ]
  },
  {
   "cell_type": "code",
   "execution_count": 13,
   "id": "08676a39",
   "metadata": {},
   "outputs": [],
   "source": [
    "df.to_csv(\"gerdracor-metadata.csv\", sep=\",\", encoding=\"utf-8\")"
   ]
  },
  {
   "cell_type": "code",
   "execution_count": null,
   "id": "0bbaa246",
   "metadata": {},
   "outputs": [],
   "source": []
  }
 ],
 "metadata": {
  "kernelspec": {
   "display_name": "Python 3 (ipykernel)",
   "language": "python",
   "name": "python3"
  },
  "language_info": {
   "codemirror_mode": {
    "name": "ipython",
    "version": 3
   },
   "file_extension": ".py",
   "mimetype": "text/x-python",
   "name": "python",
   "nbconvert_exporter": "python",
   "pygments_lexer": "ipython3",
   "version": "3.10.8"
  }
 },
 "nbformat": 4,
 "nbformat_minor": 5
}
