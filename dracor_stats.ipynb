{
 "cells": [
  {
   "cell_type": "code",
   "execution_count": 1,
   "id": "04bf817f",
   "metadata": {},
   "outputs": [],
   "source": [
    "import pandas as pd\n",
    "import plotly.express as px"
   ]
  },
  {
   "cell_type": "code",
   "execution_count": 2,
   "id": "aa134970",
   "metadata": {},
   "outputs": [
    {
     "data": {
      "text/plain": [
       "Index(['name', 'id', 'wikidataId', 'firstAuthor', 'numOfCoAuthors', 'title',\n",
       "       'subtitle', 'normalizedGenre', 'digitalSource',\n",
       "       'originalSourcePublisher', 'originalSourcePubPlace',\n",
       "       'originalSourceYear', 'originalSourceNumberOfPages', 'yearNormalized',\n",
       "       'size', 'libretto', 'averageClustering', 'density', 'averagePathLength',\n",
       "       'maxDegreeIds', 'averageDegree', 'diameter', 'yearPremiered',\n",
       "       'yearPrinted', 'maxDegree', 'numOfSpeakers', 'numOfSpeakersFemale',\n",
       "       'numOfSpeakersMale', 'numOfSpeakersUnknown', 'numPersonGroups',\n",
       "       'numConnectedComponents', 'numEdges', 'yearWritten', 'numOfSegments',\n",
       "       'wikipediaLinkCount', 'numOfActs', 'wordCountText', 'wordCountSp',\n",
       "       'wordCountStage', 'numOfP', 'numOfL', 'firstAuthorFirstname',\n",
       "       'firstAuthorGender', 'BDSL_autortitel', 'BDSL_autor'],\n",
       "      dtype='object')"
      ]
     },
     "execution_count": 2,
     "metadata": {},
     "output_type": "execute_result"
    }
   ],
   "source": [
    "df = pd.read_csv(\"gerdracor-metadata.csv\", sep=\";\", encoding=\"utf-8\", index_col=0)\n",
    "df.columns"
   ]
  },
  {
   "cell_type": "code",
   "execution_count": 12,
   "id": "0d1ac0ae",
   "metadata": {},
   "outputs": [
    {
     "data": {
      "application/vnd.plotly.v1+json": {
       "config": {
        "plotlyServerURL": "https://plot.ly"
       },
       "data": [
        {
         "alignmentgroup": "True",
         "bingroup": "x",
         "hovertemplate": "firstAuthorGender=male<br>yearNormalized=%{x}<br>count=%{y}<extra></extra>",
         "legendgroup": "male",
         "marker": {
          "color": "#636efa",
          "pattern": {
           "shape": ""
          }
         },
         "name": "male",
         "offsetgroup": "male",
         "orientation": "v",
         "showlegend": true,
         "type": "histogram",
         "x": [
          1919,
          1888,
          1890,
          1765,
          1835,
          1877,
          1874,
          1871,
          1870,
          1872,
          1885,
          1811,
          1811,
          1811,
          1826,
          1781,
          1919,
          1769,
          1790,
          1813,
          1817,
          1808,
          1909,
          1911,
          1926,
          1835,
          1846,
          1842,
          1823,
          1828,
          1839,
          1850,
          1849,
          1842,
          1801,
          1816,
          1813,
          1903,
          1889,
          1888,
          1898,
          1778,
          1947,
          1741,
          1919,
          1921,
          1856,
          1775,
          1785,
          1779,
          1834,
          1835,
          1768,
          1758,
          1814,
          1803,
          1781,
          1835,
          1838,
          1837,
          1788,
          1884,
          1920,
          1917,
          1818,
          1919,
          1930,
          1805,
          1802,
          1858,
          1811,
          1758,
          1760,
          1910,
          1917,
          1911,
          1819,
          1836,
          1833,
          1800,
          1843,
          1830,
          1833,
          1776,
          1914,
          1895,
          1920,
          1924,
          1923,
          1912,
          1912,
          1914,
          1810,
          1808,
          1810,
          1848,
          1852,
          1848,
          1880,
          1828,
          1745,
          1747,
          1779,
          1906,
          1768,
          1762,
          1821,
          1774,
          1778,
          1793,
          1791,
          1778,
          1815,
          1768,
          1776,
          1803,
          1812,
          1788,
          1775,
          1832,
          1808,
          1775,
          1774,
          1773,
          1787,
          1810,
          1778,
          1773,
          1776,
          1790,
          1775,
          1798,
          1775,
          1741,
          1731,
          1838,
          1829,
          1835,
          1827,
          1829,
          1830,
          1831,
          1827,
          1821,
          1834,
          1831,
          1817,
          1821,
          1851,
          1848,
          1828,
          1825,
          1848,
          1821,
          1818,
          1838,
          1658,
          1657,
          1650,
          1651,
          1650,
          1650,
          1659,
          1660,
          1844,
          1839,
          1846,
          1844,
          1874,
          1764,
          1763,
          1842,
          1896,
          1893,
          1898,
          1914,
          1909,
          1913,
          1900,
          1909,
          1917,
          1909,
          1918,
          1916,
          1911,
          1896,
          1912,
          1889,
          1852,
          1864,
          1847,
          1861,
          1849,
          1843,
          1856,
          1849,
          1840,
          1861,
          1844,
          1861,
          1847,
          1821,
          1823,
          1929,
          1912,
          1799,
          1822,
          1911,
          1791,
          1783,
          1865,
          1883,
          1765,
          1894,
          1928,
          1912,
          1899,
          1922,
          1899,
          1911,
          1920,
          1901,
          1894,
          1924,
          1923,
          1898,
          1919,
          1903,
          1911,
          1906,
          1825,
          1832,
          1914,
          1904,
          1890,
          1908,
          1896,
          1931,
          1932,
          1819,
          1802,
          1796,
          1785,
          1790,
          1814,
          1784,
          1835,
          1832,
          1832,
          1832,
          1832,
          1777,
          1917,
          1845,
          1917,
          1847,
          1844,
          1921,
          1922,
          1802,
          1821,
          1807,
          1810,
          1808,
          1803,
          1808,
          1808,
          1810,
          1767,
          1765,
          1812,
          1775,
          1776,
          1776,
          1780,
          1776,
          1777,
          1757,
          1769,
          1847,
          1812,
          1812,
          1804,
          1812,
          1817,
          1799,
          1814,
          1815,
          1791,
          1801,
          1801,
          1802,
          1789,
          1794,
          1794,
          1805,
          1788,
          1803,
          1791,
          1797,
          1919,
          1923,
          1747,
          1743,
          1897,
          1767,
          1879,
          1873,
          1859,
          1846,
          1845,
          1841,
          1844,
          1890,
          1911,
          1908,
          1904,
          1774,
          1774,
          1776,
          1776,
          1774,
          1774,
          1775,
          1776,
          1747,
          1755,
          1748,
          1755,
          1755,
          1749,
          1754,
          1772,
          1767,
          1755,
          1779,
          1759,
          1846,
          1842,
          1837,
          1850,
          1854,
          1778,
          1781,
          1820,
          1835,
          1906,
          1818,
          1813,
          1776,
          1777,
          1763,
          1781,
          1875,
          1875,
          1849,
          1862,
          1859,
          1921,
          1928,
          1812,
          1813,
          1817,
          1921,
          1749,
          1837,
          1841,
          1833,
          1843,
          1846,
          1844,
          1842,
          1835,
          1848,
          1849,
          1835,
          1841,
          1895,
          1898,
          1756,
          1824,
          1829,
          1826,
          1845,
          1745,
          1826,
          1828,
          1823,
          1824,
          1834,
          1828,
          1829,
          1827,
          1802,
          1829,
          1825,
          1816,
          1850,
          1696,
          1700,
          1695,
          1819,
          1847,
          1898,
          1867,
          1899,
          1902,
          1919,
          1895,
          1549,
          1794,
          1898,
          1904,
          1904,
          1904,
          1904,
          1904,
          1904,
          1897,
          1904,
          1904,
          1904,
          1904,
          1897,
          1904,
          1904,
          1904,
          1904,
          1904,
          1904,
          1904,
          1904,
          1791,
          1808,
          1803,
          1801,
          1799,
          1781,
          1782,
          1787,
          1784,
          1800,
          1798,
          1799,
          1804,
          1782,
          1778,
          1892,
          1802,
          1746,
          1743,
          1748,
          1747,
          1802,
          1885,
          1893,
          1891,
          1910,
          1904,
          1899,
          1903,
          1904,
          1902,
          1902,
          1924,
          1909,
          1902,
          1895,
          1902,
          1912,
          1903,
          1906,
          1854,
          1914,
          1884,
          1784,
          1784,
          1800,
          1848,
          1813,
          1808,
          1807,
          1846,
          1797,
          1812,
          1805,
          1912,
          1924,
          1911,
          1904,
          1786,
          1782,
          1787,
          1786,
          1914,
          1914,
          1911,
          1889,
          1894,
          1893,
          1905,
          1902,
          1901,
          1910,
          1911,
          1912,
          1908,
          1797,
          1797,
          1800,
          1797,
          1800,
          1799,
          1797,
          1780,
          1799,
          1818,
          1819,
          1843,
          1862,
          1823,
          1853,
          1843,
          1776,
          1868,
          1775,
          1853,
          1853,
          1850,
          1877,
          1853,
          1845,
          1859,
          1778,
          1899,
          1900,
          1902,
          1908,
          1895,
          1912,
          1899,
          1891,
          1904,
          1902,
          1908,
          1906,
          1796,
          1775,
          1682,
          1766,
          1770,
          1809,
          1874,
          1897,
          1773,
          1760,
          1758,
          1889,
          1872,
          1890,
          1881,
          1888,
          1914,
          1918,
          1913,
          1828,
          1839,
          1836,
          1835,
          1825,
          1795
         ],
         "xaxis": "x",
         "yaxis": "y"
        },
        {
         "alignmentgroup": "True",
         "bingroup": "x",
         "hovertemplate": "firstAuthorGender=unknown<br>yearNormalized=%{x}<br>count=%{y}<extra></extra>",
         "legendgroup": "unknown",
         "marker": {
          "color": "#EF553B",
          "pattern": {
           "shape": ""
          }
         },
         "name": "unknown",
         "offsetgroup": "unknown",
         "orientation": "v",
         "showlegend": true,
         "type": "histogram",
         "x": [
          1779,
          1858,
          1925,
          1927,
          1767
         ],
         "xaxis": "x",
         "yaxis": "y"
        },
        {
         "alignmentgroup": "True",
         "bingroup": "x",
         "hovertemplate": "firstAuthorGender=female<br>yearNormalized=%{x}<br>count=%{y}<extra></extra>",
         "legendgroup": "female",
         "marker": {
          "color": "#00cc96",
          "pattern": {
           "shape": ""
          }
         },
         "name": "female",
         "offsetgroup": "female",
         "orientation": "v",
         "showlegend": true,
         "type": "histogram",
         "x": [
          1856,
          1830,
          1865,
          1835,
          1829,
          1849,
          1913,
          1871,
          1823,
          1823,
          1879,
          1878,
          1874,
          1915,
          1840,
          1869,
          1745,
          1745,
          1736,
          1805,
          1805,
          1805,
          1905,
          1871,
          1909,
          1754,
          1736,
          1737,
          1734,
          1904,
          1817,
          1821,
          1811,
          1813,
          1821,
          1893
         ],
         "xaxis": "x",
         "yaxis": "y"
        }
       ],
       "layout": {
        "barmode": "relative",
        "legend": {
         "title": {
          "text": "firstAuthorGender"
         },
         "tracegroupgap": 0
        },
        "margin": {
         "t": 60
        },
        "template": {
         "data": {
          "bar": [
           {
            "error_x": {
             "color": "#2a3f5f"
            },
            "error_y": {
             "color": "#2a3f5f"
            },
            "marker": {
             "line": {
              "color": "#E5ECF6",
              "width": 0.5
             },
             "pattern": {
              "fillmode": "overlay",
              "size": 10,
              "solidity": 0.2
             }
            },
            "type": "bar"
           }
          ],
          "barpolar": [
           {
            "marker": {
             "line": {
              "color": "#E5ECF6",
              "width": 0.5
             },
             "pattern": {
              "fillmode": "overlay",
              "size": 10,
              "solidity": 0.2
             }
            },
            "type": "barpolar"
           }
          ],
          "carpet": [
           {
            "aaxis": {
             "endlinecolor": "#2a3f5f",
             "gridcolor": "white",
             "linecolor": "white",
             "minorgridcolor": "white",
             "startlinecolor": "#2a3f5f"
            },
            "baxis": {
             "endlinecolor": "#2a3f5f",
             "gridcolor": "white",
             "linecolor": "white",
             "minorgridcolor": "white",
             "startlinecolor": "#2a3f5f"
            },
            "type": "carpet"
           }
          ],
          "choropleth": [
           {
            "colorbar": {
             "outlinewidth": 0,
             "ticks": ""
            },
            "type": "choropleth"
           }
          ],
          "contour": [
           {
            "colorbar": {
             "outlinewidth": 0,
             "ticks": ""
            },
            "colorscale": [
             [
              0,
              "#0d0887"
             ],
             [
              0.1111111111111111,
              "#46039f"
             ],
             [
              0.2222222222222222,
              "#7201a8"
             ],
             [
              0.3333333333333333,
              "#9c179e"
             ],
             [
              0.4444444444444444,
              "#bd3786"
             ],
             [
              0.5555555555555556,
              "#d8576b"
             ],
             [
              0.6666666666666666,
              "#ed7953"
             ],
             [
              0.7777777777777778,
              "#fb9f3a"
             ],
             [
              0.8888888888888888,
              "#fdca26"
             ],
             [
              1,
              "#f0f921"
             ]
            ],
            "type": "contour"
           }
          ],
          "contourcarpet": [
           {
            "colorbar": {
             "outlinewidth": 0,
             "ticks": ""
            },
            "type": "contourcarpet"
           }
          ],
          "heatmap": [
           {
            "colorbar": {
             "outlinewidth": 0,
             "ticks": ""
            },
            "colorscale": [
             [
              0,
              "#0d0887"
             ],
             [
              0.1111111111111111,
              "#46039f"
             ],
             [
              0.2222222222222222,
              "#7201a8"
             ],
             [
              0.3333333333333333,
              "#9c179e"
             ],
             [
              0.4444444444444444,
              "#bd3786"
             ],
             [
              0.5555555555555556,
              "#d8576b"
             ],
             [
              0.6666666666666666,
              "#ed7953"
             ],
             [
              0.7777777777777778,
              "#fb9f3a"
             ],
             [
              0.8888888888888888,
              "#fdca26"
             ],
             [
              1,
              "#f0f921"
             ]
            ],
            "type": "heatmap"
           }
          ],
          "heatmapgl": [
           {
            "colorbar": {
             "outlinewidth": 0,
             "ticks": ""
            },
            "colorscale": [
             [
              0,
              "#0d0887"
             ],
             [
              0.1111111111111111,
              "#46039f"
             ],
             [
              0.2222222222222222,
              "#7201a8"
             ],
             [
              0.3333333333333333,
              "#9c179e"
             ],
             [
              0.4444444444444444,
              "#bd3786"
             ],
             [
              0.5555555555555556,
              "#d8576b"
             ],
             [
              0.6666666666666666,
              "#ed7953"
             ],
             [
              0.7777777777777778,
              "#fb9f3a"
             ],
             [
              0.8888888888888888,
              "#fdca26"
             ],
             [
              1,
              "#f0f921"
             ]
            ],
            "type": "heatmapgl"
           }
          ],
          "histogram": [
           {
            "marker": {
             "pattern": {
              "fillmode": "overlay",
              "size": 10,
              "solidity": 0.2
             }
            },
            "type": "histogram"
           }
          ],
          "histogram2d": [
           {
            "colorbar": {
             "outlinewidth": 0,
             "ticks": ""
            },
            "colorscale": [
             [
              0,
              "#0d0887"
             ],
             [
              0.1111111111111111,
              "#46039f"
             ],
             [
              0.2222222222222222,
              "#7201a8"
             ],
             [
              0.3333333333333333,
              "#9c179e"
             ],
             [
              0.4444444444444444,
              "#bd3786"
             ],
             [
              0.5555555555555556,
              "#d8576b"
             ],
             [
              0.6666666666666666,
              "#ed7953"
             ],
             [
              0.7777777777777778,
              "#fb9f3a"
             ],
             [
              0.8888888888888888,
              "#fdca26"
             ],
             [
              1,
              "#f0f921"
             ]
            ],
            "type": "histogram2d"
           }
          ],
          "histogram2dcontour": [
           {
            "colorbar": {
             "outlinewidth": 0,
             "ticks": ""
            },
            "colorscale": [
             [
              0,
              "#0d0887"
             ],
             [
              0.1111111111111111,
              "#46039f"
             ],
             [
              0.2222222222222222,
              "#7201a8"
             ],
             [
              0.3333333333333333,
              "#9c179e"
             ],
             [
              0.4444444444444444,
              "#bd3786"
             ],
             [
              0.5555555555555556,
              "#d8576b"
             ],
             [
              0.6666666666666666,
              "#ed7953"
             ],
             [
              0.7777777777777778,
              "#fb9f3a"
             ],
             [
              0.8888888888888888,
              "#fdca26"
             ],
             [
              1,
              "#f0f921"
             ]
            ],
            "type": "histogram2dcontour"
           }
          ],
          "mesh3d": [
           {
            "colorbar": {
             "outlinewidth": 0,
             "ticks": ""
            },
            "type": "mesh3d"
           }
          ],
          "parcoords": [
           {
            "line": {
             "colorbar": {
              "outlinewidth": 0,
              "ticks": ""
             }
            },
            "type": "parcoords"
           }
          ],
          "pie": [
           {
            "automargin": true,
            "type": "pie"
           }
          ],
          "scatter": [
           {
            "fillpattern": {
             "fillmode": "overlay",
             "size": 10,
             "solidity": 0.2
            },
            "type": "scatter"
           }
          ],
          "scatter3d": [
           {
            "line": {
             "colorbar": {
              "outlinewidth": 0,
              "ticks": ""
             }
            },
            "marker": {
             "colorbar": {
              "outlinewidth": 0,
              "ticks": ""
             }
            },
            "type": "scatter3d"
           }
          ],
          "scattercarpet": [
           {
            "marker": {
             "colorbar": {
              "outlinewidth": 0,
              "ticks": ""
             }
            },
            "type": "scattercarpet"
           }
          ],
          "scattergeo": [
           {
            "marker": {
             "colorbar": {
              "outlinewidth": 0,
              "ticks": ""
             }
            },
            "type": "scattergeo"
           }
          ],
          "scattergl": [
           {
            "marker": {
             "colorbar": {
              "outlinewidth": 0,
              "ticks": ""
             }
            },
            "type": "scattergl"
           }
          ],
          "scattermapbox": [
           {
            "marker": {
             "colorbar": {
              "outlinewidth": 0,
              "ticks": ""
             }
            },
            "type": "scattermapbox"
           }
          ],
          "scatterpolar": [
           {
            "marker": {
             "colorbar": {
              "outlinewidth": 0,
              "ticks": ""
             }
            },
            "type": "scatterpolar"
           }
          ],
          "scatterpolargl": [
           {
            "marker": {
             "colorbar": {
              "outlinewidth": 0,
              "ticks": ""
             }
            },
            "type": "scatterpolargl"
           }
          ],
          "scatterternary": [
           {
            "marker": {
             "colorbar": {
              "outlinewidth": 0,
              "ticks": ""
             }
            },
            "type": "scatterternary"
           }
          ],
          "surface": [
           {
            "colorbar": {
             "outlinewidth": 0,
             "ticks": ""
            },
            "colorscale": [
             [
              0,
              "#0d0887"
             ],
             [
              0.1111111111111111,
              "#46039f"
             ],
             [
              0.2222222222222222,
              "#7201a8"
             ],
             [
              0.3333333333333333,
              "#9c179e"
             ],
             [
              0.4444444444444444,
              "#bd3786"
             ],
             [
              0.5555555555555556,
              "#d8576b"
             ],
             [
              0.6666666666666666,
              "#ed7953"
             ],
             [
              0.7777777777777778,
              "#fb9f3a"
             ],
             [
              0.8888888888888888,
              "#fdca26"
             ],
             [
              1,
              "#f0f921"
             ]
            ],
            "type": "surface"
           }
          ],
          "table": [
           {
            "cells": {
             "fill": {
              "color": "#EBF0F8"
             },
             "line": {
              "color": "white"
             }
            },
            "header": {
             "fill": {
              "color": "#C8D4E3"
             },
             "line": {
              "color": "white"
             }
            },
            "type": "table"
           }
          ]
         },
         "layout": {
          "annotationdefaults": {
           "arrowcolor": "#2a3f5f",
           "arrowhead": 0,
           "arrowwidth": 1
          },
          "autotypenumbers": "strict",
          "coloraxis": {
           "colorbar": {
            "outlinewidth": 0,
            "ticks": ""
           }
          },
          "colorscale": {
           "diverging": [
            [
             0,
             "#8e0152"
            ],
            [
             0.1,
             "#c51b7d"
            ],
            [
             0.2,
             "#de77ae"
            ],
            [
             0.3,
             "#f1b6da"
            ],
            [
             0.4,
             "#fde0ef"
            ],
            [
             0.5,
             "#f7f7f7"
            ],
            [
             0.6,
             "#e6f5d0"
            ],
            [
             0.7,
             "#b8e186"
            ],
            [
             0.8,
             "#7fbc41"
            ],
            [
             0.9,
             "#4d9221"
            ],
            [
             1,
             "#276419"
            ]
           ],
           "sequential": [
            [
             0,
             "#0d0887"
            ],
            [
             0.1111111111111111,
             "#46039f"
            ],
            [
             0.2222222222222222,
             "#7201a8"
            ],
            [
             0.3333333333333333,
             "#9c179e"
            ],
            [
             0.4444444444444444,
             "#bd3786"
            ],
            [
             0.5555555555555556,
             "#d8576b"
            ],
            [
             0.6666666666666666,
             "#ed7953"
            ],
            [
             0.7777777777777778,
             "#fb9f3a"
            ],
            [
             0.8888888888888888,
             "#fdca26"
            ],
            [
             1,
             "#f0f921"
            ]
           ],
           "sequentialminus": [
            [
             0,
             "#0d0887"
            ],
            [
             0.1111111111111111,
             "#46039f"
            ],
            [
             0.2222222222222222,
             "#7201a8"
            ],
            [
             0.3333333333333333,
             "#9c179e"
            ],
            [
             0.4444444444444444,
             "#bd3786"
            ],
            [
             0.5555555555555556,
             "#d8576b"
            ],
            [
             0.6666666666666666,
             "#ed7953"
            ],
            [
             0.7777777777777778,
             "#fb9f3a"
            ],
            [
             0.8888888888888888,
             "#fdca26"
            ],
            [
             1,
             "#f0f921"
            ]
           ]
          },
          "colorway": [
           "#636efa",
           "#EF553B",
           "#00cc96",
           "#ab63fa",
           "#FFA15A",
           "#19d3f3",
           "#FF6692",
           "#B6E880",
           "#FF97FF",
           "#FECB52"
          ],
          "font": {
           "color": "#2a3f5f"
          },
          "geo": {
           "bgcolor": "white",
           "lakecolor": "white",
           "landcolor": "#E5ECF6",
           "showlakes": true,
           "showland": true,
           "subunitcolor": "white"
          },
          "hoverlabel": {
           "align": "left"
          },
          "hovermode": "closest",
          "mapbox": {
           "style": "light"
          },
          "paper_bgcolor": "white",
          "plot_bgcolor": "#E5ECF6",
          "polar": {
           "angularaxis": {
            "gridcolor": "white",
            "linecolor": "white",
            "ticks": ""
           },
           "bgcolor": "#E5ECF6",
           "radialaxis": {
            "gridcolor": "white",
            "linecolor": "white",
            "ticks": ""
           }
          },
          "scene": {
           "xaxis": {
            "backgroundcolor": "#E5ECF6",
            "gridcolor": "white",
            "gridwidth": 2,
            "linecolor": "white",
            "showbackground": true,
            "ticks": "",
            "zerolinecolor": "white"
           },
           "yaxis": {
            "backgroundcolor": "#E5ECF6",
            "gridcolor": "white",
            "gridwidth": 2,
            "linecolor": "white",
            "showbackground": true,
            "ticks": "",
            "zerolinecolor": "white"
           },
           "zaxis": {
            "backgroundcolor": "#E5ECF6",
            "gridcolor": "white",
            "gridwidth": 2,
            "linecolor": "white",
            "showbackground": true,
            "ticks": "",
            "zerolinecolor": "white"
           }
          },
          "shapedefaults": {
           "line": {
            "color": "#2a3f5f"
           }
          },
          "ternary": {
           "aaxis": {
            "gridcolor": "white",
            "linecolor": "white",
            "ticks": ""
           },
           "baxis": {
            "gridcolor": "white",
            "linecolor": "white",
            "ticks": ""
           },
           "bgcolor": "#E5ECF6",
           "caxis": {
            "gridcolor": "white",
            "linecolor": "white",
            "ticks": ""
           }
          },
          "title": {
           "x": 0.05
          },
          "xaxis": {
           "automargin": true,
           "gridcolor": "white",
           "linecolor": "white",
           "ticks": "",
           "title": {
            "standoff": 15
           },
           "zerolinecolor": "white",
           "zerolinewidth": 2
          },
          "yaxis": {
           "automargin": true,
           "gridcolor": "white",
           "linecolor": "white",
           "ticks": "",
           "title": {
            "standoff": 15
           },
           "zerolinecolor": "white",
           "zerolinewidth": 2
          }
         }
        },
        "xaxis": {
         "anchor": "y",
         "domain": [
          0,
          1
         ],
         "title": {
          "text": "yearNormalized"
         }
        },
        "yaxis": {
         "anchor": "x",
         "domain": [
          0,
          1
         ],
         "title": {
          "text": "count"
         }
        }
       }
      },
      "text/html": [
       "<div>                            <div id=\"a9131e12-2ef4-41e3-acb8-70c5b25241ad\" class=\"plotly-graph-div\" style=\"height:525px; width:100%;\"></div>            <script type=\"text/javascript\">                require([\"plotly\"], function(Plotly) {                    window.PLOTLYENV=window.PLOTLYENV || {};                                    if (document.getElementById(\"a9131e12-2ef4-41e3-acb8-70c5b25241ad\")) {                    Plotly.newPlot(                        \"a9131e12-2ef4-41e3-acb8-70c5b25241ad\",                        [{\"alignmentgroup\":\"True\",\"bingroup\":\"x\",\"hovertemplate\":\"firstAuthorGender=male<br>yearNormalized=%{x}<br>count=%{y}<extra></extra>\",\"legendgroup\":\"male\",\"marker\":{\"color\":\"#636efa\",\"pattern\":{\"shape\":\"\"}},\"name\":\"male\",\"offsetgroup\":\"male\",\"orientation\":\"v\",\"showlegend\":true,\"x\":[1919,1888,1890,1765,1835,1877,1874,1871,1870,1872,1885,1811,1811,1811,1826,1781,1919,1769,1790,1813,1817,1808,1909,1911,1926,1835,1846,1842,1823,1828,1839,1850,1849,1842,1801,1816,1813,1903,1889,1888,1898,1778,1947,1741,1919,1921,1856,1775,1785,1779,1834,1835,1768,1758,1814,1803,1781,1835,1838,1837,1788,1884,1920,1917,1818,1919,1930,1805,1802,1858,1811,1758,1760,1910,1917,1911,1819,1836,1833,1800,1843,1830,1833,1776,1914,1895,1920,1924,1923,1912,1912,1914,1810,1808,1810,1848,1852,1848,1880,1828,1745,1747,1779,1906,1768,1762,1821,1774,1778,1793,1791,1778,1815,1768,1776,1803,1812,1788,1775,1832,1808,1775,1774,1773,1787,1810,1778,1773,1776,1790,1775,1798,1775,1741,1731,1838,1829,1835,1827,1829,1830,1831,1827,1821,1834,1831,1817,1821,1851,1848,1828,1825,1848,1821,1818,1838,1658,1657,1650,1651,1650,1650,1659,1660,1844,1839,1846,1844,1874,1764,1763,1842,1896,1893,1898,1914,1909,1913,1900,1909,1917,1909,1918,1916,1911,1896,1912,1889,1852,1864,1847,1861,1849,1843,1856,1849,1840,1861,1844,1861,1847,1821,1823,1929,1912,1799,1822,1911,1791,1783,1865,1883,1765,1894,1928,1912,1899,1922,1899,1911,1920,1901,1894,1924,1923,1898,1919,1903,1911,1906,1825,1832,1914,1904,1890,1908,1896,1931,1932,1819,1802,1796,1785,1790,1814,1784,1835,1832,1832,1832,1832,1777,1917,1845,1917,1847,1844,1921,1922,1802,1821,1807,1810,1808,1803,1808,1808,1810,1767,1765,1812,1775,1776,1776,1780,1776,1777,1757,1769,1847,1812,1812,1804,1812,1817,1799,1814,1815,1791,1801,1801,1802,1789,1794,1794,1805,1788,1803,1791,1797,1919,1923,1747,1743,1897,1767,1879,1873,1859,1846,1845,1841,1844,1890,1911,1908,1904,1774,1774,1776,1776,1774,1774,1775,1776,1747,1755,1748,1755,1755,1749,1754,1772,1767,1755,1779,1759,1846,1842,1837,1850,1854,1778,1781,1820,1835,1906,1818,1813,1776,1777,1763,1781,1875,1875,1849,1862,1859,1921,1928,1812,1813,1817,1921,1749,1837,1841,1833,1843,1846,1844,1842,1835,1848,1849,1835,1841,1895,1898,1756,1824,1829,1826,1845,1745,1826,1828,1823,1824,1834,1828,1829,1827,1802,1829,1825,1816,1850,1696,1700,1695,1819,1847,1898,1867,1899,1902,1919,1895,1549,1794,1898,1904,1904,1904,1904,1904,1904,1897,1904,1904,1904,1904,1897,1904,1904,1904,1904,1904,1904,1904,1904,1791,1808,1803,1801,1799,1781,1782,1787,1784,1800,1798,1799,1804,1782,1778,1892,1802,1746,1743,1748,1747,1802,1885,1893,1891,1910,1904,1899,1903,1904,1902,1902,1924,1909,1902,1895,1902,1912,1903,1906,1854,1914,1884,1784,1784,1800,1848,1813,1808,1807,1846,1797,1812,1805,1912,1924,1911,1904,1786,1782,1787,1786,1914,1914,1911,1889,1894,1893,1905,1902,1901,1910,1911,1912,1908,1797,1797,1800,1797,1800,1799,1797,1780,1799,1818,1819,1843,1862,1823,1853,1843,1776,1868,1775,1853,1853,1850,1877,1853,1845,1859,1778,1899,1900,1902,1908,1895,1912,1899,1891,1904,1902,1908,1906,1796,1775,1682,1766,1770,1809,1874,1897,1773,1760,1758,1889,1872,1890,1881,1888,1914,1918,1913,1828,1839,1836,1835,1825,1795],\"xaxis\":\"x\",\"yaxis\":\"y\",\"type\":\"histogram\"},{\"alignmentgroup\":\"True\",\"bingroup\":\"x\",\"hovertemplate\":\"firstAuthorGender=unknown<br>yearNormalized=%{x}<br>count=%{y}<extra></extra>\",\"legendgroup\":\"unknown\",\"marker\":{\"color\":\"#EF553B\",\"pattern\":{\"shape\":\"\"}},\"name\":\"unknown\",\"offsetgroup\":\"unknown\",\"orientation\":\"v\",\"showlegend\":true,\"x\":[1779,1858,1925,1927,1767],\"xaxis\":\"x\",\"yaxis\":\"y\",\"type\":\"histogram\"},{\"alignmentgroup\":\"True\",\"bingroup\":\"x\",\"hovertemplate\":\"firstAuthorGender=female<br>yearNormalized=%{x}<br>count=%{y}<extra></extra>\",\"legendgroup\":\"female\",\"marker\":{\"color\":\"#00cc96\",\"pattern\":{\"shape\":\"\"}},\"name\":\"female\",\"offsetgroup\":\"female\",\"orientation\":\"v\",\"showlegend\":true,\"x\":[1856,1830,1865,1835,1829,1849,1913,1871,1823,1823,1879,1878,1874,1915,1840,1869,1745,1745,1736,1805,1805,1805,1905,1871,1909,1754,1736,1737,1734,1904,1817,1821,1811,1813,1821,1893],\"xaxis\":\"x\",\"yaxis\":\"y\",\"type\":\"histogram\"}],                        {\"template\":{\"data\":{\"histogram2dcontour\":[{\"type\":\"histogram2dcontour\",\"colorbar\":{\"outlinewidth\":0,\"ticks\":\"\"},\"colorscale\":[[0.0,\"#0d0887\"],[0.1111111111111111,\"#46039f\"],[0.2222222222222222,\"#7201a8\"],[0.3333333333333333,\"#9c179e\"],[0.4444444444444444,\"#bd3786\"],[0.5555555555555556,\"#d8576b\"],[0.6666666666666666,\"#ed7953\"],[0.7777777777777778,\"#fb9f3a\"],[0.8888888888888888,\"#fdca26\"],[1.0,\"#f0f921\"]]}],\"choropleth\":[{\"type\":\"choropleth\",\"colorbar\":{\"outlinewidth\":0,\"ticks\":\"\"}}],\"histogram2d\":[{\"type\":\"histogram2d\",\"colorbar\":{\"outlinewidth\":0,\"ticks\":\"\"},\"colorscale\":[[0.0,\"#0d0887\"],[0.1111111111111111,\"#46039f\"],[0.2222222222222222,\"#7201a8\"],[0.3333333333333333,\"#9c179e\"],[0.4444444444444444,\"#bd3786\"],[0.5555555555555556,\"#d8576b\"],[0.6666666666666666,\"#ed7953\"],[0.7777777777777778,\"#fb9f3a\"],[0.8888888888888888,\"#fdca26\"],[1.0,\"#f0f921\"]]}],\"heatmap\":[{\"type\":\"heatmap\",\"colorbar\":{\"outlinewidth\":0,\"ticks\":\"\"},\"colorscale\":[[0.0,\"#0d0887\"],[0.1111111111111111,\"#46039f\"],[0.2222222222222222,\"#7201a8\"],[0.3333333333333333,\"#9c179e\"],[0.4444444444444444,\"#bd3786\"],[0.5555555555555556,\"#d8576b\"],[0.6666666666666666,\"#ed7953\"],[0.7777777777777778,\"#fb9f3a\"],[0.8888888888888888,\"#fdca26\"],[1.0,\"#f0f921\"]]}],\"heatmapgl\":[{\"type\":\"heatmapgl\",\"colorbar\":{\"outlinewidth\":0,\"ticks\":\"\"},\"colorscale\":[[0.0,\"#0d0887\"],[0.1111111111111111,\"#46039f\"],[0.2222222222222222,\"#7201a8\"],[0.3333333333333333,\"#9c179e\"],[0.4444444444444444,\"#bd3786\"],[0.5555555555555556,\"#d8576b\"],[0.6666666666666666,\"#ed7953\"],[0.7777777777777778,\"#fb9f3a\"],[0.8888888888888888,\"#fdca26\"],[1.0,\"#f0f921\"]]}],\"contourcarpet\":[{\"type\":\"contourcarpet\",\"colorbar\":{\"outlinewidth\":0,\"ticks\":\"\"}}],\"contour\":[{\"type\":\"contour\",\"colorbar\":{\"outlinewidth\":0,\"ticks\":\"\"},\"colorscale\":[[0.0,\"#0d0887\"],[0.1111111111111111,\"#46039f\"],[0.2222222222222222,\"#7201a8\"],[0.3333333333333333,\"#9c179e\"],[0.4444444444444444,\"#bd3786\"],[0.5555555555555556,\"#d8576b\"],[0.6666666666666666,\"#ed7953\"],[0.7777777777777778,\"#fb9f3a\"],[0.8888888888888888,\"#fdca26\"],[1.0,\"#f0f921\"]]}],\"surface\":[{\"type\":\"surface\",\"colorbar\":{\"outlinewidth\":0,\"ticks\":\"\"},\"colorscale\":[[0.0,\"#0d0887\"],[0.1111111111111111,\"#46039f\"],[0.2222222222222222,\"#7201a8\"],[0.3333333333333333,\"#9c179e\"],[0.4444444444444444,\"#bd3786\"],[0.5555555555555556,\"#d8576b\"],[0.6666666666666666,\"#ed7953\"],[0.7777777777777778,\"#fb9f3a\"],[0.8888888888888888,\"#fdca26\"],[1.0,\"#f0f921\"]]}],\"mesh3d\":[{\"type\":\"mesh3d\",\"colorbar\":{\"outlinewidth\":0,\"ticks\":\"\"}}],\"scatter\":[{\"fillpattern\":{\"fillmode\":\"overlay\",\"size\":10,\"solidity\":0.2},\"type\":\"scatter\"}],\"parcoords\":[{\"type\":\"parcoords\",\"line\":{\"colorbar\":{\"outlinewidth\":0,\"ticks\":\"\"}}}],\"scatterpolargl\":[{\"type\":\"scatterpolargl\",\"marker\":{\"colorbar\":{\"outlinewidth\":0,\"ticks\":\"\"}}}],\"bar\":[{\"error_x\":{\"color\":\"#2a3f5f\"},\"error_y\":{\"color\":\"#2a3f5f\"},\"marker\":{\"line\":{\"color\":\"#E5ECF6\",\"width\":0.5},\"pattern\":{\"fillmode\":\"overlay\",\"size\":10,\"solidity\":0.2}},\"type\":\"bar\"}],\"scattergeo\":[{\"type\":\"scattergeo\",\"marker\":{\"colorbar\":{\"outlinewidth\":0,\"ticks\":\"\"}}}],\"scatterpolar\":[{\"type\":\"scatterpolar\",\"marker\":{\"colorbar\":{\"outlinewidth\":0,\"ticks\":\"\"}}}],\"histogram\":[{\"marker\":{\"pattern\":{\"fillmode\":\"overlay\",\"size\":10,\"solidity\":0.2}},\"type\":\"histogram\"}],\"scattergl\":[{\"type\":\"scattergl\",\"marker\":{\"colorbar\":{\"outlinewidth\":0,\"ticks\":\"\"}}}],\"scatter3d\":[{\"type\":\"scatter3d\",\"line\":{\"colorbar\":{\"outlinewidth\":0,\"ticks\":\"\"}},\"marker\":{\"colorbar\":{\"outlinewidth\":0,\"ticks\":\"\"}}}],\"scattermapbox\":[{\"type\":\"scattermapbox\",\"marker\":{\"colorbar\":{\"outlinewidth\":0,\"ticks\":\"\"}}}],\"scatterternary\":[{\"type\":\"scatterternary\",\"marker\":{\"colorbar\":{\"outlinewidth\":0,\"ticks\":\"\"}}}],\"scattercarpet\":[{\"type\":\"scattercarpet\",\"marker\":{\"colorbar\":{\"outlinewidth\":0,\"ticks\":\"\"}}}],\"carpet\":[{\"aaxis\":{\"endlinecolor\":\"#2a3f5f\",\"gridcolor\":\"white\",\"linecolor\":\"white\",\"minorgridcolor\":\"white\",\"startlinecolor\":\"#2a3f5f\"},\"baxis\":{\"endlinecolor\":\"#2a3f5f\",\"gridcolor\":\"white\",\"linecolor\":\"white\",\"minorgridcolor\":\"white\",\"startlinecolor\":\"#2a3f5f\"},\"type\":\"carpet\"}],\"table\":[{\"cells\":{\"fill\":{\"color\":\"#EBF0F8\"},\"line\":{\"color\":\"white\"}},\"header\":{\"fill\":{\"color\":\"#C8D4E3\"},\"line\":{\"color\":\"white\"}},\"type\":\"table\"}],\"barpolar\":[{\"marker\":{\"line\":{\"color\":\"#E5ECF6\",\"width\":0.5},\"pattern\":{\"fillmode\":\"overlay\",\"size\":10,\"solidity\":0.2}},\"type\":\"barpolar\"}],\"pie\":[{\"automargin\":true,\"type\":\"pie\"}]},\"layout\":{\"autotypenumbers\":\"strict\",\"colorway\":[\"#636efa\",\"#EF553B\",\"#00cc96\",\"#ab63fa\",\"#FFA15A\",\"#19d3f3\",\"#FF6692\",\"#B6E880\",\"#FF97FF\",\"#FECB52\"],\"font\":{\"color\":\"#2a3f5f\"},\"hovermode\":\"closest\",\"hoverlabel\":{\"align\":\"left\"},\"paper_bgcolor\":\"white\",\"plot_bgcolor\":\"#E5ECF6\",\"polar\":{\"bgcolor\":\"#E5ECF6\",\"angularaxis\":{\"gridcolor\":\"white\",\"linecolor\":\"white\",\"ticks\":\"\"},\"radialaxis\":{\"gridcolor\":\"white\",\"linecolor\":\"white\",\"ticks\":\"\"}},\"ternary\":{\"bgcolor\":\"#E5ECF6\",\"aaxis\":{\"gridcolor\":\"white\",\"linecolor\":\"white\",\"ticks\":\"\"},\"baxis\":{\"gridcolor\":\"white\",\"linecolor\":\"white\",\"ticks\":\"\"},\"caxis\":{\"gridcolor\":\"white\",\"linecolor\":\"white\",\"ticks\":\"\"}},\"coloraxis\":{\"colorbar\":{\"outlinewidth\":0,\"ticks\":\"\"}},\"colorscale\":{\"sequential\":[[0.0,\"#0d0887\"],[0.1111111111111111,\"#46039f\"],[0.2222222222222222,\"#7201a8\"],[0.3333333333333333,\"#9c179e\"],[0.4444444444444444,\"#bd3786\"],[0.5555555555555556,\"#d8576b\"],[0.6666666666666666,\"#ed7953\"],[0.7777777777777778,\"#fb9f3a\"],[0.8888888888888888,\"#fdca26\"],[1.0,\"#f0f921\"]],\"sequentialminus\":[[0.0,\"#0d0887\"],[0.1111111111111111,\"#46039f\"],[0.2222222222222222,\"#7201a8\"],[0.3333333333333333,\"#9c179e\"],[0.4444444444444444,\"#bd3786\"],[0.5555555555555556,\"#d8576b\"],[0.6666666666666666,\"#ed7953\"],[0.7777777777777778,\"#fb9f3a\"],[0.8888888888888888,\"#fdca26\"],[1.0,\"#f0f921\"]],\"diverging\":[[0,\"#8e0152\"],[0.1,\"#c51b7d\"],[0.2,\"#de77ae\"],[0.3,\"#f1b6da\"],[0.4,\"#fde0ef\"],[0.5,\"#f7f7f7\"],[0.6,\"#e6f5d0\"],[0.7,\"#b8e186\"],[0.8,\"#7fbc41\"],[0.9,\"#4d9221\"],[1,\"#276419\"]]},\"xaxis\":{\"gridcolor\":\"white\",\"linecolor\":\"white\",\"ticks\":\"\",\"title\":{\"standoff\":15},\"zerolinecolor\":\"white\",\"automargin\":true,\"zerolinewidth\":2},\"yaxis\":{\"gridcolor\":\"white\",\"linecolor\":\"white\",\"ticks\":\"\",\"title\":{\"standoff\":15},\"zerolinecolor\":\"white\",\"automargin\":true,\"zerolinewidth\":2},\"scene\":{\"xaxis\":{\"backgroundcolor\":\"#E5ECF6\",\"gridcolor\":\"white\",\"linecolor\":\"white\",\"showbackground\":true,\"ticks\":\"\",\"zerolinecolor\":\"white\",\"gridwidth\":2},\"yaxis\":{\"backgroundcolor\":\"#E5ECF6\",\"gridcolor\":\"white\",\"linecolor\":\"white\",\"showbackground\":true,\"ticks\":\"\",\"zerolinecolor\":\"white\",\"gridwidth\":2},\"zaxis\":{\"backgroundcolor\":\"#E5ECF6\",\"gridcolor\":\"white\",\"linecolor\":\"white\",\"showbackground\":true,\"ticks\":\"\",\"zerolinecolor\":\"white\",\"gridwidth\":2}},\"shapedefaults\":{\"line\":{\"color\":\"#2a3f5f\"}},\"annotationdefaults\":{\"arrowcolor\":\"#2a3f5f\",\"arrowhead\":0,\"arrowwidth\":1},\"geo\":{\"bgcolor\":\"white\",\"landcolor\":\"#E5ECF6\",\"subunitcolor\":\"white\",\"showland\":true,\"showlakes\":true,\"lakecolor\":\"white\"},\"title\":{\"x\":0.05},\"mapbox\":{\"style\":\"light\"}}},\"xaxis\":{\"anchor\":\"y\",\"domain\":[0.0,1.0],\"title\":{\"text\":\"yearNormalized\"}},\"yaxis\":{\"anchor\":\"x\",\"domain\":[0.0,1.0],\"title\":{\"text\":\"count\"}},\"legend\":{\"title\":{\"text\":\"firstAuthorGender\"},\"tracegroupgap\":0},\"margin\":{\"t\":60},\"barmode\":\"relative\"},                        {\"responsive\": true}                    ).then(function(){\n",
       "                            \n",
       "var gd = document.getElementById('a9131e12-2ef4-41e3-acb8-70c5b25241ad');\n",
       "var x = new MutationObserver(function (mutations, observer) {{\n",
       "        var display = window.getComputedStyle(gd).display;\n",
       "        if (!display || display === 'none') {{\n",
       "            console.log([gd, 'removed!']);\n",
       "            Plotly.purge(gd);\n",
       "            observer.disconnect();\n",
       "        }}\n",
       "}});\n",
       "\n",
       "// Listen for the removal of the full notebook cells\n",
       "var notebookContainer = gd.closest('#notebook-container');\n",
       "if (notebookContainer) {{\n",
       "    x.observe(notebookContainer, {childList: true});\n",
       "}}\n",
       "\n",
       "// Listen for the clearing of the current output cell\n",
       "var outputEl = gd.closest('.output');\n",
       "if (outputEl) {{\n",
       "    x.observe(outputEl, {childList: true});\n",
       "}}\n",
       "\n",
       "                        })                };                });            </script>        </div>"
      ]
     },
     "metadata": {},
     "output_type": "display_data"
    }
   ],
   "source": [
    "#Histogramm mit Plotly\n",
    "fig = px.histogram(df, x=\"yearNormalized\", color=\"firstAuthorGender\")\n",
    "fig.show()"
   ]
  },
  {
   "cell_type": "code",
   "execution_count": 13,
   "id": "14de1117",
   "metadata": {},
   "outputs": [],
   "source": [
    "fig.write_image(\"figures/korpus_year_barchart.png\")"
   ]
  },
  {
   "cell_type": "code",
   "execution_count": 21,
   "id": "bfbb2010",
   "metadata": {},
   "outputs": [
    {
     "data": {
      "application/vnd.plotly.v1+json": {
       "config": {
        "plotlyServerURL": "https://plot.ly"
       },
       "data": [
        {
         "alignmentgroup": "True",
         "customdata": [
          [
           "Adolph"
          ],
          [
           "Alberti"
          ],
          [
           "Alberti"
          ],
          [
           "André"
          ],
          [
           "Angely"
          ],
          [
           "Anzengruber"
          ],
          [
           "Anzengruber"
          ],
          [
           "Anzengruber"
          ],
          [
           "Anzengruber"
          ],
          [
           "Anzengruber"
          ],
          [
           "Anzengruber"
          ],
          [
           "Arnim"
          ],
          [
           "Arnim"
          ],
          [
           "Arnim"
          ],
          [
           "Arnim"
          ],
          [
           "Auenbrugger"
          ],
          [
           "Avenarius"
          ],
          [
           "Ayrenhoff"
          ],
          [
           "Ayrenhoff"
          ],
          [
           "Bäuerle"
          ],
          [
           "Bäuerle"
          ],
          [
           "Baggesen"
          ],
          [
           "Bahr"
          ],
          [
           "Ball"
          ],
          [
           "Barlach"
          ],
          [
           "Bauernfeld"
          ],
          [
           "Bauernfeld"
          ],
          [
           "Bauernfeld"
          ],
          [
           "Beer"
          ],
          [
           "Beer"
          ],
          [
           "Benedix"
          ],
          [
           "Benedix"
          ],
          [
           "Benedix"
          ],
          [
           "Benedix"
          ],
          [
           "Benkowitz"
          ],
          [
           "Bernard"
          ],
          [
           "Beyer"
          ],
          [
           "Bierbaum"
          ],
          [
           "Bleibtreu"
          ],
          [
           "Bleibtreu"
          ],
          [
           "Blumenthal"
          ],
          [
           "Bodmer"
          ],
          [
           "Borchert"
          ],
          [
           "Borkenstein"
          ],
          [
           "Boßdorf"
          ],
          [
           "Boßdorf"
          ],
          [
           "Brachvogel"
          ],
          [
           "Brandes"
          ],
          [
           "Brandes"
          ],
          [
           "Brandes"
          ],
          [
           "Braun von Braunthal"
          ],
          [
           "Braun von Braunthal"
          ],
          [
           "Brawe"
          ],
          [
           "Brawe"
          ],
          [
           "Brentano"
          ],
          [
           "Brentano"
          ],
          [
           "Bretzner"
          ],
          [
           "Büchner"
          ],
          [
           "Büchner"
          ],
          [
           "Büchner"
          ],
          [
           "Büschel"
          ],
          [
           "Bunge"
          ],
          [
           "Busoni"
          ],
          [
           "Busoni"
          ],
          [
           "Castelli"
          ],
          [
           "Chlumberg"
          ],
          [
           "Chlumberg"
          ],
          [
           "Collin"
          ],
          [
           "Collin"
          ],
          [
           "Cornelius"
          ],
          [
           "Costenoble"
          ],
          [
           "Cronegk"
          ],
          [
           "Cronegk"
          ],
          [
           "Dauthendey"
          ],
          [
           "Dehmel"
          ],
          [
           "Dehmel"
          ],
          [
           "d'Elpons"
          ],
          [
           "Devrient"
          ],
          [
           "Devrient"
          ],
          [
           "Eckartshausen"
          ],
          [
           "Eichendorff"
          ],
          [
           "Eichendorff"
          ],
          [
           "Eichendorff"
          ],
          [
           "Engel"
          ],
          [
           "Engelke"
          ],
          [
           "Ernst"
          ],
          [
           "Ertler"
          ],
          [
           "Ertler"
          ],
          [
           "Ertler"
          ],
          [
           "Essig"
          ],
          [
           "Essig"
          ],
          [
           "Fock"
          ],
          [
           "Fouqué"
          ],
          [
           "Fouqué"
          ],
          [
           "Fouqué"
          ],
          [
           "Freytag"
          ],
          [
           "Freytag"
          ],
          [
           "Freytag"
          ],
          [
           "Ganghofer"
          ],
          [
           "Gehe"
          ],
          [
           "Gellert"
          ],
          [
           "Gellert"
          ],
          [
           "Gemmingen-Hornberg"
          ],
          [
           "Gerhäuser"
          ],
          [
           "Gerstenberg"
          ],
          [
           "Gessner"
          ],
          [
           "Gleich"
          ],
          [
           "Goethe"
          ],
          [
           "Goethe"
          ],
          [
           "Goethe"
          ],
          [
           "Goethe"
          ],
          [
           "Goethe"
          ],
          [
           "Goethe"
          ],
          [
           "Goethe"
          ],
          [
           "Goethe"
          ],
          [
           "Goethe"
          ],
          [
           "Goethe"
          ],
          [
           "Goethe"
          ],
          [
           "Goethe"
          ],
          [
           "Goethe"
          ],
          [
           "Goethe"
          ],
          [
           "Goethe"
          ],
          [
           "Goethe"
          ],
          [
           "Goethe"
          ],
          [
           "Goethe"
          ],
          [
           "Goethe"
          ],
          [
           "Goethe"
          ],
          [
           "Goethe"
          ],
          [
           "Goethe"
          ],
          [
           "Goethe"
          ],
          [
           "Gotter"
          ],
          [
           "Gotter"
          ],
          [
           "Gotter"
          ],
          [
           "Gottsched"
          ],
          [
           "Gottsched"
          ],
          [
           "Grabbe"
          ],
          [
           "Grabbe"
          ],
          [
           "Grabbe"
          ],
          [
           "Grabbe"
          ],
          [
           "Grabbe"
          ],
          [
           "Grabbe"
          ],
          [
           "Grabbe"
          ],
          [
           "Grabbe"
          ],
          [
           "Grillparzer"
          ],
          [
           "Grillparzer"
          ],
          [
           "Grillparzer"
          ],
          [
           "Grillparzer"
          ],
          [
           "Grillparzer"
          ],
          [
           "Grillparzer"
          ],
          [
           "Grillparzer"
          ],
          [
           "Grillparzer"
          ],
          [
           "Grillparzer"
          ],
          [
           "Grillparzer"
          ],
          [
           "Grillparzer"
          ],
          [
           "Grillparzer"
          ],
          [
           "Grillparzer"
          ],
          [
           "Gryphius"
          ],
          [
           "Gryphius"
          ],
          [
           "Gryphius"
          ],
          [
           "Gryphius"
          ],
          [
           "Gryphius"
          ],
          [
           "Gryphius"
          ],
          [
           "Gryphius"
          ],
          [
           "Gryphius"
          ],
          [
           "Gutzkow"
          ],
          [
           "Gutzkow"
          ],
          [
           "Gutzkow"
          ],
          [
           "Gutzkow"
          ],
          [
           "Haffner"
          ],
          [
           "Hafner"
          ],
          [
           "Hafner"
          ],
          [
           "Halm"
          ],
          [
           "Hartleben"
          ],
          [
           "Hartleben"
          ],
          [
           "Hartleben"
          ],
          [
           "Hasenclever"
          ],
          [
           "Hauptmann"
          ],
          [
           "Hauptmann"
          ],
          [
           "Hauptmann"
          ],
          [
           "Hauptmann"
          ],
          [
           "Hauptmann"
          ],
          [
           "Hauptmann"
          ],
          [
           "Hauptmann"
          ],
          [
           "Hauptmann"
          ],
          [
           "Hauptmann"
          ],
          [
           "Hauptmann"
          ],
          [
           "Hauptmann"
          ],
          [
           "Hauptmann"
          ],
          [
           "Hebbel"
          ],
          [
           "Hebbel"
          ],
          [
           "Hebbel"
          ],
          [
           "Hebbel"
          ],
          [
           "Hebbel"
          ],
          [
           "Hebbel"
          ],
          [
           "Hebbel"
          ],
          [
           "Hebbel"
          ],
          [
           "Hebbel"
          ],
          [
           "Hebbel"
          ],
          [
           "Hebbel"
          ],
          [
           "Hebbel"
          ],
          [
           "Hebbel"
          ],
          [
           "Heine"
          ],
          [
           "Heine"
          ],
          [
           "Heiseler"
          ],
          [
           "Heiseler"
          ],
          [
           "Hensler"
          ],
          [
           "Herzenskron"
          ],
          [
           "Heym"
          ],
          [
           "Heyne"
          ],
          [
           "Heyne"
          ],
          [
           "Heyse"
          ],
          [
           "Heyse"
          ],
          [
           "Hippel"
          ],
          [
           "Hofmannsthal"
          ],
          [
           "Hofmannsthal"
          ],
          [
           "Hofmannsthal"
          ],
          [
           "Hofmannsthal"
          ],
          [
           "Hofmannsthal"
          ],
          [
           "Hofmannsthal"
          ],
          [
           "Hofmannsthal"
          ],
          [
           "Hofmannsthal"
          ],
          [
           "Hofmannsthal"
          ],
          [
           "Hofmannsthal"
          ],
          [
           "Hofmannsthal"
          ],
          [
           "Hofmannsthal"
          ],
          [
           "Hofmannsthal"
          ],
          [
           "Hofmannsthal"
          ],
          [
           "Hofmannsthal"
          ],
          [
           "Hofmannsthal"
          ],
          [
           "Hofmannsthal"
          ],
          [
           "Holtei"
          ],
          [
           "Holtei"
          ],
          [
           "Holz"
          ],
          [
           "Holz"
          ],
          [
           "Holz"
          ],
          [
           "Holz"
          ],
          [
           "Holz"
          ],
          [
           "Horváth"
          ],
          [
           "Horváth"
          ],
          [
           "Houwald"
          ],
          [
           "Iffland"
          ],
          [
           "Iffland"
          ],
          [
           "Iffland"
          ],
          [
           "Iffland"
          ],
          [
           "Iffland"
          ],
          [
           "Iffland"
          ],
          [
           "Immermann"
          ],
          [
           "Immermann"
          ],
          [
           "Immermann"
          ],
          [
           "Immermann"
          ],
          [
           "Immermann"
          ],
          [
           "Kaffka"
          ],
          [
           "Kafka"
          ],
          [
           "Kaiser"
          ],
          [
           "Kaiser"
          ],
          [
           "Kaiser"
          ],
          [
           "Kaiser"
          ],
          [
           "Kaltneker"
          ],
          [
           "Kaltneker"
          ],
          [
           "Kannengießer"
          ],
          [
           "Kind"
          ],
          [
           "Kleist"
          ],
          [
           "Kleist"
          ],
          [
           "Kleist"
          ],
          [
           "Kleist"
          ],
          [
           "Kleist"
          ],
          [
           "Kleist"
          ],
          [
           "Kleist"
          ],
          [
           "Klemm"
          ],
          [
           "Klemm"
          ],
          [
           "Klingemann"
          ],
          [
           "Klinger"
          ],
          [
           "Klinger"
          ],
          [
           "Klinger"
          ],
          [
           "Klinger"
          ],
          [
           "Klinger"
          ],
          [
           "Klinger"
          ],
          [
           "Klopstock"
          ],
          [
           "Klopstock"
          ],
          [
           "Kobell"
          ],
          [
           "Körner"
          ],
          [
           "Körner"
          ],
          [
           "Koller"
          ],
          [
           "Kotzebue"
          ],
          [
           "Kotzebue"
          ],
          [
           "Kotzebue"
          ],
          [
           "Kotzebue"
          ],
          [
           "Kotzebue"
          ],
          [
           "Kotzebue"
          ],
          [
           "Kotzebue"
          ],
          [
           "Kotzebue"
          ],
          [
           "Kotzebue"
          ],
          [
           "Kotzebue"
          ],
          [
           "Kotzebue"
          ],
          [
           "Kotzebue"
          ],
          [
           "Kotzebue"
          ],
          [
           "Kotzebue"
          ],
          [
           "Kotzebue"
          ],
          [
           "Kotzebue"
          ],
          [
           "Kotzebue"
          ],
          [
           "Kraus"
          ],
          [
           "Kraus"
          ],
          [
           "Krüger"
          ],
          [
           "Krüger"
          ],
          [
           "Kupelwieser"
          ],
          [
           "Kurz"
          ],
          [
           "L'Arronge"
          ],
          [
           "L'Arronge"
          ],
          [
           "Lassalle"
          ],
          [
           "Laube"
          ],
          [
           "Laube"
          ],
          [
           "Laube"
          ],
          [
           "Laube"
          ],
          [
           "Laufs"
          ],
          [
           "Lautensack"
          ],
          [
           "Lautensack"
          ],
          [
           "Lautensack"
          ],
          [
           "Leisewitz"
          ],
          [
           "Leisewitz"
          ],
          [
           "Leisewitz"
          ],
          [
           "Lenz"
          ],
          [
           "Lenz"
          ],
          [
           "Lenz"
          ],
          [
           "Lenz"
          ],
          [
           "Lenz"
          ],
          [
           "Lessing"
          ],
          [
           "Lessing"
          ],
          [
           "Lessing"
          ],
          [
           "Lessing"
          ],
          [
           "Lessing"
          ],
          [
           "Lessing"
          ],
          [
           "Lessing"
          ],
          [
           "Lessing"
          ],
          [
           "Lessing"
          ],
          [
           "Lessing"
          ],
          [
           "Lessing"
          ],
          [
           "Lessing"
          ],
          [
           "Lortzing"
          ],
          [
           "Lortzing"
          ],
          [
           "Lortzing"
          ],
          [
           "Ludwig"
          ],
          [
           "Ludwig"
          ],
          [
           "Maler Müller"
          ],
          [
           "Maler Müller"
          ],
          [
           "Malß"
          ],
          [
           "Malß"
          ],
          [
           "May"
          ],
          [
           "Meisl"
          ],
          [
           "Meisl"
          ],
          [
           "Möller"
          ],
          [
           "Möller"
          ],
          [
           "Möser"
          ],
          [
           "Moritz"
          ],
          [
           "Mosenthal"
          ],
          [
           "Mosenthal"
          ],
          [
           "Mosenthal"
          ],
          [
           "Moser"
          ],
          [
           "Moser"
          ],
          [
           "Mühsam"
          ],
          [
           "Mühsam"
          ],
          [
           "Müllner"
          ],
          [
           "Müllner"
          ],
          [
           "Müllner"
          ],
          [
           "Musil"
          ],
          [
           "Mylius"
          ],
          [
           "Nestroy"
          ],
          [
           "Nestroy"
          ],
          [
           "Nestroy"
          ],
          [
           "Nestroy"
          ],
          [
           "Nestroy"
          ],
          [
           "Nestroy"
          ],
          [
           "Nestroy"
          ],
          [
           "Nestroy"
          ],
          [
           "Nestroy"
          ],
          [
           "Nestroy"
          ],
          [
           "Nestroy"
          ],
          [
           "Niebergall"
          ],
          [
           "Panizza"
          ],
          [
           "Panizza"
          ],
          [
           "Pfeil"
          ],
          [
           "Platen"
          ],
          [
           "Platen"
          ],
          [
           "Platen"
          ],
          [
           "Prutz"
          ],
          [
           "Quistorp"
          ],
          [
           "Raimund"
          ],
          [
           "Raimund"
          ],
          [
           "Raimund"
          ],
          [
           "Raimund"
          ],
          [
           "Raimund"
          ],
          [
           "Raimund"
          ],
          [
           "Raimund"
          ],
          [
           "Raimund"
          ],
          [
           "Rambach"
          ],
          [
           "Raupach"
          ],
          [
           "Raupach"
          ],
          [
           "Reil"
          ],
          [
           "Reinick"
          ],
          [
           "Reuter"
          ],
          [
           "Reuter"
          ],
          [
           "Reuter"
          ],
          [
           "Richter"
          ],
          [
           "Riese"
          ],
          [
           "Rilke"
          ],
          [
           "Roeber"
          ],
          [
           "Rosenow"
          ],
          [
           "Rosenow"
          ],
          [
           "Rubiner"
          ],
          [
           "Ruederer"
          ],
          [
           "Sachs"
          ],
          [
           "Sander"
          ],
          [
           "Schaefer"
          ],
          [
           "Scheerbart"
          ],
          [
           "Scheerbart"
          ],
          [
           "Scheerbart"
          ],
          [
           "Scheerbart"
          ],
          [
           "Scheerbart"
          ],
          [
           "Scheerbart"
          ],
          [
           "Scheerbart"
          ],
          [
           "Scheerbart"
          ],
          [
           "Scheerbart"
          ],
          [
           "Scheerbart"
          ],
          [
           "Scheerbart"
          ],
          [
           "Scheerbart"
          ],
          [
           "Scheerbart"
          ],
          [
           "Scheerbart"
          ],
          [
           "Scheerbart"
          ],
          [
           "Scheerbart"
          ],
          [
           "Scheerbart"
          ],
          [
           "Scheerbart"
          ],
          [
           "Scheerbart"
          ],
          [
           "Scheerbart"
          ],
          [
           "Schikaneder"
          ],
          [
           "Schildbach"
          ],
          [
           "Schiller"
          ],
          [
           "Schiller"
          ],
          [
           "Schiller"
          ],
          [
           "Schiller"
          ],
          [
           "Schiller"
          ],
          [
           "Schiller"
          ],
          [
           "Schiller"
          ],
          [
           "Schiller"
          ],
          [
           "Schiller"
          ],
          [
           "Schiller"
          ],
          [
           "Schiller"
          ],
          [
           "Schink"
          ],
          [
           "Schink"
          ],
          [
           "Schlaf"
          ],
          [
           "Schlegel"
          ],
          [
           "Schlegel"
          ],
          [
           "Schlegel"
          ],
          [
           "Schlegel"
          ],
          [
           "Schlegel"
          ],
          [
           "Schlegel"
          ],
          [
           "Schnitzer"
          ],
          [
           "Schnitzler"
          ],
          [
           "Schnitzler"
          ],
          [
           "Schnitzler"
          ],
          [
           "Schnitzler"
          ],
          [
           "Schnitzler"
          ],
          [
           "Schnitzler"
          ],
          [
           "Schnitzler"
          ],
          [
           "Schnitzler"
          ],
          [
           "Schnitzler"
          ],
          [
           "Schnitzler"
          ],
          [
           "Schnitzler"
          ],
          [
           "Schnitzler"
          ],
          [
           "Schnitzler"
          ],
          [
           "Schnitzler"
          ],
          [
           "Schnitzler"
          ],
          [
           "Schnitzler"
          ],
          [
           "Schnitzler"
          ],
          [
           "Schober"
          ],
          [
           "Schönherr"
          ],
          [
           "Schönthan"
          ],
          [
           "Schouwärt"
          ],
          [
           "Schröder"
          ],
          [
           "Schütz"
          ],
          [
           "Seemann"
          ],
          [
           "Sessa"
          ],
          [
           "Seume"
          ],
          [
           "Sievers"
          ],
          [
           "Simrock"
          ],
          [
           "Soden"
          ],
          [
           "Solbrig"
          ],
          [
           "Sonnleithner"
          ],
          [
           "Sorge"
          ],
          [
           "Sorge"
          ],
          [
           "Sorge"
          ],
          [
           "Stavenhagen"
          ],
          [
           "Stephanie"
          ],
          [
           "Stephanie"
          ],
          [
           "Stephanie"
          ],
          [
           "Stephanie"
          ],
          [
           "Sternheim"
          ],
          [
           "Stramm"
          ],
          [
           "Sudermann"
          ],
          [
           "Sudermann"
          ],
          [
           "Sudermann"
          ],
          [
           "Sudermann"
          ],
          [
           "Sudermann"
          ],
          [
           "Thoma"
          ],
          [
           "Thoma"
          ],
          [
           "Thoma"
          ],
          [
           "Thoma"
          ],
          [
           "Thoma"
          ],
          [
           "Thoma"
          ],
          [
           "Tieck"
          ],
          [
           "Tieck"
          ],
          [
           "Tieck"
          ],
          [
           "Tieck"
          ],
          [
           "Tieck"
          ],
          [
           "Tieck"
          ],
          [
           "Tieck"
          ],
          [
           "Törring"
          ],
          [
           "Treitschke"
          ],
          [
           "Uhland"
          ],
          [
           "Uhland"
          ],
          [
           "Vanoni"
          ],
          [
           "Vischer"
          ],
          [
           "Voß"
          ],
          [
           "Wagner"
          ],
          [
           "Wagner"
          ],
          [
           "Wagner"
          ],
          [
           "Wagner"
          ],
          [
           "Wagner"
          ],
          [
           "Wagner"
          ],
          [
           "Wagner"
          ],
          [
           "Wagner"
          ],
          [
           "Wagner"
          ],
          [
           "Wagner"
          ],
          [
           "Wagner"
          ],
          [
           "Wagner"
          ],
          [
           "Wagner"
          ],
          [
           "Wedekind"
          ],
          [
           "Wedekind"
          ],
          [
           "Wedekind"
          ],
          [
           "Wedekind"
          ],
          [
           "Wedekind"
          ],
          [
           "Wedekind"
          ],
          [
           "Wedekind"
          ],
          [
           "Wedekind"
          ],
          [
           "Wedekind"
          ],
          [
           "Wedekind"
          ],
          [
           "Wedekind"
          ],
          [
           "Wedekind"
          ],
          [
           "Weidmann"
          ],
          [
           "Weidmann"
          ],
          [
           "Weise"
          ],
          [
           "Weiße"
          ],
          [
           "Weiße"
          ],
          [
           "Werner"
          ],
          [
           "Widmann"
          ],
          [
           "Widmann"
          ],
          [
           "Wieland"
          ],
          [
           "Wieland"
          ],
          [
           "Wieland"
          ],
          [
           "Wilbrandt"
          ],
          [
           "Wilbrandt"
          ],
          [
           "Wildenbruch"
          ],
          [
           "Wildenbruch"
          ],
          [
           "Wildenbruch"
          ],
          [
           "Wildgans"
          ],
          [
           "Wildgans"
          ],
          [
           "Wildgans"
          ],
          [
           "Wohlbrück"
          ],
          [
           "Wolfram"
          ],
          [
           "Zedlitz"
          ],
          [
           "Zedlitz"
          ],
          [
           "Zedlitz"
          ],
          [
           "Zschokke"
          ]
         ],
         "hovertemplate": "firstAuthorGender=male<br>title=%{x}<br>BDSL_autortitel=%{y}<br>firstAuthor=%{customdata[0]}<extra></extra>",
         "legendgroup": "male",
         "marker": {
          "color": "#636efa",
          "pattern": {
           "shape": ""
          }
         },
         "name": "male",
         "offsetgroup": "male",
         "orientation": "v",
         "showlegend": true,
         "textposition": "auto",
         "type": "bar",
         "x": [
          "Am ersten Mai",
          "Brot!",
          "Im Suff",
          "Der Comödienfeind",
          "Prinz Tu-Ta-Tu",
          "Das vierte Gebot",
          "Der Gwissenswurm",
          "Der Meineidbauer",
          "Der Pfarrer von Kirchfeld",
          "Die Kreuzelschreiber",
          "Heimg'funden",
          "Das Loch oder Das wiedergefundene Paradies",
          "Halle",
          "Jerusalem",
          "Marino Caboga",
          "Der Rauchfangkehrer oder Die unentbehrlichen Verräther ihrer Herrschaften aus Eigennutz",
          "Faust",
          "Der Postzug oder die noblen Passionen",
          "Virginia oder Das abgeschaffte Decemvirat",
          "Die Bürger in Wien",
          "Doktor Faust's Mantel",
          "Der vollendete Faust oder Romanien in Jauer",
          "Das Konzert",
          "Die Nase des Michelangelo",
          "Der blaue Boll",
          "Bürgerlich und Romantisch",
          "Großjährig",
          "Industrie und Herz",
          "Der Paria",
          "Struensee",
          "Das bemooste Haupt oder Der lange Israël",
          "Die Hochzeitsreise",
          "Die Lügnerin",
          "Doctor Wespe",
          "Die Jubelfeier der Hölle, oder Faust der jüngere",
          "Faust",
          "Der Hausherr in der Klemme",
          "Stella und Antonie",
          "Ein Faust der That",
          "Weltgericht",
          "Im weißen Rößl",
          "Odoardo Galotti, Vater der Emilia",
          "Draußen vor der Tür",
          "Der Bookesbeutel",
          "Bahnmeister Dood",
          "De rode Ünnerrock",
          "Narziß",
          "Ariadne auf Naxos",
          "Hans von Zanow oder: Der Landjunker in Berlin",
          "Ino",
          "Das Nachtlager von Granada",
          "Faust",
          "Brutus",
          "Der Freigeist",
          "Die Gründung Prags",
          "Ponce de Leon",
          "Belmont und Constanze oder Die Entführung aus dem Serail",
          "Dantons Tod",
          "Leonce und Lena",
          "Woyzeck",
          "Die neue Messaline",
          "Der Trompeter von Säkkingen",
          "Doktor Faust",
          "Turandot",
          "Der Schicksalsstrumpf",
          "Die Führer",
          "Wunder um Verdun",
          "Balboa",
          "Coriolan",
          "Der Barbier von Bagdad",
          "Die Katze läßt das Mausen nicht",
          "Codrus",
          "Der Mißtrauische",
          "Die Spielereien einer Kaiserin",
          "Die Menschenfreunde",
          "Michel Michael",
          "Der Ahnherr",
          "Die Gunst des Augenblicks",
          "Hans Heiling",
          "Der Pudelhund",
          "Das Incognito oder Die mehreren Könige oder Alt und Neu",
          "Der letzte Held von Marienburg",
          "Die Freier",
          "Eid und Pflicht",
          "Wala",
          "Die größte Sünde",
          "Anna Iwanowna",
          "Belian und Marpalye",
          "Das Spiel von Doktor Faust",
          "Der Frauenmut",
          "Überteufel",
          "Cili Cohrs",
          "Aslauga",
          "Sigurd, der Schlangentödter",
          "Sigurds Rache",
          "Der Gelehrte",
          "Die Journalisten",
          "Graf Waldemar",
          "Der Herrgottschnitzer von Ammergau",
          "Jessonda",
          "Die Betschwester",
          "Die zärtlichen Schwestern",
          "Der deutsche Hausvater oder die Familie",
          "Der Moloch",
          "Ugolino",
          "Evander und Alcimna",
          "Der Eheteufel auf Reisen",
          "Clavigo",
          "Das Jahrmarktsfest zu Plundersweilern",
          "Der Bürgergeneral",
          "Der Großkophta",
          "Der Triumph der Empfindsamkeit",
          "Des Epimenides Erwachen",
          "Die Laune des Verliebten",
          "Die Mitschuldigen",
          "Die natürliche Tochter",
          "Die Wette",
          "Egmont",
          "Erwin und Elmire",
          "Faust. Der Tragödie zweiter Teil",
          "Faust",
          "Faust [in ursprünglicher Gestalt]",
          "Götter, Helden und Wieland",
          "Götz von Berlichingen mit der eisernen Hand",
          "Iphigenie auf Tauris",
          "Pandora",
          "Proserpina",
          "Satyros oder der vergötterte Waldteufel",
          "Stella",
          "Torquato Tasso",
          "Der Dorfjahrmarkt",
          "Die Geisterinsel",
          "Medea",
          "Atalanta oder die bezwungene Sprödigkeit",
          "Der sterbende Cato",
          "Die Hermannsschlacht",
          "Don Juan und Faust",
          "Hannibal",
          "Herzog Theodor von Gothland",
          "Kaiser Friedrich Barbarossa",
          "Kaiser Heinrich der Sechste",
          "Napoleon oder Die hundert Tage",
          "Scherz, Satire, Ironie und tiefere Bedeutung",
          "Der Gastfreund",
          "Der Traum ein Leben",
          "Des Meeres und der Liebe Wellen",
          "Die Ahnfrau",
          "Die Argonauten",
          "Die Jüdin von Toledo",
          "Ein Bruderzwist in Habsburg",
          "Ein treuer Diener seines Herrn",
          "König Ottokars Glück und Ende",
          "Libussa",
          "Medea",
          "Sappho",
          "Weh dem, der lügt!",
          "Absurda Comica oder Herr Peter Squentz",
          "Cardenio und Celinde oder Unglücklich Verliebete",
          "Carolus Stuardus",
          "Catharina von Georgien oder Bewehrete Beständigkeit",
          "Horribilicribrifax Teutsch",
          "Leo Armenius oder Fürsten-Mord",
          "Großmütiger Rechtsgelehrter oder Sterbender Aemilius Paulus Papinianus",
          "Verlibtes Gespenste / Die gelibte Dornrose",
          "Das Urbild des Tartüffe",
          "Richard Savage oder Der Sohn einer Mutter",
          "Uriel Acosta",
          "Zopf und Schwert",
          "Die Fledermaus",
          "Der Furchtsame",
          "Mägera, die förchterliche Hexe oder Das bezauberte Schloß des Herrn von Einhorn",
          "Der Sohn der Wildnis",
          "Die sittliche Forderung",
          "Hanna Jagert",
          "Rosenmontag",
          "Der Sohn",
          "Der Antiquar",
          "Die armseligen Besenbinder",
          "Ephraims Breite",
          "Frau Nadja Bielew",
          "Gaukler, Tod und Juwelier",
          "Im goldenen Tempel-Buche verzeichnet",
          "Musik",
          "Tobias Buntschuh",
          "Die Ratten",
          "Florian Geyer",
          "Gabriel Schillings Flucht",
          "Vor Sonnenaufgang",
          "Agnes Bernauer",
          "Demetrius",
          "Der Diamant",
          "Der gehörnte Siegfried",
          "Der Rubin",
          "Genoveva",
          "Gyges und sein Ring",
          "Herodes und Mariamne",
          "Judith",
          "Kriemhilds Rache",
          "Maria Magdalene",
          "Siegfrieds Tod",
          "Ein Trauerspiel in Sizilien",
          "Almansor",
          "William Ratcliff",
          "Die Kinder Godunófs",
          "Peter und Alexéj",
          "Die Teufelsmühle am Wienerberg",
          "Hoang-Puff",
          "Atalanta oder Die Angst",
          "Der Stammbaum",
          "Die beiden Billets",
          "Colberg",
          "Don Juan's Ende",
          "Der Mann nach der Uhr oder Der ordentliche Mann",
          "Alkestis",
          "Arabella",
          "Ariadne auf Naxos",
          "Das Bergwerk zu Falun",
          "Das Salzburger große Welttheater",
          "Der Abenteurer und die Sängerin oder Die Geschenke des Lebens",
          "Der Rosenkavalier",
          "Der Schwierige",
          "Der Tod des Tizian",
          "Der Tor und der Tod",
          "Der Turm",
          "Der Unbestechliche",
          "Die Frau im Fenster",
          "Die Frau ohne Schatten",
          "Elektra",
          "Jedermann",
          "Ödipus und die Sphinx",
          "Die Kalkbrenner",
          "Ein Trauerspiel in Berlin",
          "Ignorabimus",
          "Traumulus",
          "Die Familie Selicke",
          "Sonnenfinsternis",
          "Sozialaristokraten",
          "Geschichten aus dem Wiener Wald",
          "Kasimir und Karoline",
          "Die Freistatt",
          "Das Erbtheil des Vaters",
          "Der Spieler",
          "Die Jäger",
          "Figaro in Deutschland",
          "Liebe und Wille",
          "Verbrechen aus Ehrsucht",
          "Andreas Hofer, der Sandwirt von Passeier",
          "Das Gericht von St. Petersburg",
          "Die Bojaren",
          "Eudoxia",
          "Merlin",
          "Der Transport",
          "Der Gruftwächter",
          "Die Industrie-Ausstellung",
          "Die Koralle",
          "Die Schule des Armen oder Zwei Millionen",
          "Stadt und Land oder Der Viehhändler aus Oberösterreich",
          "Das Bergwerk",
          "Die Opferung",
          "Die vierbeinigten Philosophen",
          "Der Freischütz",
          "Amphitryon",
          "Das Käthchen von Heilbronn oder die Feuerprobe",
          "Der zerbrochne Krug",
          "Die Familie Schroffenstein",
          "Die Hermannsschlacht",
          "Penthesilea",
          "Prinz Friedrich von Homburg",
          "Der auf den Parnaß versetzte grüne Hut",
          "Der Besuch",
          "Faust",
          "Das leidende Weib",
          "Die neue Arria",
          "Die Zwillinge",
          "Prinz Seiden-Wurm der Reformator oder die Kron-Kompetenten",
          "Simsone Grisaldo",
          "Sturm und Drang",
          "Der Tod Adams",
          "Hermanns Schlacht",
          "Der Roaga [Reiher]",
          "Die Braut",
          "Zriny",
          "Der Zauberstein",
          "Der arme Poet",
          "Der Freimaurer",
          "Der Hyperboreische Esel, oder Die heutige Bildung",
          "Der Schutzgeist",
          "Der Verschwiegene wider Willen, oder die Fahrt von Berlin nach Potsdam",
          "Der weibliche Jacobiner-Clubb",
          "Der Wirrwarr, oder der Muthwillige",
          "Die beiden Klingsberg",
          "Die deutschen Kleinstädter",
          "Die Indianer in England",
          "Die Spanier in Peru, oder: Rollas Tod",
          "Graf Benjowsky, oder: die Verschwörung auf Kamtschatka",
          "Mädchenfreundschaft, oder der türkische Gesandte",
          "Menschenhaß und Reue",
          "Pagenstreiche",
          "Sultan Wampum, oder: die Wünsche",
          "Üble Laune",
          "Die letzten Tage der Menschheit",
          "Traumstück",
          "Die Candidaten oder Die Mittel zu einem Amte zu gelangen",
          "Die Geistlichen auf dem Lande",
          "Fierrabras",
          "Prinzessin Pumphia",
          "Hasemann's Töchter",
          "Mein Leopold",
          "Franz von Sickingen",
          "Die Karlsschüler",
          "Gottsched und Gellert",
          "Monaldeschi",
          "Struensee",
          "Pension Schöller",
          "Die Pfarrhauskomödie",
          "Hahnenkampf",
          "Medusa",
          "Der Besuch um Mitternacht",
          "Die Pfandung",
          "Julius von Tarent",
          "Der Engländer",
          "Der Hofmeister oder Vorteile der Privaterziehung",
          "Der neue Menoza oder Geschichte des cumbanischen Prinzen Tandi",
          "Die Freunde machen den Philosophen",
          "Die Soldaten",
          "Damon, oder die wahre Freundschaft",
          "Der Freigeist",
          "Der junge Gelehrte",
          "Der Misogyn",
          "Der Schatz",
          "Die alte Jungfer",
          "Die Juden",
          "Emilia Galotti",
          "Minna von Barnhelm oder das Soldatenglück",
          "Miß Sara Sampson",
          "Nathan der Weise",
          "Philotas",
          "Der Waffenschmied",
          "Der Wildschütz oder Die Stimme der Natur",
          "Zar und Zimmermann",
          "Der Erbförster",
          "Die Makkabäer",
          "Fausts Leben dramatisiert",
          "Golo und Genovefa",
          "Der alte Bürger-Capitain oder Die Entführung",
          "Die Jungfern Köchinnen",
          "Babel und Bibel",
          "Der lustige Fritz oder Schlafe, Träume, stehe auf, kleide dich an und bessre dich!",
          "Orpheus und Euridice oder So geht es im Olymp zu!",
          "Der Graf von Walltron, oder die Subordination",
          "Sophie, oder der gerechte Fürst",
          "Die Tugend auf der Schaubühne; oder: Harlekin's Heirath",
          "Blunt oder der Gast",
          "Das goldene Kreuz",
          "Die Königin von Saba",
          "Die lustigen Weiber von Windsor",
          "Das Stiftungsfest",
          "Krieg oder Frieden?",
          "Judas",
          "Staatsräson",
          "Der neun und zwanzigste Februar",
          "Die Schuld",
          "König Yngurd",
          "Die Schwärmer",
          "Die Schäferinsel",
          "Das Haus der Temperamente",
          "Das Mädl aus der Vorstadt oder Ehrlich währt am längsten",
          "Der böse Geist Lumpazivagabundus oder Das liederliche Kleeblatt",
          "Der Talisman",
          "Der Unbedeutende",
          "Der Zerrissene",
          "Einen Jux will er sich machen",
          "Eulenspiegel oder Schabernack über Schabernack",
          "Freiheit in Krähwinkel",
          "Judith und Holofernes",
          "Zu ebener Erde und erster Stock oder Die Launen des Glückes",
          "Datterich",
          "Das Liebeskonzil",
          "Nero",
          "Lucie Woodvil",
          "Berengar",
          "Der romantische Ödipus",
          "Die verhängnisvolle Gabel",
          "Die politische Wochenstube",
          "Der Hypochondrist",
          "Das Mädchen aus der Feenwelt oder Der Bauer als Millionär",
          "Der Alpenkönig und der Menschenfeind",
          "Der Barometermacher auf der Zauberinsel",
          "Der Diamant des Geisterkönigs",
          "Der Verschwender",
          "Die gefesselte Phantasie",
          "Die unheilbringende Zauberkrone oder König ohne Reich, Held ohne Mut, Schönheit ohne Jugend",
          "Moisasurs Zauberfluch",
          "Die Kuhpocken",
          "Agnes von Hohenstaufen",
          "Kritik und Antikritik",
          "Der erste May oder der reiche Poet",
          "Genoveva",
          "La Maladie & la mort de l'honnéte Femme. Das ist: Der ehrlichen Frau Schlampampe Krankheit und Tod",
          "Graf Ehrenfried",
          "L'Honnéte Femme oder die ehrliche Frau zu Plißine",
          "Eumenides Düster",
          "Martha oder Der Markt zu Richmond",
          "Ohne Gegenwart",
          "König Manfred",
          "Die im Schatten leben",
          "Kater Lampe",
          "Die Gewaltlosen",
          "Die Fahnenweihe",
          "Ein comedi von dem reichen sterbenden menschen, der Hecastus genannt",
          "Die Hoftrauer, oder das Testament",
          "Faustine, der weibliche Faust",
          "Das dumme Luder",
          "Das Gift",
          "Das Mirakel",
          "Der alte Petrus, oder Im Himmel spukt es auch",
          "Der fanatische Bürgermeister",
          "Der Herr vom Jenseits",
          "Der Regierungswechsel",
          "Der Schornsteinfeger",
          "Der vornehme Räuberhauptmann",
          "Der Wetterfürst",
          "Die lustigen Räuber",
          "Die Puppe und die Dauerwurst",
          "Die Urgrossmutter",
          "Die Welt geht unter!",
          "Die Wurzeln der Wohlhabenheit",
          "Es lebe Europa!",
          "Herr Kammerdiener Kneetschke",
          "Lachende Gespenster",
          "Okurirasûna",
          "Rübezahl",
          "Die Zauberflöte",
          "Glück durch Unglück",
          "Die Braut von Messina oder Die feindlichen Brüder",
          "Die Jungfrau von Orleans",
          "Die Piccolomini",
          "Die Räuber",
          "Die Verschwörung des Fiesco zu Genua",
          "Don Carlos, Infant von Spanien",
          "Kabale und Liebe",
          "Maria Stuart",
          "Wallensteins Lager",
          "Wallensteins Tod",
          "Wilhelm Tell",
          "Der neue Doktor Faust",
          "Hanswurst von Salzburg mit dem hölzernen Gat",
          "Meister Oelze",
          "Alarcos",
          "Canut",
          "Der geschäftige Müßiggänger",
          "Der Triumph der guten Frauen",
          "Die stumme Schönheit",
          "Jon",
          "Der Zigeunerbaron",
          "Anatol",
          "Anatols Größenwahn",
          "Das weite Land",
          "Der einsame Weg",
          "Der grüne Kakadu",
          "Der Puppenspieler",
          "Der tapfere Cassian",
          "Die Frau mit dem Dolche",
          "Die letzten Masken",
          "Komödie der Verführung",
          "Komtesse Mizzi oder Der Familientag",
          "Lebendige Stunden",
          "Liebelei",
          "Literatur",
          "Professor Bernhardi",
          "Reigen",
          "Zum grossen Wurstel",
          "Alfonso und Estrella",
          "Der Weibsteufel",
          "Der Raub der Sabinerinnen",
          "Die Überschwemmung",
          "Der Vetter in Lissabon",
          "Die Katze läßt das Mausen nicht",
          "Die Wände",
          "Unser Verkehr",
          "Miltiades",
          "Die Schatzgräber",
          "Doctor Johannes Faust",
          "Doktor Faust",
          "Die Dorfschule",
          "Fidelio",
          "Der Bettler",
          "Der Sieg des Christos",
          "Odysseus",
          "Mudder Mews",
          "Der Schauspieldirektor",
          "Die Entführung aus dem Serail",
          "Die Liebe im Narrenhause",
          "Doktor und Apotheker",
          "Der Snob",
          "Erwachen",
          "Der Bettler von Syrakus",
          "Die Ehre",
          "Die Schmetterlingsschlacht",
          "Heimat",
          "Stein unter Steinen",
          "Die Lokalbahn",
          "Die Medaille",
          "Erster Klasse",
          "Lottchens Geburtstag",
          "Magdalena",
          "Moral",
          "Der gestiefelte Kater",
          "Die Theegesellschaft",
          "Die verkehrte Welt",
          "Karl von Berneck",
          "Leben und Tod der heiligen Genoveva",
          "Prinz Zerbino oder die Reise nach dem guten Geschmack",
          "Ritter Blaubart",
          "Agnes Bernauerin",
          "Das Bauerngut",
          "Ernst Herzog von Schwaben",
          "Ludwig der Bayer",
          "Der Friseur",
          "Faust",
          "Faust",
          "Das Rheingold",
          "Der fliegende Holländer",
          "Die Kindermörderin",
          "Die Meistersinger von Nürnberg",
          "Die Reue nach der That",
          "Die Walküre",
          "Götterdämmerung",
          "Lohengrin",
          "Parsifal",
          "Siegfried",
          "Tannhäuser und Der Sängerkrieg auf Wartburg",
          "Tristan und Isolde",
          "Voltaire am Abend seiner Apotheose",
          "Der Kammersänger",
          "Der Marquis von Keith",
          "Die Büchse der Pandora",
          "Die Zensur",
          "Erdgeist",
          "Franziska",
          "Fritz Schwigerling oder Der Liebestrank",
          "Frühlings Erwachen",
          "Hidalla oder Sein und Haben",
          "König Nicolo oder So ist das Leben",
          "Musik",
          "Tod und Teufel (Totentanz)",
          "Der Dorfbarbier",
          "Johann Faust",
          "Masaniello",
          "Atreus und Thyest",
          "Die Jagd",
          "Der vierundzwanzigste Februar",
          "Der Widerspenstigen Zähmung",
          "Maikäfer-Komödie",
          "Alceste",
          "Klementina von Porretta",
          "Lady Johanna Gray oder Der Triumf der Religion",
          "Der Meister von Palmyra",
          "Gracchus der Volkstribun",
          "Die Haubenlerche",
          "Die Karolinger",
          "Die Quitzows",
          "Armut",
          "Dies irae",
          "In Ewigkeit Amen",
          "Der Vampyr",
          "Faust",
          "Cabinets-Intriguen",
          "Herr und Sklave",
          "Liebe findet ihre Wege",
          "Abellino"
         ],
         "xaxis": "x",
         "y": [
          0,
          0,
          0,
          0,
          0,
          5,
          2,
          1,
          0,
          2,
          0,
          0,
          7,
          7,
          2,
          0,
          0,
          0,
          0,
          1,
          0,
          0,
          1,
          1,
          0,
          0,
          0,
          0,
          2,
          0,
          0,
          0,
          0,
          0,
          0,
          1,
          0,
          0,
          0,
          0,
          0,
          0,
          0,
          0,
          0,
          0,
          0,
          1,
          0,
          0,
          0,
          0,
          0,
          0,
          5,
          12,
          0,
          150,
          89,
          163,
          0,
          0,
          5,
          1,
          0,
          0,
          0,
          0,
          0,
          1,
          0,
          1,
          0,
          0,
          0,
          0,
          0,
          0,
          0,
          0,
          0,
          7,
          7,
          0,
          0,
          0,
          0,
          0,
          0,
          0,
          0,
          0,
          0,
          0,
          0,
          2,
          9,
          0,
          0,
          0,
          1,
          8,
          0,
          0,
          5,
          0,
          0,
          16,
          6,
          3,
          0,
          12,
          0,
          3,
          4,
          36,
          20,
          60,
          4,
          0,
          1346,
          0,
          4,
          2,
          82,
          29,
          20,
          0,
          33,
          83,
          0,
          3,
          1,
          0,
          8,
          20,
          9,
          13,
          16,
          1,
          0,
          0,
          17,
          1,
          13,
          12,
          8,
          1,
          36,
          14,
          4,
          17,
          27,
          20,
          10,
          13,
          0,
          0,
          33,
          0,
          4,
          0,
          0,
          0,
          0,
          0,
          2,
          0,
          0,
          0,
          0,
          0,
          0,
          0,
          0,
          8,
          0,
          0,
          2,
          0,
          0,
          0,
          8,
          2,
          21,
          3,
          1,
          23,
          24,
          13,
          4,
          0,
          2,
          8,
          0,
          0,
          31,
          0,
          3,
          0,
          3,
          9,
          3,
          0,
          0,
          0,
          0,
          0,
          0,
          0,
          1,
          0,
          0,
          2,
          9,
          30,
          9,
          0,
          0,
          21,
          65,
          4,
          8,
          31,
          16,
          1,
          17,
          69,
          20,
          6,
          0,
          3,
          0,
          0,
          6,
          0,
          1,
          22,
          10,
          0,
          0,
          1,
          2,
          0,
          0,
          1,
          0,
          0,
          0,
          0,
          3,
          0,
          5,
          0,
          2,
          0,
          0,
          0,
          0,
          0,
          6,
          82,
          0,
          51,
          37,
          63,
          192,
          78,
          0,
          1,
          5,
          0,
          0,
          9,
          0,
          1,
          16,
          0,
          6,
          0,
          0,
          5,
          0,
          2,
          0,
          0,
          0,
          0,
          0,
          0,
          0,
          4,
          3,
          0,
          2,
          0,
          0,
          0,
          0,
          0,
          49,
          1,
          0,
          0,
          0,
          2,
          0,
          0,
          0,
          3,
          1,
          0,
          0,
          0,
          0,
          0,
          0,
          0,
          1,
          8,
          7,
          0,
          0,
          3,
          46,
          0,
          4,
          6,
          3,
          1,
          1,
          48,
          114,
          0,
          0,
          138,
          34,
          0,
          0,
          0,
          0,
          0,
          0,
          1,
          0,
          0,
          4,
          0,
          0,
          0,
          0,
          1,
          0,
          0,
          0,
          0,
          0,
          0,
          2,
          3,
          0,
          0,
          0,
          21,
          2,
          2,
          0,
          0,
          9,
          1,
          12,
          5,
          0,
          2,
          3,
          0,
          7,
          9,
          0,
          1,
          0,
          0,
          0,
          1,
          2,
          0,
          5,
          2,
          4,
          5,
          0,
          0,
          1,
          0,
          0,
          0,
          0,
          0,
          0,
          2,
          0,
          0,
          0,
          0,
          0,
          0,
          0,
          0,
          0,
          0,
          0,
          0,
          0,
          0,
          0,
          0,
          0,
          0,
          0,
          0,
          0,
          0,
          0,
          0,
          0,
          0,
          0,
          0,
          0,
          0,
          0,
          0,
          11,
          0,
          0,
          76,
          3,
          106,
          1,
          3,
          53,
          89,
          6,
          4,
          92,
          0,
          0,
          2,
          9,
          4,
          0,
          2,
          3,
          0,
          0,
          20,
          0,
          17,
          12,
          17,
          3,
          0,
          2,
          1,
          0,
          0,
          2,
          14,
          42,
          17,
          86,
          5,
          0,
          1,
          0,
          0,
          0,
          0,
          0,
          4,
          2,
          0,
          0,
          0,
          0,
          0,
          4,
          0,
          0,
          0,
          0,
          1,
          0,
          0,
          14,
          0,
          0,
          9,
          0,
          2,
          0,
          0,
          11,
          1,
          0,
          2,
          26,
          13,
          2,
          8,
          1,
          4,
          0,
          3,
          0,
          0,
          1,
          0,
          0,
          12,
          0,
          18,
          35,
          11,
          73,
          0,
          17,
          13,
          44,
          152,
          38,
          60,
          112,
          0,
          4,
          7,
          10,
          6,
          8,
          10,
          0,
          26,
          0,
          0,
          2,
          3,
          0,
          0,
          16,
          0,
          0,
          11,
          0,
          0,
          8,
          0,
          0,
          1,
          0,
          0,
          0,
          0,
          0,
          0,
          0,
          0,
          0,
          0,
          0,
          0,
          0
         ],
         "yaxis": "y"
        },
        {
         "alignmentgroup": "True",
         "customdata": [
          [
           "(Anonym)"
          ],
          [
           "Berg"
          ],
          [
           "Klabund"
          ],
          [
           "Klabund"
          ],
          [
           "Sturz"
          ]
         ],
         "hovertemplate": "firstAuthorGender=unknown<br>title=%{x}<br>BDSL_autortitel=%{y}<br>firstAuthor=%{customdata[0]}<extra></extra>",
         "legendgroup": "unknown",
         "marker": {
          "color": "#EF553B",
          "pattern": {
           "shape": ""
          }
         },
         "name": "unknown",
         "offsetgroup": "unknown",
         "orientation": "v",
         "showlegend": true,
         "textposition": "auto",
         "type": "bar",
         "x": [
          "Der deutsche Student",
          "Berlin, wie es weint und lacht",
          "Der Kreidekreis",
          "XYZ",
          "Julie"
         ],
         "xaxis": "x",
         "y": [
          0,
          0,
          2,
          0,
          0
         ],
         "yaxis": "y"
        },
        {
         "alignmentgroup": "True",
         "customdata": [
          [
           "Birch-Pfeiffer"
          ],
          [
           "Birch-Pfeiffer"
          ],
          [
           "Birch-Pfeiffer"
          ],
          [
           "Birch-Pfeiffer"
          ],
          [
           "Birch-Pfeiffer"
          ],
          [
           "Birch-Pfeiffer"
          ],
          [
           "Braun"
          ],
          [
           "Bredow-Görne"
          ],
          [
           "Chézy"
          ],
          [
           "Chézy"
          ],
          [
           "Dohm"
          ],
          [
           "Dohm"
          ],
          [
           "Dohm"
          ],
          [
           "Dovsky"
          ],
          [
           "Droste-Hülshoff"
          ],
          [
           "Ebner-Eschenbach"
          ],
          [
           "Gottsched"
          ],
          [
           "Gottsched"
          ],
          [
           "Gottsched"
          ],
          [
           "Günderode"
          ],
          [
           "Günderode"
          ],
          [
           "Günderode"
          ],
          [
           "Lachmann"
          ],
          [
           "Laddey"
          ],
          [
           "Lasker-Schüler"
          ],
          [
           "Neuber"
          ],
          [
           "Neuber"
          ],
          [
           "Neuber"
          ],
          [
           "Neuber"
          ],
          [
           "Raché"
          ],
          [
           "Weißenthurn"
          ],
          [
           "Weißenthurn"
          ],
          [
           "Weißenthurn"
          ],
          [
           "Weißenthurn"
          ],
          [
           "Weißenthurn"
          ],
          [
           "Wette"
          ]
         ],
         "hovertemplate": "firstAuthorGender=female<br>title=%{x}<br>BDSL_autortitel=%{y}<br>firstAuthor=%{customdata[0]}<extra></extra>",
         "legendgroup": "female",
         "marker": {
          "color": "#00cc96",
          "pattern": {
           "shape": ""
          }
         },
         "name": "female",
         "offsetgroup": "female",
         "orientation": "v",
         "showlegend": true,
         "textposition": "auto",
         "type": "bar",
         "x": [
          "Die Grille",
          "Die Walpurgisnacht",
          "In der Heimath",
          "Johannes Gutenberg",
          "Pfeffer-Rösel oder Die Frankfurter Messe im Jahre 1297",
          "Vatersorgen",
          "Mutter Maria",
          "Gute Freunde",
          "Der neue Narziß",
          "Euryanthe",
          "Die Ritter vom Goldenen Kalb",
          "Ein Schuß in's Schwarze",
          "Vom Stamm der Asra",
          "Mona Lisa",
          "Perdu! oder Dichter, Verleger und Blaustrümpfe",
          "Doctor Ritter",
          "Das Testament",
          "Der Witzling",
          "Die Pietisterey im Fischbein-Rocke oder Die Doctormäßige Frau",
          "Magie und Schicksal",
          "Nikator",
          "Udohla",
          "Salome",
          "Mäntelchen nach dem Winde",
          "Die Wupper",
          "Das Schäferfest oder Die Herbstfreude",
          "Die von der Weisheit wider die Unwissenheit beschützte Schauspielkunst",
          "Die Verehrung der Vollkommenheit durch die gebesserten deutschen Schauspiele",
          "Ein Deutsches Vorspiel",
          "Belsazar",
          "Das Manuscript",
          "Die Schwestern St. Janvier",
          "Johann, Herzog von Finnland",
          "Welche ist die Braut!",
          "Welcher ist der Bräutigam?",
          "Hänsel und Gretel"
         ],
         "xaxis": "x",
         "y": [
          0,
          0,
          0,
          0,
          0,
          0,
          0,
          0,
          0,
          2,
          0,
          0,
          0,
          0,
          0,
          0,
          3,
          3,
          0,
          0,
          0,
          2,
          0,
          0,
          21,
          0,
          0,
          0,
          1,
          0,
          0,
          0,
          0,
          0,
          0,
          0
         ],
         "yaxis": "y"
        }
       ],
       "layout": {
        "barmode": "relative",
        "legend": {
         "title": {
          "text": "firstAuthorGender"
         },
         "tracegroupgap": 0
        },
        "margin": {
         "t": 60
        },
        "template": {
         "data": {
          "bar": [
           {
            "error_x": {
             "color": "#2a3f5f"
            },
            "error_y": {
             "color": "#2a3f5f"
            },
            "marker": {
             "line": {
              "color": "#E5ECF6",
              "width": 0.5
             },
             "pattern": {
              "fillmode": "overlay",
              "size": 10,
              "solidity": 0.2
             }
            },
            "type": "bar"
           }
          ],
          "barpolar": [
           {
            "marker": {
             "line": {
              "color": "#E5ECF6",
              "width": 0.5
             },
             "pattern": {
              "fillmode": "overlay",
              "size": 10,
              "solidity": 0.2
             }
            },
            "type": "barpolar"
           }
          ],
          "carpet": [
           {
            "aaxis": {
             "endlinecolor": "#2a3f5f",
             "gridcolor": "white",
             "linecolor": "white",
             "minorgridcolor": "white",
             "startlinecolor": "#2a3f5f"
            },
            "baxis": {
             "endlinecolor": "#2a3f5f",
             "gridcolor": "white",
             "linecolor": "white",
             "minorgridcolor": "white",
             "startlinecolor": "#2a3f5f"
            },
            "type": "carpet"
           }
          ],
          "choropleth": [
           {
            "colorbar": {
             "outlinewidth": 0,
             "ticks": ""
            },
            "type": "choropleth"
           }
          ],
          "contour": [
           {
            "colorbar": {
             "outlinewidth": 0,
             "ticks": ""
            },
            "colorscale": [
             [
              0,
              "#0d0887"
             ],
             [
              0.1111111111111111,
              "#46039f"
             ],
             [
              0.2222222222222222,
              "#7201a8"
             ],
             [
              0.3333333333333333,
              "#9c179e"
             ],
             [
              0.4444444444444444,
              "#bd3786"
             ],
             [
              0.5555555555555556,
              "#d8576b"
             ],
             [
              0.6666666666666666,
              "#ed7953"
             ],
             [
              0.7777777777777778,
              "#fb9f3a"
             ],
             [
              0.8888888888888888,
              "#fdca26"
             ],
             [
              1,
              "#f0f921"
             ]
            ],
            "type": "contour"
           }
          ],
          "contourcarpet": [
           {
            "colorbar": {
             "outlinewidth": 0,
             "ticks": ""
            },
            "type": "contourcarpet"
           }
          ],
          "heatmap": [
           {
            "colorbar": {
             "outlinewidth": 0,
             "ticks": ""
            },
            "colorscale": [
             [
              0,
              "#0d0887"
             ],
             [
              0.1111111111111111,
              "#46039f"
             ],
             [
              0.2222222222222222,
              "#7201a8"
             ],
             [
              0.3333333333333333,
              "#9c179e"
             ],
             [
              0.4444444444444444,
              "#bd3786"
             ],
             [
              0.5555555555555556,
              "#d8576b"
             ],
             [
              0.6666666666666666,
              "#ed7953"
             ],
             [
              0.7777777777777778,
              "#fb9f3a"
             ],
             [
              0.8888888888888888,
              "#fdca26"
             ],
             [
              1,
              "#f0f921"
             ]
            ],
            "type": "heatmap"
           }
          ],
          "heatmapgl": [
           {
            "colorbar": {
             "outlinewidth": 0,
             "ticks": ""
            },
            "colorscale": [
             [
              0,
              "#0d0887"
             ],
             [
              0.1111111111111111,
              "#46039f"
             ],
             [
              0.2222222222222222,
              "#7201a8"
             ],
             [
              0.3333333333333333,
              "#9c179e"
             ],
             [
              0.4444444444444444,
              "#bd3786"
             ],
             [
              0.5555555555555556,
              "#d8576b"
             ],
             [
              0.6666666666666666,
              "#ed7953"
             ],
             [
              0.7777777777777778,
              "#fb9f3a"
             ],
             [
              0.8888888888888888,
              "#fdca26"
             ],
             [
              1,
              "#f0f921"
             ]
            ],
            "type": "heatmapgl"
           }
          ],
          "histogram": [
           {
            "marker": {
             "pattern": {
              "fillmode": "overlay",
              "size": 10,
              "solidity": 0.2
             }
            },
            "type": "histogram"
           }
          ],
          "histogram2d": [
           {
            "colorbar": {
             "outlinewidth": 0,
             "ticks": ""
            },
            "colorscale": [
             [
              0,
              "#0d0887"
             ],
             [
              0.1111111111111111,
              "#46039f"
             ],
             [
              0.2222222222222222,
              "#7201a8"
             ],
             [
              0.3333333333333333,
              "#9c179e"
             ],
             [
              0.4444444444444444,
              "#bd3786"
             ],
             [
              0.5555555555555556,
              "#d8576b"
             ],
             [
              0.6666666666666666,
              "#ed7953"
             ],
             [
              0.7777777777777778,
              "#fb9f3a"
             ],
             [
              0.8888888888888888,
              "#fdca26"
             ],
             [
              1,
              "#f0f921"
             ]
            ],
            "type": "histogram2d"
           }
          ],
          "histogram2dcontour": [
           {
            "colorbar": {
             "outlinewidth": 0,
             "ticks": ""
            },
            "colorscale": [
             [
              0,
              "#0d0887"
             ],
             [
              0.1111111111111111,
              "#46039f"
             ],
             [
              0.2222222222222222,
              "#7201a8"
             ],
             [
              0.3333333333333333,
              "#9c179e"
             ],
             [
              0.4444444444444444,
              "#bd3786"
             ],
             [
              0.5555555555555556,
              "#d8576b"
             ],
             [
              0.6666666666666666,
              "#ed7953"
             ],
             [
              0.7777777777777778,
              "#fb9f3a"
             ],
             [
              0.8888888888888888,
              "#fdca26"
             ],
             [
              1,
              "#f0f921"
             ]
            ],
            "type": "histogram2dcontour"
           }
          ],
          "mesh3d": [
           {
            "colorbar": {
             "outlinewidth": 0,
             "ticks": ""
            },
            "type": "mesh3d"
           }
          ],
          "parcoords": [
           {
            "line": {
             "colorbar": {
              "outlinewidth": 0,
              "ticks": ""
             }
            },
            "type": "parcoords"
           }
          ],
          "pie": [
           {
            "automargin": true,
            "type": "pie"
           }
          ],
          "scatter": [
           {
            "fillpattern": {
             "fillmode": "overlay",
             "size": 10,
             "solidity": 0.2
            },
            "type": "scatter"
           }
          ],
          "scatter3d": [
           {
            "line": {
             "colorbar": {
              "outlinewidth": 0,
              "ticks": ""
             }
            },
            "marker": {
             "colorbar": {
              "outlinewidth": 0,
              "ticks": ""
             }
            },
            "type": "scatter3d"
           }
          ],
          "scattercarpet": [
           {
            "marker": {
             "colorbar": {
              "outlinewidth": 0,
              "ticks": ""
             }
            },
            "type": "scattercarpet"
           }
          ],
          "scattergeo": [
           {
            "marker": {
             "colorbar": {
              "outlinewidth": 0,
              "ticks": ""
             }
            },
            "type": "scattergeo"
           }
          ],
          "scattergl": [
           {
            "marker": {
             "colorbar": {
              "outlinewidth": 0,
              "ticks": ""
             }
            },
            "type": "scattergl"
           }
          ],
          "scattermapbox": [
           {
            "marker": {
             "colorbar": {
              "outlinewidth": 0,
              "ticks": ""
             }
            },
            "type": "scattermapbox"
           }
          ],
          "scatterpolar": [
           {
            "marker": {
             "colorbar": {
              "outlinewidth": 0,
              "ticks": ""
             }
            },
            "type": "scatterpolar"
           }
          ],
          "scatterpolargl": [
           {
            "marker": {
             "colorbar": {
              "outlinewidth": 0,
              "ticks": ""
             }
            },
            "type": "scatterpolargl"
           }
          ],
          "scatterternary": [
           {
            "marker": {
             "colorbar": {
              "outlinewidth": 0,
              "ticks": ""
             }
            },
            "type": "scatterternary"
           }
          ],
          "surface": [
           {
            "colorbar": {
             "outlinewidth": 0,
             "ticks": ""
            },
            "colorscale": [
             [
              0,
              "#0d0887"
             ],
             [
              0.1111111111111111,
              "#46039f"
             ],
             [
              0.2222222222222222,
              "#7201a8"
             ],
             [
              0.3333333333333333,
              "#9c179e"
             ],
             [
              0.4444444444444444,
              "#bd3786"
             ],
             [
              0.5555555555555556,
              "#d8576b"
             ],
             [
              0.6666666666666666,
              "#ed7953"
             ],
             [
              0.7777777777777778,
              "#fb9f3a"
             ],
             [
              0.8888888888888888,
              "#fdca26"
             ],
             [
              1,
              "#f0f921"
             ]
            ],
            "type": "surface"
           }
          ],
          "table": [
           {
            "cells": {
             "fill": {
              "color": "#EBF0F8"
             },
             "line": {
              "color": "white"
             }
            },
            "header": {
             "fill": {
              "color": "#C8D4E3"
             },
             "line": {
              "color": "white"
             }
            },
            "type": "table"
           }
          ]
         },
         "layout": {
          "annotationdefaults": {
           "arrowcolor": "#2a3f5f",
           "arrowhead": 0,
           "arrowwidth": 1
          },
          "autotypenumbers": "strict",
          "coloraxis": {
           "colorbar": {
            "outlinewidth": 0,
            "ticks": ""
           }
          },
          "colorscale": {
           "diverging": [
            [
             0,
             "#8e0152"
            ],
            [
             0.1,
             "#c51b7d"
            ],
            [
             0.2,
             "#de77ae"
            ],
            [
             0.3,
             "#f1b6da"
            ],
            [
             0.4,
             "#fde0ef"
            ],
            [
             0.5,
             "#f7f7f7"
            ],
            [
             0.6,
             "#e6f5d0"
            ],
            [
             0.7,
             "#b8e186"
            ],
            [
             0.8,
             "#7fbc41"
            ],
            [
             0.9,
             "#4d9221"
            ],
            [
             1,
             "#276419"
            ]
           ],
           "sequential": [
            [
             0,
             "#0d0887"
            ],
            [
             0.1111111111111111,
             "#46039f"
            ],
            [
             0.2222222222222222,
             "#7201a8"
            ],
            [
             0.3333333333333333,
             "#9c179e"
            ],
            [
             0.4444444444444444,
             "#bd3786"
            ],
            [
             0.5555555555555556,
             "#d8576b"
            ],
            [
             0.6666666666666666,
             "#ed7953"
            ],
            [
             0.7777777777777778,
             "#fb9f3a"
            ],
            [
             0.8888888888888888,
             "#fdca26"
            ],
            [
             1,
             "#f0f921"
            ]
           ],
           "sequentialminus": [
            [
             0,
             "#0d0887"
            ],
            [
             0.1111111111111111,
             "#46039f"
            ],
            [
             0.2222222222222222,
             "#7201a8"
            ],
            [
             0.3333333333333333,
             "#9c179e"
            ],
            [
             0.4444444444444444,
             "#bd3786"
            ],
            [
             0.5555555555555556,
             "#d8576b"
            ],
            [
             0.6666666666666666,
             "#ed7953"
            ],
            [
             0.7777777777777778,
             "#fb9f3a"
            ],
            [
             0.8888888888888888,
             "#fdca26"
            ],
            [
             1,
             "#f0f921"
            ]
           ]
          },
          "colorway": [
           "#636efa",
           "#EF553B",
           "#00cc96",
           "#ab63fa",
           "#FFA15A",
           "#19d3f3",
           "#FF6692",
           "#B6E880",
           "#FF97FF",
           "#FECB52"
          ],
          "font": {
           "color": "#2a3f5f"
          },
          "geo": {
           "bgcolor": "white",
           "lakecolor": "white",
           "landcolor": "#E5ECF6",
           "showlakes": true,
           "showland": true,
           "subunitcolor": "white"
          },
          "hoverlabel": {
           "align": "left"
          },
          "hovermode": "closest",
          "mapbox": {
           "style": "light"
          },
          "paper_bgcolor": "white",
          "plot_bgcolor": "#E5ECF6",
          "polar": {
           "angularaxis": {
            "gridcolor": "white",
            "linecolor": "white",
            "ticks": ""
           },
           "bgcolor": "#E5ECF6",
           "radialaxis": {
            "gridcolor": "white",
            "linecolor": "white",
            "ticks": ""
           }
          },
          "scene": {
           "xaxis": {
            "backgroundcolor": "#E5ECF6",
            "gridcolor": "white",
            "gridwidth": 2,
            "linecolor": "white",
            "showbackground": true,
            "ticks": "",
            "zerolinecolor": "white"
           },
           "yaxis": {
            "backgroundcolor": "#E5ECF6",
            "gridcolor": "white",
            "gridwidth": 2,
            "linecolor": "white",
            "showbackground": true,
            "ticks": "",
            "zerolinecolor": "white"
           },
           "zaxis": {
            "backgroundcolor": "#E5ECF6",
            "gridcolor": "white",
            "gridwidth": 2,
            "linecolor": "white",
            "showbackground": true,
            "ticks": "",
            "zerolinecolor": "white"
           }
          },
          "shapedefaults": {
           "line": {
            "color": "#2a3f5f"
           }
          },
          "ternary": {
           "aaxis": {
            "gridcolor": "white",
            "linecolor": "white",
            "ticks": ""
           },
           "baxis": {
            "gridcolor": "white",
            "linecolor": "white",
            "ticks": ""
           },
           "bgcolor": "#E5ECF6",
           "caxis": {
            "gridcolor": "white",
            "linecolor": "white",
            "ticks": ""
           }
          },
          "title": {
           "x": 0.05
          },
          "xaxis": {
           "automargin": true,
           "gridcolor": "white",
           "linecolor": "white",
           "ticks": "",
           "title": {
            "standoff": 15
           },
           "zerolinecolor": "white",
           "zerolinewidth": 2
          },
          "yaxis": {
           "automargin": true,
           "gridcolor": "white",
           "linecolor": "white",
           "ticks": "",
           "title": {
            "standoff": 15
           },
           "zerolinecolor": "white",
           "zerolinewidth": 2
          }
         }
        },
        "xaxis": {
         "anchor": "y",
         "categoryorder": "total descending",
         "domain": [
          0,
          1
         ],
         "title": {
          "text": "title"
         }
        },
        "yaxis": {
         "anchor": "x",
         "domain": [
          0,
          1
         ],
         "title": {
          "text": "BDSL_autortitel"
         }
        }
       }
      },
      "text/html": [
       "<div>                            <div id=\"dfcb0cec-4aaf-4f8d-9dca-349fe8d2afac\" class=\"plotly-graph-div\" style=\"height:525px; width:100%;\"></div>            <script type=\"text/javascript\">                require([\"plotly\"], function(Plotly) {                    window.PLOTLYENV=window.PLOTLYENV || {};                                    if (document.getElementById(\"dfcb0cec-4aaf-4f8d-9dca-349fe8d2afac\")) {                    Plotly.newPlot(                        \"dfcb0cec-4aaf-4f8d-9dca-349fe8d2afac\",                        [{\"alignmentgroup\":\"True\",\"customdata\":[[\"Adolph\"],[\"Alberti\"],[\"Alberti\"],[\"Andr\\u00e9\"],[\"Angely\"],[\"Anzengruber\"],[\"Anzengruber\"],[\"Anzengruber\"],[\"Anzengruber\"],[\"Anzengruber\"],[\"Anzengruber\"],[\"Arnim\"],[\"Arnim\"],[\"Arnim\"],[\"Arnim\"],[\"Auenbrugger\"],[\"Avenarius\"],[\"Ayrenhoff\"],[\"Ayrenhoff\"],[\"B\\u00e4uerle\"],[\"B\\u00e4uerle\"],[\"Baggesen\"],[\"Bahr\"],[\"Ball\"],[\"Barlach\"],[\"Bauernfeld\"],[\"Bauernfeld\"],[\"Bauernfeld\"],[\"Beer\"],[\"Beer\"],[\"Benedix\"],[\"Benedix\"],[\"Benedix\"],[\"Benedix\"],[\"Benkowitz\"],[\"Bernard\"],[\"Beyer\"],[\"Bierbaum\"],[\"Bleibtreu\"],[\"Bleibtreu\"],[\"Blumenthal\"],[\"Bodmer\"],[\"Borchert\"],[\"Borkenstein\"],[\"Bo\\u00dfdorf\"],[\"Bo\\u00dfdorf\"],[\"Brachvogel\"],[\"Brandes\"],[\"Brandes\"],[\"Brandes\"],[\"Braun von Braunthal\"],[\"Braun von Braunthal\"],[\"Brawe\"],[\"Brawe\"],[\"Brentano\"],[\"Brentano\"],[\"Bretzner\"],[\"B\\u00fcchner\"],[\"B\\u00fcchner\"],[\"B\\u00fcchner\"],[\"B\\u00fcschel\"],[\"Bunge\"],[\"Busoni\"],[\"Busoni\"],[\"Castelli\"],[\"Chlumberg\"],[\"Chlumberg\"],[\"Collin\"],[\"Collin\"],[\"Cornelius\"],[\"Costenoble\"],[\"Cronegk\"],[\"Cronegk\"],[\"Dauthendey\"],[\"Dehmel\"],[\"Dehmel\"],[\"d'Elpons\"],[\"Devrient\"],[\"Devrient\"],[\"Eckartshausen\"],[\"Eichendorff\"],[\"Eichendorff\"],[\"Eichendorff\"],[\"Engel\"],[\"Engelke\"],[\"Ernst\"],[\"Ertler\"],[\"Ertler\"],[\"Ertler\"],[\"Essig\"],[\"Essig\"],[\"Fock\"],[\"Fouqu\\u00e9\"],[\"Fouqu\\u00e9\"],[\"Fouqu\\u00e9\"],[\"Freytag\"],[\"Freytag\"],[\"Freytag\"],[\"Ganghofer\"],[\"Gehe\"],[\"Gellert\"],[\"Gellert\"],[\"Gemmingen-Hornberg\"],[\"Gerh\\u00e4user\"],[\"Gerstenberg\"],[\"Gessner\"],[\"Gleich\"],[\"Goethe\"],[\"Goethe\"],[\"Goethe\"],[\"Goethe\"],[\"Goethe\"],[\"Goethe\"],[\"Goethe\"],[\"Goethe\"],[\"Goethe\"],[\"Goethe\"],[\"Goethe\"],[\"Goethe\"],[\"Goethe\"],[\"Goethe\"],[\"Goethe\"],[\"Goethe\"],[\"Goethe\"],[\"Goethe\"],[\"Goethe\"],[\"Goethe\"],[\"Goethe\"],[\"Goethe\"],[\"Goethe\"],[\"Gotter\"],[\"Gotter\"],[\"Gotter\"],[\"Gottsched\"],[\"Gottsched\"],[\"Grabbe\"],[\"Grabbe\"],[\"Grabbe\"],[\"Grabbe\"],[\"Grabbe\"],[\"Grabbe\"],[\"Grabbe\"],[\"Grabbe\"],[\"Grillparzer\"],[\"Grillparzer\"],[\"Grillparzer\"],[\"Grillparzer\"],[\"Grillparzer\"],[\"Grillparzer\"],[\"Grillparzer\"],[\"Grillparzer\"],[\"Grillparzer\"],[\"Grillparzer\"],[\"Grillparzer\"],[\"Grillparzer\"],[\"Grillparzer\"],[\"Gryphius\"],[\"Gryphius\"],[\"Gryphius\"],[\"Gryphius\"],[\"Gryphius\"],[\"Gryphius\"],[\"Gryphius\"],[\"Gryphius\"],[\"Gutzkow\"],[\"Gutzkow\"],[\"Gutzkow\"],[\"Gutzkow\"],[\"Haffner\"],[\"Hafner\"],[\"Hafner\"],[\"Halm\"],[\"Hartleben\"],[\"Hartleben\"],[\"Hartleben\"],[\"Hasenclever\"],[\"Hauptmann\"],[\"Hauptmann\"],[\"Hauptmann\"],[\"Hauptmann\"],[\"Hauptmann\"],[\"Hauptmann\"],[\"Hauptmann\"],[\"Hauptmann\"],[\"Hauptmann\"],[\"Hauptmann\"],[\"Hauptmann\"],[\"Hauptmann\"],[\"Hebbel\"],[\"Hebbel\"],[\"Hebbel\"],[\"Hebbel\"],[\"Hebbel\"],[\"Hebbel\"],[\"Hebbel\"],[\"Hebbel\"],[\"Hebbel\"],[\"Hebbel\"],[\"Hebbel\"],[\"Hebbel\"],[\"Hebbel\"],[\"Heine\"],[\"Heine\"],[\"Heiseler\"],[\"Heiseler\"],[\"Hensler\"],[\"Herzenskron\"],[\"Heym\"],[\"Heyne\"],[\"Heyne\"],[\"Heyse\"],[\"Heyse\"],[\"Hippel\"],[\"Hofmannsthal\"],[\"Hofmannsthal\"],[\"Hofmannsthal\"],[\"Hofmannsthal\"],[\"Hofmannsthal\"],[\"Hofmannsthal\"],[\"Hofmannsthal\"],[\"Hofmannsthal\"],[\"Hofmannsthal\"],[\"Hofmannsthal\"],[\"Hofmannsthal\"],[\"Hofmannsthal\"],[\"Hofmannsthal\"],[\"Hofmannsthal\"],[\"Hofmannsthal\"],[\"Hofmannsthal\"],[\"Hofmannsthal\"],[\"Holtei\"],[\"Holtei\"],[\"Holz\"],[\"Holz\"],[\"Holz\"],[\"Holz\"],[\"Holz\"],[\"Horv\\u00e1th\"],[\"Horv\\u00e1th\"],[\"Houwald\"],[\"Iffland\"],[\"Iffland\"],[\"Iffland\"],[\"Iffland\"],[\"Iffland\"],[\"Iffland\"],[\"Immermann\"],[\"Immermann\"],[\"Immermann\"],[\"Immermann\"],[\"Immermann\"],[\"Kaffka\"],[\"Kafka\"],[\"Kaiser\"],[\"Kaiser\"],[\"Kaiser\"],[\"Kaiser\"],[\"Kaltneker\"],[\"Kaltneker\"],[\"Kannengie\\u00dfer\"],[\"Kind\"],[\"Kleist\"],[\"Kleist\"],[\"Kleist\"],[\"Kleist\"],[\"Kleist\"],[\"Kleist\"],[\"Kleist\"],[\"Klemm\"],[\"Klemm\"],[\"Klingemann\"],[\"Klinger\"],[\"Klinger\"],[\"Klinger\"],[\"Klinger\"],[\"Klinger\"],[\"Klinger\"],[\"Klopstock\"],[\"Klopstock\"],[\"Kobell\"],[\"K\\u00f6rner\"],[\"K\\u00f6rner\"],[\"Koller\"],[\"Kotzebue\"],[\"Kotzebue\"],[\"Kotzebue\"],[\"Kotzebue\"],[\"Kotzebue\"],[\"Kotzebue\"],[\"Kotzebue\"],[\"Kotzebue\"],[\"Kotzebue\"],[\"Kotzebue\"],[\"Kotzebue\"],[\"Kotzebue\"],[\"Kotzebue\"],[\"Kotzebue\"],[\"Kotzebue\"],[\"Kotzebue\"],[\"Kotzebue\"],[\"Kraus\"],[\"Kraus\"],[\"Kr\\u00fcger\"],[\"Kr\\u00fcger\"],[\"Kupelwieser\"],[\"Kurz\"],[\"L'Arronge\"],[\"L'Arronge\"],[\"Lassalle\"],[\"Laube\"],[\"Laube\"],[\"Laube\"],[\"Laube\"],[\"Laufs\"],[\"Lautensack\"],[\"Lautensack\"],[\"Lautensack\"],[\"Leisewitz\"],[\"Leisewitz\"],[\"Leisewitz\"],[\"Lenz\"],[\"Lenz\"],[\"Lenz\"],[\"Lenz\"],[\"Lenz\"],[\"Lessing\"],[\"Lessing\"],[\"Lessing\"],[\"Lessing\"],[\"Lessing\"],[\"Lessing\"],[\"Lessing\"],[\"Lessing\"],[\"Lessing\"],[\"Lessing\"],[\"Lessing\"],[\"Lessing\"],[\"Lortzing\"],[\"Lortzing\"],[\"Lortzing\"],[\"Ludwig\"],[\"Ludwig\"],[\"Maler M\\u00fcller\"],[\"Maler M\\u00fcller\"],[\"Mal\\u00df\"],[\"Mal\\u00df\"],[\"May\"],[\"Meisl\"],[\"Meisl\"],[\"M\\u00f6ller\"],[\"M\\u00f6ller\"],[\"M\\u00f6ser\"],[\"Moritz\"],[\"Mosenthal\"],[\"Mosenthal\"],[\"Mosenthal\"],[\"Moser\"],[\"Moser\"],[\"M\\u00fchsam\"],[\"M\\u00fchsam\"],[\"M\\u00fcllner\"],[\"M\\u00fcllner\"],[\"M\\u00fcllner\"],[\"Musil\"],[\"Mylius\"],[\"Nestroy\"],[\"Nestroy\"],[\"Nestroy\"],[\"Nestroy\"],[\"Nestroy\"],[\"Nestroy\"],[\"Nestroy\"],[\"Nestroy\"],[\"Nestroy\"],[\"Nestroy\"],[\"Nestroy\"],[\"Niebergall\"],[\"Panizza\"],[\"Panizza\"],[\"Pfeil\"],[\"Platen\"],[\"Platen\"],[\"Platen\"],[\"Prutz\"],[\"Quistorp\"],[\"Raimund\"],[\"Raimund\"],[\"Raimund\"],[\"Raimund\"],[\"Raimund\"],[\"Raimund\"],[\"Raimund\"],[\"Raimund\"],[\"Rambach\"],[\"Raupach\"],[\"Raupach\"],[\"Reil\"],[\"Reinick\"],[\"Reuter\"],[\"Reuter\"],[\"Reuter\"],[\"Richter\"],[\"Riese\"],[\"Rilke\"],[\"Roeber\"],[\"Rosenow\"],[\"Rosenow\"],[\"Rubiner\"],[\"Ruederer\"],[\"Sachs\"],[\"Sander\"],[\"Schaefer\"],[\"Scheerbart\"],[\"Scheerbart\"],[\"Scheerbart\"],[\"Scheerbart\"],[\"Scheerbart\"],[\"Scheerbart\"],[\"Scheerbart\"],[\"Scheerbart\"],[\"Scheerbart\"],[\"Scheerbart\"],[\"Scheerbart\"],[\"Scheerbart\"],[\"Scheerbart\"],[\"Scheerbart\"],[\"Scheerbart\"],[\"Scheerbart\"],[\"Scheerbart\"],[\"Scheerbart\"],[\"Scheerbart\"],[\"Scheerbart\"],[\"Schikaneder\"],[\"Schildbach\"],[\"Schiller\"],[\"Schiller\"],[\"Schiller\"],[\"Schiller\"],[\"Schiller\"],[\"Schiller\"],[\"Schiller\"],[\"Schiller\"],[\"Schiller\"],[\"Schiller\"],[\"Schiller\"],[\"Schink\"],[\"Schink\"],[\"Schlaf\"],[\"Schlegel\"],[\"Schlegel\"],[\"Schlegel\"],[\"Schlegel\"],[\"Schlegel\"],[\"Schlegel\"],[\"Schnitzer\"],[\"Schnitzler\"],[\"Schnitzler\"],[\"Schnitzler\"],[\"Schnitzler\"],[\"Schnitzler\"],[\"Schnitzler\"],[\"Schnitzler\"],[\"Schnitzler\"],[\"Schnitzler\"],[\"Schnitzler\"],[\"Schnitzler\"],[\"Schnitzler\"],[\"Schnitzler\"],[\"Schnitzler\"],[\"Schnitzler\"],[\"Schnitzler\"],[\"Schnitzler\"],[\"Schober\"],[\"Sch\\u00f6nherr\"],[\"Sch\\u00f6nthan\"],[\"Schouw\\u00e4rt\"],[\"Schr\\u00f6der\"],[\"Sch\\u00fctz\"],[\"Seemann\"],[\"Sessa\"],[\"Seume\"],[\"Sievers\"],[\"Simrock\"],[\"Soden\"],[\"Solbrig\"],[\"Sonnleithner\"],[\"Sorge\"],[\"Sorge\"],[\"Sorge\"],[\"Stavenhagen\"],[\"Stephanie\"],[\"Stephanie\"],[\"Stephanie\"],[\"Stephanie\"],[\"Sternheim\"],[\"Stramm\"],[\"Sudermann\"],[\"Sudermann\"],[\"Sudermann\"],[\"Sudermann\"],[\"Sudermann\"],[\"Thoma\"],[\"Thoma\"],[\"Thoma\"],[\"Thoma\"],[\"Thoma\"],[\"Thoma\"],[\"Tieck\"],[\"Tieck\"],[\"Tieck\"],[\"Tieck\"],[\"Tieck\"],[\"Tieck\"],[\"Tieck\"],[\"T\\u00f6rring\"],[\"Treitschke\"],[\"Uhland\"],[\"Uhland\"],[\"Vanoni\"],[\"Vischer\"],[\"Vo\\u00df\"],[\"Wagner\"],[\"Wagner\"],[\"Wagner\"],[\"Wagner\"],[\"Wagner\"],[\"Wagner\"],[\"Wagner\"],[\"Wagner\"],[\"Wagner\"],[\"Wagner\"],[\"Wagner\"],[\"Wagner\"],[\"Wagner\"],[\"Wedekind\"],[\"Wedekind\"],[\"Wedekind\"],[\"Wedekind\"],[\"Wedekind\"],[\"Wedekind\"],[\"Wedekind\"],[\"Wedekind\"],[\"Wedekind\"],[\"Wedekind\"],[\"Wedekind\"],[\"Wedekind\"],[\"Weidmann\"],[\"Weidmann\"],[\"Weise\"],[\"Wei\\u00dfe\"],[\"Wei\\u00dfe\"],[\"Werner\"],[\"Widmann\"],[\"Widmann\"],[\"Wieland\"],[\"Wieland\"],[\"Wieland\"],[\"Wilbrandt\"],[\"Wilbrandt\"],[\"Wildenbruch\"],[\"Wildenbruch\"],[\"Wildenbruch\"],[\"Wildgans\"],[\"Wildgans\"],[\"Wildgans\"],[\"Wohlbr\\u00fcck\"],[\"Wolfram\"],[\"Zedlitz\"],[\"Zedlitz\"],[\"Zedlitz\"],[\"Zschokke\"]],\"hovertemplate\":\"firstAuthorGender=male<br>title=%{x}<br>BDSL_autortitel=%{y}<br>firstAuthor=%{customdata[0]}<extra></extra>\",\"legendgroup\":\"male\",\"marker\":{\"color\":\"#636efa\",\"pattern\":{\"shape\":\"\"}},\"name\":\"male\",\"offsetgroup\":\"male\",\"orientation\":\"v\",\"showlegend\":true,\"textposition\":\"auto\",\"x\":[\"Am ersten Mai\",\"Brot!\",\"Im Suff\",\"Der Com\\u00f6dienfeind\",\"Prinz Tu-Ta-Tu\",\"Das vierte Gebot\",\"Der Gwissenswurm\",\"Der Meineidbauer\",\"Der Pfarrer von Kirchfeld\",\"Die Kreuzelschreiber\",\"Heimg'funden\",\"Das Loch oder Das wiedergefundene Paradies\",\"Halle\",\"Jerusalem\",\"Marino Caboga\",\"Der Rauchfangkehrer oder Die unentbehrlichen Verr\\u00e4ther ihrer Herrschaften aus Eigennutz\",\"Faust\",\"Der Postzug oder die noblen Passionen\",\"Virginia oder Das abgeschaffte Decemvirat\",\"Die B\\u00fcrger in Wien\",\"Doktor Faust's Mantel\",\"Der vollendete Faust oder Romanien in Jauer\",\"Das Konzert\",\"Die Nase des Michelangelo\",\"Der blaue Boll\",\"B\\u00fcrgerlich und Romantisch\",\"Gro\\u00dfj\\u00e4hrig\",\"Industrie und Herz\",\"Der Paria\",\"Struensee\",\"Das bemooste Haupt oder Der lange Isra\\u00ebl\",\"Die Hochzeitsreise\",\"Die L\\u00fcgnerin\",\"Doctor Wespe\",\"Die Jubelfeier der H\\u00f6lle, oder Faust der j\\u00fcngere\",\"Faust\",\"Der Hausherr in der Klemme\",\"Stella und Antonie\",\"Ein Faust der That\",\"Weltgericht\",\"Im wei\\u00dfen R\\u00f6\\u00dfl\",\"Odoardo Galotti, Vater der Emilia\",\"Drau\\u00dfen vor der T\\u00fcr\",\"Der Bookesbeutel\",\"Bahnmeister Dood\",\"De rode \\u00dcnnerrock\",\"Narzi\\u00df\",\"Ariadne auf Naxos\",\"Hans von Zanow oder: Der Landjunker in Berlin\",\"Ino\",\"Das Nachtlager von Granada\",\"Faust\",\"Brutus\",\"Der Freigeist\",\"Die Gr\\u00fcndung Prags\",\"Ponce de Leon\",\"Belmont und Constanze oder Die Entf\\u00fchrung aus dem Serail\",\"Dantons Tod\",\"Leonce und Lena\",\"Woyzeck\",\"Die neue Messaline\",\"Der Trompeter von S\\u00e4kkingen\",\"Doktor Faust\",\"Turandot\",\"Der Schicksalsstrumpf\",\"Die F\\u00fchrer\",\"Wunder um Verdun\",\"Balboa\",\"Coriolan\",\"Der Barbier von Bagdad\",\"Die Katze l\\u00e4\\u00dft das Mausen nicht\",\"Codrus\",\"Der Mi\\u00dftrauische\",\"Die Spielereien einer Kaiserin\",\"Die Menschenfreunde\",\"Michel Michael\",\"Der Ahnherr\",\"Die Gunst des Augenblicks\",\"Hans Heiling\",\"Der Pudelhund\",\"Das Incognito oder Die mehreren K\\u00f6nige oder Alt und Neu\",\"Der letzte Held von Marienburg\",\"Die Freier\",\"Eid und Pflicht\",\"Wala\",\"Die gr\\u00f6\\u00dfte S\\u00fcnde\",\"Anna Iwanowna\",\"Belian und Marpalye\",\"Das Spiel von Doktor Faust\",\"Der Frauenmut\",\"\\u00dcberteufel\",\"Cili Cohrs\",\"Aslauga\",\"Sigurd, der Schlangent\\u00f6dter\",\"Sigurds Rache\",\"Der Gelehrte\",\"Die Journalisten\",\"Graf Waldemar\",\"Der Herrgottschnitzer von Ammergau\",\"Jessonda\",\"Die Betschwester\",\"Die z\\u00e4rtlichen Schwestern\",\"Der deutsche Hausvater oder die Familie\",\"Der Moloch\",\"Ugolino\",\"Evander und Alcimna\",\"Der Eheteufel auf Reisen\",\"Clavigo\",\"Das Jahrmarktsfest zu Plundersweilern\",\"Der B\\u00fcrgergeneral\",\"Der Gro\\u00dfkophta\",\"Der Triumph der Empfindsamkeit\",\"Des Epimenides Erwachen\",\"Die Laune des Verliebten\",\"Die Mitschuldigen\",\"Die nat\\u00fcrliche Tochter\",\"Die Wette\",\"Egmont\",\"Erwin und Elmire\",\"Faust. Der Trag\\u00f6die zweiter Teil\",\"Faust\",\"Faust [in urspr\\u00fcnglicher Gestalt]\",\"G\\u00f6tter, Helden und Wieland\",\"G\\u00f6tz von Berlichingen mit der eisernen Hand\",\"Iphigenie auf Tauris\",\"Pandora\",\"Proserpina\",\"Satyros oder der verg\\u00f6tterte Waldteufel\",\"Stella\",\"Torquato Tasso\",\"Der Dorfjahrmarkt\",\"Die Geisterinsel\",\"Medea\",\"Atalanta oder die bezwungene Spr\\u00f6digkeit\",\"Der sterbende Cato\",\"Die Hermannsschlacht\",\"Don Juan und Faust\",\"Hannibal\",\"Herzog Theodor von Gothland\",\"Kaiser Friedrich Barbarossa\",\"Kaiser Heinrich der Sechste\",\"Napoleon oder Die hundert Tage\",\"Scherz, Satire, Ironie und tiefere Bedeutung\",\"Der Gastfreund\",\"Der Traum ein Leben\",\"Des Meeres und der Liebe Wellen\",\"Die Ahnfrau\",\"Die Argonauten\",\"Die J\\u00fcdin von Toledo\",\"Ein Bruderzwist in Habsburg\",\"Ein treuer Diener seines Herrn\",\"K\\u00f6nig Ottokars Gl\\u00fcck und Ende\",\"Libussa\",\"Medea\",\"Sappho\",\"Weh dem, der l\\u00fcgt!\",\"Absurda Comica oder Herr Peter Squentz\",\"Cardenio und Celinde oder Ungl\\u00fccklich Verliebete\",\"Carolus Stuardus\",\"Catharina von Georgien oder Bewehrete Best\\u00e4ndigkeit\",\"Horribilicribrifax Teutsch\",\"Leo Armenius oder F\\u00fcrsten-Mord\",\"Gro\\u00dfm\\u00fctiger Rechtsgelehrter oder Sterbender Aemilius Paulus Papinianus\",\"Verlibtes Gespenste / Die gelibte Dornrose\",\"Das Urbild des Tart\\u00fcffe\",\"Richard Savage oder Der Sohn einer Mutter\",\"Uriel Acosta\",\"Zopf und Schwert\",\"Die Fledermaus\",\"Der Furchtsame\",\"M\\u00e4gera, die f\\u00f6rchterliche Hexe oder Das bezauberte Schlo\\u00df des Herrn von Einhorn\",\"Der Sohn der Wildnis\",\"Die sittliche Forderung\",\"Hanna Jagert\",\"Rosenmontag\",\"Der Sohn\",\"Der Antiquar\",\"Die armseligen Besenbinder\",\"Ephraims Breite\",\"Frau Nadja Bielew\",\"Gaukler, Tod und Juwelier\",\"Im goldenen Tempel-Buche verzeichnet\",\"Musik\",\"Tobias Buntschuh\",\"Die Ratten\",\"Florian Geyer\",\"Gabriel Schillings Flucht\",\"Vor Sonnenaufgang\",\"Agnes Bernauer\",\"Demetrius\",\"Der Diamant\",\"Der geh\\u00f6rnte Siegfried\",\"Der Rubin\",\"Genoveva\",\"Gyges und sein Ring\",\"Herodes und Mariamne\",\"Judith\",\"Kriemhilds Rache\",\"Maria Magdalene\",\"Siegfrieds Tod\",\"Ein Trauerspiel in Sizilien\",\"Almansor\",\"William Ratcliff\",\"Die Kinder Godun\\u00f3fs\",\"Peter und Alex\\u00e9j\",\"Die Teufelsm\\u00fchle am Wienerberg\",\"Hoang-Puff\",\"Atalanta oder Die Angst\",\"Der Stammbaum\",\"Die beiden Billets\",\"Colberg\",\"Don Juan's Ende\",\"Der Mann nach der Uhr oder Der ordentliche Mann\",\"Alkestis\",\"Arabella\",\"Ariadne auf Naxos\",\"Das Bergwerk zu Falun\",\"Das Salzburger gro\\u00dfe Welttheater\",\"Der Abenteurer und die S\\u00e4ngerin oder Die Geschenke des Lebens\",\"Der Rosenkavalier\",\"Der Schwierige\",\"Der Tod des Tizian\",\"Der Tor und der Tod\",\"Der Turm\",\"Der Unbestechliche\",\"Die Frau im Fenster\",\"Die Frau ohne Schatten\",\"Elektra\",\"Jedermann\",\"\\u00d6dipus und die Sphinx\",\"Die Kalkbrenner\",\"Ein Trauerspiel in Berlin\",\"Ignorabimus\",\"Traumulus\",\"Die Familie Selicke\",\"Sonnenfinsternis\",\"Sozialaristokraten\",\"Geschichten aus dem Wiener Wald\",\"Kasimir und Karoline\",\"Die Freistatt\",\"Das Erbtheil des Vaters\",\"Der Spieler\",\"Die J\\u00e4ger\",\"Figaro in Deutschland\",\"Liebe und Wille\",\"Verbrechen aus Ehrsucht\",\"Andreas Hofer, der Sandwirt von Passeier\",\"Das Gericht von St. Petersburg\",\"Die Bojaren\",\"Eudoxia\",\"Merlin\",\"Der Transport\",\"Der Gruftw\\u00e4chter\",\"Die Industrie-Ausstellung\",\"Die Koralle\",\"Die Schule des Armen oder Zwei Millionen\",\"Stadt und Land oder Der Viehh\\u00e4ndler aus Ober\\u00f6sterreich\",\"Das Bergwerk\",\"Die Opferung\",\"Die vierbeinigten Philosophen\",\"Der Freisch\\u00fctz\",\"Amphitryon\",\"Das K\\u00e4thchen von Heilbronn oder die Feuerprobe\",\"Der zerbrochne Krug\",\"Die Familie Schroffenstein\",\"Die Hermannsschlacht\",\"Penthesilea\",\"Prinz Friedrich von Homburg\",\"Der auf den Parna\\u00df versetzte gr\\u00fcne Hut\",\"Der Besuch\",\"Faust\",\"Das leidende Weib\",\"Die neue Arria\",\"Die Zwillinge\",\"Prinz Seiden-Wurm der Reformator oder die Kron-Kompetenten\",\"Simsone Grisaldo\",\"Sturm und Drang\",\"Der Tod Adams\",\"Hermanns Schlacht\",\"Der Roaga [Reiher]\",\"Die Braut\",\"Zriny\",\"Der Zauberstein\",\"Der arme Poet\",\"Der Freimaurer\",\"Der Hyperboreische Esel, oder Die heutige Bildung\",\"Der Schutzgeist\",\"Der Verschwiegene wider Willen, oder die Fahrt von Berlin nach Potsdam\",\"Der weibliche Jacobiner-Clubb\",\"Der Wirrwarr, oder der Muthwillige\",\"Die beiden Klingsberg\",\"Die deutschen Kleinst\\u00e4dter\",\"Die Indianer in England\",\"Die Spanier in Peru, oder: Rollas Tod\",\"Graf Benjowsky, oder: die Verschw\\u00f6rung auf Kamtschatka\",\"M\\u00e4dchenfreundschaft, oder der t\\u00fcrkische Gesandte\",\"Menschenha\\u00df und Reue\",\"Pagenstreiche\",\"Sultan Wampum, oder: die W\\u00fcnsche\",\"\\u00dcble Laune\",\"Die letzten Tage der Menschheit\",\"Traumst\\u00fcck\",\"Die Candidaten oder Die Mittel zu einem Amte zu gelangen\",\"Die Geistlichen auf dem Lande\",\"Fierrabras\",\"Prinzessin Pumphia\",\"Hasemann's T\\u00f6chter\",\"Mein Leopold\",\"Franz von Sickingen\",\"Die Karlssch\\u00fcler\",\"Gottsched und Gellert\",\"Monaldeschi\",\"Struensee\",\"Pension Sch\\u00f6ller\",\"Die Pfarrhauskom\\u00f6die\",\"Hahnenkampf\",\"Medusa\",\"Der Besuch um Mitternacht\",\"Die Pfandung\",\"Julius von Tarent\",\"Der Engl\\u00e4nder\",\"Der Hofmeister oder Vorteile der Privaterziehung\",\"Der neue Menoza oder Geschichte des cumbanischen Prinzen Tandi\",\"Die Freunde machen den Philosophen\",\"Die Soldaten\",\"Damon, oder die wahre Freundschaft\",\"Der Freigeist\",\"Der junge Gelehrte\",\"Der Misogyn\",\"Der Schatz\",\"Die alte Jungfer\",\"Die Juden\",\"Emilia Galotti\",\"Minna von Barnhelm oder das Soldatengl\\u00fcck\",\"Mi\\u00df Sara Sampson\",\"Nathan der Weise\",\"Philotas\",\"Der Waffenschmied\",\"Der Wildsch\\u00fctz oder Die Stimme der Natur\",\"Zar und Zimmermann\",\"Der Erbf\\u00f6rster\",\"Die Makkab\\u00e4er\",\"Fausts Leben dramatisiert\",\"Golo und Genovefa\",\"Der alte B\\u00fcrger-Capitain oder Die Entf\\u00fchrung\",\"Die Jungfern K\\u00f6chinnen\",\"Babel und Bibel\",\"Der lustige Fritz oder Schlafe, Tr\\u00e4ume, stehe auf, kleide dich an und bessre dich!\",\"Orpheus und Euridice oder So geht es im Olymp zu!\",\"Der Graf von Walltron, oder die Subordination\",\"Sophie, oder der gerechte F\\u00fcrst\",\"Die Tugend auf der Schaub\\u00fchne; oder: Harlekin's Heirath\",\"Blunt oder der Gast\",\"Das goldene Kreuz\",\"Die K\\u00f6nigin von Saba\",\"Die lustigen Weiber von Windsor\",\"Das Stiftungsfest\",\"Krieg oder Frieden?\",\"Judas\",\"Staatsr\\u00e4son\",\"Der neun und zwanzigste Februar\",\"Die Schuld\",\"K\\u00f6nig Yngurd\",\"Die Schw\\u00e4rmer\",\"Die Sch\\u00e4ferinsel\",\"Das Haus der Temperamente\",\"Das M\\u00e4dl aus der Vorstadt oder Ehrlich w\\u00e4hrt am l\\u00e4ngsten\",\"Der b\\u00f6se Geist Lumpazivagabundus oder Das liederliche Kleeblatt\",\"Der Talisman\",\"Der Unbedeutende\",\"Der Zerrissene\",\"Einen Jux will er sich machen\",\"Eulenspiegel oder Schabernack \\u00fcber Schabernack\",\"Freiheit in Kr\\u00e4hwinkel\",\"Judith und Holofernes\",\"Zu ebener Erde und erster Stock oder Die Launen des Gl\\u00fcckes\",\"Datterich\",\"Das Liebeskonzil\",\"Nero\",\"Lucie Woodvil\",\"Berengar\",\"Der romantische \\u00d6dipus\",\"Die verh\\u00e4ngnisvolle Gabel\",\"Die politische Wochenstube\",\"Der Hypochondrist\",\"Das M\\u00e4dchen aus der Feenwelt oder Der Bauer als Million\\u00e4r\",\"Der Alpenk\\u00f6nig und der Menschenfeind\",\"Der Barometermacher auf der Zauberinsel\",\"Der Diamant des Geisterk\\u00f6nigs\",\"Der Verschwender\",\"Die gefesselte Phantasie\",\"Die unheilbringende Zauberkrone oder K\\u00f6nig ohne Reich, Held ohne Mut, Sch\\u00f6nheit ohne Jugend\",\"Moisasurs Zauberfluch\",\"Die Kuhpocken\",\"Agnes von Hohenstaufen\",\"Kritik und Antikritik\",\"Der erste May oder der reiche Poet\",\"Genoveva\",\"La Maladie & la mort de l'honn\\u00e9te Femme. Das ist: Der ehrlichen Frau Schlampampe Krankheit und Tod\",\"Graf Ehrenfried\",\"L'Honn\\u00e9te Femme oder die ehrliche Frau zu Pli\\u00dfine\",\"Eumenides D\\u00fcster\",\"Martha oder Der Markt zu Richmond\",\"Ohne Gegenwart\",\"K\\u00f6nig Manfred\",\"Die im Schatten leben\",\"Kater Lampe\",\"Die Gewaltlosen\",\"Die Fahnenweihe\",\"Ein comedi von dem reichen sterbenden menschen, der Hecastus genannt\",\"Die Hoftrauer, oder das Testament\",\"Faustine, der weibliche Faust\",\"Das dumme Luder\",\"Das Gift\",\"Das Mirakel\",\"Der alte Petrus, oder Im Himmel spukt es auch\",\"Der fanatische B\\u00fcrgermeister\",\"Der Herr vom Jenseits\",\"Der Regierungswechsel\",\"Der Schornsteinfeger\",\"Der vornehme R\\u00e4uberhauptmann\",\"Der Wetterf\\u00fcrst\",\"Die lustigen R\\u00e4uber\",\"Die Puppe und die Dauerwurst\",\"Die Urgrossmutter\",\"Die Welt geht unter!\",\"Die Wurzeln der Wohlhabenheit\",\"Es lebe Europa!\",\"Herr Kammerdiener Kneetschke\",\"Lachende Gespenster\",\"Okuriras\\u00fbna\",\"R\\u00fcbezahl\",\"Die Zauberfl\\u00f6te\",\"Gl\\u00fcck durch Ungl\\u00fcck\",\"Die Braut von Messina oder Die feindlichen Br\\u00fcder\",\"Die Jungfrau von Orleans\",\"Die Piccolomini\",\"Die R\\u00e4uber\",\"Die Verschw\\u00f6rung des Fiesco zu Genua\",\"Don Carlos, Infant von Spanien\",\"Kabale und Liebe\",\"Maria Stuart\",\"Wallensteins Lager\",\"Wallensteins Tod\",\"Wilhelm Tell\",\"Der neue Doktor Faust\",\"Hanswurst von Salzburg mit dem h\\u00f6lzernen Gat\",\"Meister Oelze\",\"Alarcos\",\"Canut\",\"Der gesch\\u00e4ftige M\\u00fc\\u00dfigg\\u00e4nger\",\"Der Triumph der guten Frauen\",\"Die stumme Sch\\u00f6nheit\",\"Jon\",\"Der Zigeunerbaron\",\"Anatol\",\"Anatols Gr\\u00f6\\u00dfenwahn\",\"Das weite Land\",\"Der einsame Weg\",\"Der gr\\u00fcne Kakadu\",\"Der Puppenspieler\",\"Der tapfere Cassian\",\"Die Frau mit dem Dolche\",\"Die letzten Masken\",\"Kom\\u00f6die der Verf\\u00fchrung\",\"Komtesse Mizzi oder Der Familientag\",\"Lebendige Stunden\",\"Liebelei\",\"Literatur\",\"Professor Bernhardi\",\"Reigen\",\"Zum grossen Wurstel\",\"Alfonso und Estrella\",\"Der Weibsteufel\",\"Der Raub der Sabinerinnen\",\"Die \\u00dcberschwemmung\",\"Der Vetter in Lissabon\",\"Die Katze l\\u00e4\\u00dft das Mausen nicht\",\"Die W\\u00e4nde\",\"Unser Verkehr\",\"Miltiades\",\"Die Schatzgr\\u00e4ber\",\"Doctor Johannes Faust\",\"Doktor Faust\",\"Die Dorfschule\",\"Fidelio\",\"Der Bettler\",\"Der Sieg des Christos\",\"Odysseus\",\"Mudder Mews\",\"Der Schauspieldirektor\",\"Die Entf\\u00fchrung aus dem Serail\",\"Die Liebe im Narrenhause\",\"Doktor und Apotheker\",\"Der Snob\",\"Erwachen\",\"Der Bettler von Syrakus\",\"Die Ehre\",\"Die Schmetterlingsschlacht\",\"Heimat\",\"Stein unter Steinen\",\"Die Lokalbahn\",\"Die Medaille\",\"Erster Klasse\",\"Lottchens Geburtstag\",\"Magdalena\",\"Moral\",\"Der gestiefelte Kater\",\"Die Theegesellschaft\",\"Die verkehrte Welt\",\"Karl von Berneck\",\"Leben und Tod der heiligen Genoveva\",\"Prinz Zerbino oder die Reise nach dem guten Geschmack\",\"Ritter Blaubart\",\"Agnes Bernauerin\",\"Das Bauerngut\",\"Ernst Herzog von Schwaben\",\"Ludwig der Bayer\",\"Der Friseur\",\"Faust\",\"Faust\",\"Das Rheingold\",\"Der fliegende Holl\\u00e4nder\",\"Die Kinderm\\u00f6rderin\",\"Die Meistersinger von N\\u00fcrnberg\",\"Die Reue nach der That\",\"Die Walk\\u00fcre\",\"G\\u00f6tterd\\u00e4mmerung\",\"Lohengrin\",\"Parsifal\",\"Siegfried\",\"Tannh\\u00e4user und Der S\\u00e4ngerkrieg auf Wartburg\",\"Tristan und Isolde\",\"Voltaire am Abend seiner Apotheose\",\"Der Kammers\\u00e4nger\",\"Der Marquis von Keith\",\"Die B\\u00fcchse der Pandora\",\"Die Zensur\",\"Erdgeist\",\"Franziska\",\"Fritz Schwigerling oder Der Liebestrank\",\"Fr\\u00fchlings Erwachen\",\"Hidalla oder Sein und Haben\",\"K\\u00f6nig Nicolo oder So ist das Leben\",\"Musik\",\"Tod und Teufel (Totentanz)\",\"Der Dorfbarbier\",\"Johann Faust\",\"Masaniello\",\"Atreus und Thyest\",\"Die Jagd\",\"Der vierundzwanzigste Februar\",\"Der Widerspenstigen Z\\u00e4hmung\",\"Maik\\u00e4fer-Kom\\u00f6die\",\"Alceste\",\"Klementina von Porretta\",\"Lady Johanna Gray oder Der Triumf der Religion\",\"Der Meister von Palmyra\",\"Gracchus der Volkstribun\",\"Die Haubenlerche\",\"Die Karolinger\",\"Die Quitzows\",\"Armut\",\"Dies irae\",\"In Ewigkeit Amen\",\"Der Vampyr\",\"Faust\",\"Cabinets-Intriguen\",\"Herr und Sklave\",\"Liebe findet ihre Wege\",\"Abellino\"],\"xaxis\":\"x\",\"y\":[0,0,0,0,0,5,2,1,0,2,0,0,7,7,2,0,0,0,0,1,0,0,1,1,0,0,0,0,2,0,0,0,0,0,0,1,0,0,0,0,0,0,0,0,0,0,0,1,0,0,0,0,0,0,5,12,0,150,89,163,0,0,5,1,0,0,0,0,0,1,0,1,0,0,0,0,0,0,0,0,0,7,7,0,0,0,0,0,0,0,0,0,0,0,0,2,9,0,0,0,1,8,0,0,5,0,0,16,6,3,0,12,0,3,4,36,20,60,4,0,1346,0,4,2,82,29,20,0,33,83,0,3,1,0,8,20,9,13,16,1,0,0,17,1,13,12,8,1,36,14,4,17,27,20,10,13,0,0,33,0,4,0,0,0,0,0,2,0,0,0,0,0,0,0,0,8,0,0,2,0,0,0,8,2,21,3,1,23,24,13,4,0,2,8,0,0,31,0,3,0,3,9,3,0,0,0,0,0,0,0,1,0,0,2,9,30,9,0,0,21,65,4,8,31,16,1,17,69,20,6,0,3,0,0,6,0,1,22,10,0,0,1,2,0,0,1,0,0,0,0,3,0,5,0,2,0,0,0,0,0,6,82,0,51,37,63,192,78,0,1,5,0,0,9,0,1,16,0,6,0,0,5,0,2,0,0,0,0,0,0,0,4,3,0,2,0,0,0,0,0,49,1,0,0,0,2,0,0,0,3,1,0,0,0,0,0,0,0,1,8,7,0,0,3,46,0,4,6,3,1,1,48,114,0,0,138,34,0,0,0,0,0,0,1,0,0,4,0,0,0,0,1,0,0,0,0,0,0,2,3,0,0,0,21,2,2,0,0,9,1,12,5,0,2,3,0,7,9,0,1,0,0,0,1,2,0,5,2,4,5,0,0,1,0,0,0,0,0,0,2,0,0,0,0,0,0,0,0,0,0,0,0,0,0,0,0,0,0,0,0,0,0,0,0,0,0,0,0,0,0,0,0,11,0,0,76,3,106,1,3,53,89,6,4,92,0,0,2,9,4,0,2,3,0,0,20,0,17,12,17,3,0,2,1,0,0,2,14,42,17,86,5,0,1,0,0,0,0,0,4,2,0,0,0,0,0,4,0,0,0,0,1,0,0,14,0,0,9,0,2,0,0,11,1,0,2,26,13,2,8,1,4,0,3,0,0,1,0,0,12,0,18,35,11,73,0,17,13,44,152,38,60,112,0,4,7,10,6,8,10,0,26,0,0,2,3,0,0,16,0,0,11,0,0,8,0,0,1,0,0,0,0,0,0,0,0,0,0,0,0,0],\"yaxis\":\"y\",\"type\":\"bar\"},{\"alignmentgroup\":\"True\",\"customdata\":[[\"(Anonym)\"],[\"Berg\"],[\"Klabund\"],[\"Klabund\"],[\"Sturz\"]],\"hovertemplate\":\"firstAuthorGender=unknown<br>title=%{x}<br>BDSL_autortitel=%{y}<br>firstAuthor=%{customdata[0]}<extra></extra>\",\"legendgroup\":\"unknown\",\"marker\":{\"color\":\"#EF553B\",\"pattern\":{\"shape\":\"\"}},\"name\":\"unknown\",\"offsetgroup\":\"unknown\",\"orientation\":\"v\",\"showlegend\":true,\"textposition\":\"auto\",\"x\":[\"Der deutsche Student\",\"Berlin, wie es weint und lacht\",\"Der Kreidekreis\",\"XYZ\",\"Julie\"],\"xaxis\":\"x\",\"y\":[0,0,2,0,0],\"yaxis\":\"y\",\"type\":\"bar\"},{\"alignmentgroup\":\"True\",\"customdata\":[[\"Birch-Pfeiffer\"],[\"Birch-Pfeiffer\"],[\"Birch-Pfeiffer\"],[\"Birch-Pfeiffer\"],[\"Birch-Pfeiffer\"],[\"Birch-Pfeiffer\"],[\"Braun\"],[\"Bredow-G\\u00f6rne\"],[\"Ch\\u00e9zy\"],[\"Ch\\u00e9zy\"],[\"Dohm\"],[\"Dohm\"],[\"Dohm\"],[\"Dovsky\"],[\"Droste-H\\u00fclshoff\"],[\"Ebner-Eschenbach\"],[\"Gottsched\"],[\"Gottsched\"],[\"Gottsched\"],[\"G\\u00fcnderode\"],[\"G\\u00fcnderode\"],[\"G\\u00fcnderode\"],[\"Lachmann\"],[\"Laddey\"],[\"Lasker-Sch\\u00fcler\"],[\"Neuber\"],[\"Neuber\"],[\"Neuber\"],[\"Neuber\"],[\"Rach\\u00e9\"],[\"Wei\\u00dfenthurn\"],[\"Wei\\u00dfenthurn\"],[\"Wei\\u00dfenthurn\"],[\"Wei\\u00dfenthurn\"],[\"Wei\\u00dfenthurn\"],[\"Wette\"]],\"hovertemplate\":\"firstAuthorGender=female<br>title=%{x}<br>BDSL_autortitel=%{y}<br>firstAuthor=%{customdata[0]}<extra></extra>\",\"legendgroup\":\"female\",\"marker\":{\"color\":\"#00cc96\",\"pattern\":{\"shape\":\"\"}},\"name\":\"female\",\"offsetgroup\":\"female\",\"orientation\":\"v\",\"showlegend\":true,\"textposition\":\"auto\",\"x\":[\"Die Grille\",\"Die Walpurgisnacht\",\"In der Heimath\",\"Johannes Gutenberg\",\"Pfeffer-R\\u00f6sel oder Die Frankfurter Messe im Jahre 1297\",\"Vatersorgen\",\"Mutter Maria\",\"Gute Freunde\",\"Der neue Narzi\\u00df\",\"Euryanthe\",\"Die Ritter vom Goldenen Kalb\",\"Ein Schu\\u00df in's Schwarze\",\"Vom Stamm der Asra\",\"Mona Lisa\",\"Perdu! oder Dichter, Verleger und Blaustr\\u00fcmpfe\",\"Doctor Ritter\",\"Das Testament\",\"Der Witzling\",\"Die Pietisterey im Fischbein-Rocke oder Die Doctorm\\u00e4\\u00dfige Frau\",\"Magie und Schicksal\",\"Nikator\",\"Udohla\",\"Salome\",\"M\\u00e4ntelchen nach dem Winde\",\"Die Wupper\",\"Das Sch\\u00e4ferfest oder Die Herbstfreude\",\"Die von der Weisheit wider die Unwissenheit besch\\u00fctzte Schauspielkunst\",\"Die Verehrung der Vollkommenheit durch die gebesserten deutschen Schauspiele\",\"Ein Deutsches Vorspiel\",\"Belsazar\",\"Das Manuscript\",\"Die Schwestern St. Janvier\",\"Johann, Herzog von Finnland\",\"Welche ist die Braut!\",\"Welcher ist der Br\\u00e4utigam?\",\"H\\u00e4nsel und Gretel\"],\"xaxis\":\"x\",\"y\":[0,0,0,0,0,0,0,0,0,2,0,0,0,0,0,0,3,3,0,0,0,2,0,0,21,0,0,0,1,0,0,0,0,0,0,0],\"yaxis\":\"y\",\"type\":\"bar\"}],                        {\"template\":{\"data\":{\"histogram2dcontour\":[{\"type\":\"histogram2dcontour\",\"colorbar\":{\"outlinewidth\":0,\"ticks\":\"\"},\"colorscale\":[[0.0,\"#0d0887\"],[0.1111111111111111,\"#46039f\"],[0.2222222222222222,\"#7201a8\"],[0.3333333333333333,\"#9c179e\"],[0.4444444444444444,\"#bd3786\"],[0.5555555555555556,\"#d8576b\"],[0.6666666666666666,\"#ed7953\"],[0.7777777777777778,\"#fb9f3a\"],[0.8888888888888888,\"#fdca26\"],[1.0,\"#f0f921\"]]}],\"choropleth\":[{\"type\":\"choropleth\",\"colorbar\":{\"outlinewidth\":0,\"ticks\":\"\"}}],\"histogram2d\":[{\"type\":\"histogram2d\",\"colorbar\":{\"outlinewidth\":0,\"ticks\":\"\"},\"colorscale\":[[0.0,\"#0d0887\"],[0.1111111111111111,\"#46039f\"],[0.2222222222222222,\"#7201a8\"],[0.3333333333333333,\"#9c179e\"],[0.4444444444444444,\"#bd3786\"],[0.5555555555555556,\"#d8576b\"],[0.6666666666666666,\"#ed7953\"],[0.7777777777777778,\"#fb9f3a\"],[0.8888888888888888,\"#fdca26\"],[1.0,\"#f0f921\"]]}],\"heatmap\":[{\"type\":\"heatmap\",\"colorbar\":{\"outlinewidth\":0,\"ticks\":\"\"},\"colorscale\":[[0.0,\"#0d0887\"],[0.1111111111111111,\"#46039f\"],[0.2222222222222222,\"#7201a8\"],[0.3333333333333333,\"#9c179e\"],[0.4444444444444444,\"#bd3786\"],[0.5555555555555556,\"#d8576b\"],[0.6666666666666666,\"#ed7953\"],[0.7777777777777778,\"#fb9f3a\"],[0.8888888888888888,\"#fdca26\"],[1.0,\"#f0f921\"]]}],\"heatmapgl\":[{\"type\":\"heatmapgl\",\"colorbar\":{\"outlinewidth\":0,\"ticks\":\"\"},\"colorscale\":[[0.0,\"#0d0887\"],[0.1111111111111111,\"#46039f\"],[0.2222222222222222,\"#7201a8\"],[0.3333333333333333,\"#9c179e\"],[0.4444444444444444,\"#bd3786\"],[0.5555555555555556,\"#d8576b\"],[0.6666666666666666,\"#ed7953\"],[0.7777777777777778,\"#fb9f3a\"],[0.8888888888888888,\"#fdca26\"],[1.0,\"#f0f921\"]]}],\"contourcarpet\":[{\"type\":\"contourcarpet\",\"colorbar\":{\"outlinewidth\":0,\"ticks\":\"\"}}],\"contour\":[{\"type\":\"contour\",\"colorbar\":{\"outlinewidth\":0,\"ticks\":\"\"},\"colorscale\":[[0.0,\"#0d0887\"],[0.1111111111111111,\"#46039f\"],[0.2222222222222222,\"#7201a8\"],[0.3333333333333333,\"#9c179e\"],[0.4444444444444444,\"#bd3786\"],[0.5555555555555556,\"#d8576b\"],[0.6666666666666666,\"#ed7953\"],[0.7777777777777778,\"#fb9f3a\"],[0.8888888888888888,\"#fdca26\"],[1.0,\"#f0f921\"]]}],\"surface\":[{\"type\":\"surface\",\"colorbar\":{\"outlinewidth\":0,\"ticks\":\"\"},\"colorscale\":[[0.0,\"#0d0887\"],[0.1111111111111111,\"#46039f\"],[0.2222222222222222,\"#7201a8\"],[0.3333333333333333,\"#9c179e\"],[0.4444444444444444,\"#bd3786\"],[0.5555555555555556,\"#d8576b\"],[0.6666666666666666,\"#ed7953\"],[0.7777777777777778,\"#fb9f3a\"],[0.8888888888888888,\"#fdca26\"],[1.0,\"#f0f921\"]]}],\"mesh3d\":[{\"type\":\"mesh3d\",\"colorbar\":{\"outlinewidth\":0,\"ticks\":\"\"}}],\"scatter\":[{\"fillpattern\":{\"fillmode\":\"overlay\",\"size\":10,\"solidity\":0.2},\"type\":\"scatter\"}],\"parcoords\":[{\"type\":\"parcoords\",\"line\":{\"colorbar\":{\"outlinewidth\":0,\"ticks\":\"\"}}}],\"scatterpolargl\":[{\"type\":\"scatterpolargl\",\"marker\":{\"colorbar\":{\"outlinewidth\":0,\"ticks\":\"\"}}}],\"bar\":[{\"error_x\":{\"color\":\"#2a3f5f\"},\"error_y\":{\"color\":\"#2a3f5f\"},\"marker\":{\"line\":{\"color\":\"#E5ECF6\",\"width\":0.5},\"pattern\":{\"fillmode\":\"overlay\",\"size\":10,\"solidity\":0.2}},\"type\":\"bar\"}],\"scattergeo\":[{\"type\":\"scattergeo\",\"marker\":{\"colorbar\":{\"outlinewidth\":0,\"ticks\":\"\"}}}],\"scatterpolar\":[{\"type\":\"scatterpolar\",\"marker\":{\"colorbar\":{\"outlinewidth\":0,\"ticks\":\"\"}}}],\"histogram\":[{\"marker\":{\"pattern\":{\"fillmode\":\"overlay\",\"size\":10,\"solidity\":0.2}},\"type\":\"histogram\"}],\"scattergl\":[{\"type\":\"scattergl\",\"marker\":{\"colorbar\":{\"outlinewidth\":0,\"ticks\":\"\"}}}],\"scatter3d\":[{\"type\":\"scatter3d\",\"line\":{\"colorbar\":{\"outlinewidth\":0,\"ticks\":\"\"}},\"marker\":{\"colorbar\":{\"outlinewidth\":0,\"ticks\":\"\"}}}],\"scattermapbox\":[{\"type\":\"scattermapbox\",\"marker\":{\"colorbar\":{\"outlinewidth\":0,\"ticks\":\"\"}}}],\"scatterternary\":[{\"type\":\"scatterternary\",\"marker\":{\"colorbar\":{\"outlinewidth\":0,\"ticks\":\"\"}}}],\"scattercarpet\":[{\"type\":\"scattercarpet\",\"marker\":{\"colorbar\":{\"outlinewidth\":0,\"ticks\":\"\"}}}],\"carpet\":[{\"aaxis\":{\"endlinecolor\":\"#2a3f5f\",\"gridcolor\":\"white\",\"linecolor\":\"white\",\"minorgridcolor\":\"white\",\"startlinecolor\":\"#2a3f5f\"},\"baxis\":{\"endlinecolor\":\"#2a3f5f\",\"gridcolor\":\"white\",\"linecolor\":\"white\",\"minorgridcolor\":\"white\",\"startlinecolor\":\"#2a3f5f\"},\"type\":\"carpet\"}],\"table\":[{\"cells\":{\"fill\":{\"color\":\"#EBF0F8\"},\"line\":{\"color\":\"white\"}},\"header\":{\"fill\":{\"color\":\"#C8D4E3\"},\"line\":{\"color\":\"white\"}},\"type\":\"table\"}],\"barpolar\":[{\"marker\":{\"line\":{\"color\":\"#E5ECF6\",\"width\":0.5},\"pattern\":{\"fillmode\":\"overlay\",\"size\":10,\"solidity\":0.2}},\"type\":\"barpolar\"}],\"pie\":[{\"automargin\":true,\"type\":\"pie\"}]},\"layout\":{\"autotypenumbers\":\"strict\",\"colorway\":[\"#636efa\",\"#EF553B\",\"#00cc96\",\"#ab63fa\",\"#FFA15A\",\"#19d3f3\",\"#FF6692\",\"#B6E880\",\"#FF97FF\",\"#FECB52\"],\"font\":{\"color\":\"#2a3f5f\"},\"hovermode\":\"closest\",\"hoverlabel\":{\"align\":\"left\"},\"paper_bgcolor\":\"white\",\"plot_bgcolor\":\"#E5ECF6\",\"polar\":{\"bgcolor\":\"#E5ECF6\",\"angularaxis\":{\"gridcolor\":\"white\",\"linecolor\":\"white\",\"ticks\":\"\"},\"radialaxis\":{\"gridcolor\":\"white\",\"linecolor\":\"white\",\"ticks\":\"\"}},\"ternary\":{\"bgcolor\":\"#E5ECF6\",\"aaxis\":{\"gridcolor\":\"white\",\"linecolor\":\"white\",\"ticks\":\"\"},\"baxis\":{\"gridcolor\":\"white\",\"linecolor\":\"white\",\"ticks\":\"\"},\"caxis\":{\"gridcolor\":\"white\",\"linecolor\":\"white\",\"ticks\":\"\"}},\"coloraxis\":{\"colorbar\":{\"outlinewidth\":0,\"ticks\":\"\"}},\"colorscale\":{\"sequential\":[[0.0,\"#0d0887\"],[0.1111111111111111,\"#46039f\"],[0.2222222222222222,\"#7201a8\"],[0.3333333333333333,\"#9c179e\"],[0.4444444444444444,\"#bd3786\"],[0.5555555555555556,\"#d8576b\"],[0.6666666666666666,\"#ed7953\"],[0.7777777777777778,\"#fb9f3a\"],[0.8888888888888888,\"#fdca26\"],[1.0,\"#f0f921\"]],\"sequentialminus\":[[0.0,\"#0d0887\"],[0.1111111111111111,\"#46039f\"],[0.2222222222222222,\"#7201a8\"],[0.3333333333333333,\"#9c179e\"],[0.4444444444444444,\"#bd3786\"],[0.5555555555555556,\"#d8576b\"],[0.6666666666666666,\"#ed7953\"],[0.7777777777777778,\"#fb9f3a\"],[0.8888888888888888,\"#fdca26\"],[1.0,\"#f0f921\"]],\"diverging\":[[0,\"#8e0152\"],[0.1,\"#c51b7d\"],[0.2,\"#de77ae\"],[0.3,\"#f1b6da\"],[0.4,\"#fde0ef\"],[0.5,\"#f7f7f7\"],[0.6,\"#e6f5d0\"],[0.7,\"#b8e186\"],[0.8,\"#7fbc41\"],[0.9,\"#4d9221\"],[1,\"#276419\"]]},\"xaxis\":{\"gridcolor\":\"white\",\"linecolor\":\"white\",\"ticks\":\"\",\"title\":{\"standoff\":15},\"zerolinecolor\":\"white\",\"automargin\":true,\"zerolinewidth\":2},\"yaxis\":{\"gridcolor\":\"white\",\"linecolor\":\"white\",\"ticks\":\"\",\"title\":{\"standoff\":15},\"zerolinecolor\":\"white\",\"automargin\":true,\"zerolinewidth\":2},\"scene\":{\"xaxis\":{\"backgroundcolor\":\"#E5ECF6\",\"gridcolor\":\"white\",\"linecolor\":\"white\",\"showbackground\":true,\"ticks\":\"\",\"zerolinecolor\":\"white\",\"gridwidth\":2},\"yaxis\":{\"backgroundcolor\":\"#E5ECF6\",\"gridcolor\":\"white\",\"linecolor\":\"white\",\"showbackground\":true,\"ticks\":\"\",\"zerolinecolor\":\"white\",\"gridwidth\":2},\"zaxis\":{\"backgroundcolor\":\"#E5ECF6\",\"gridcolor\":\"white\",\"linecolor\":\"white\",\"showbackground\":true,\"ticks\":\"\",\"zerolinecolor\":\"white\",\"gridwidth\":2}},\"shapedefaults\":{\"line\":{\"color\":\"#2a3f5f\"}},\"annotationdefaults\":{\"arrowcolor\":\"#2a3f5f\",\"arrowhead\":0,\"arrowwidth\":1},\"geo\":{\"bgcolor\":\"white\",\"landcolor\":\"#E5ECF6\",\"subunitcolor\":\"white\",\"showland\":true,\"showlakes\":true,\"lakecolor\":\"white\"},\"title\":{\"x\":0.05},\"mapbox\":{\"style\":\"light\"}}},\"xaxis\":{\"anchor\":\"y\",\"domain\":[0.0,1.0],\"title\":{\"text\":\"title\"},\"categoryorder\":\"total descending\"},\"yaxis\":{\"anchor\":\"x\",\"domain\":[0.0,1.0],\"title\":{\"text\":\"BDSL_autortitel\"}},\"legend\":{\"title\":{\"text\":\"firstAuthorGender\"},\"tracegroupgap\":0},\"margin\":{\"t\":60},\"barmode\":\"relative\"},                        {\"responsive\": true}                    ).then(function(){\n",
       "                            \n",
       "var gd = document.getElementById('dfcb0cec-4aaf-4f8d-9dca-349fe8d2afac');\n",
       "var x = new MutationObserver(function (mutations, observer) {{\n",
       "        var display = window.getComputedStyle(gd).display;\n",
       "        if (!display || display === 'none') {{\n",
       "            console.log([gd, 'removed!']);\n",
       "            Plotly.purge(gd);\n",
       "            observer.disconnect();\n",
       "        }}\n",
       "}});\n",
       "\n",
       "// Listen for the removal of the full notebook cells\n",
       "var notebookContainer = gd.closest('#notebook-container');\n",
       "if (notebookContainer) {{\n",
       "    x.observe(notebookContainer, {childList: true});\n",
       "}}\n",
       "\n",
       "// Listen for the clearing of the current output cell\n",
       "var outputEl = gd.closest('.output');\n",
       "if (outputEl) {{\n",
       "    x.observe(outputEl, {childList: true});\n",
       "}}\n",
       "\n",
       "                        })                };                });            </script>        </div>"
      ]
     },
     "metadata": {},
     "output_type": "display_data"
    }
   ],
   "source": [
    "fig = px.bar(df, x='title', y='BDSL_autortitel', color=\"firstAuthorGender\", hover_data=[\"firstAuthor\", \"BDSL_autortitel\"])\n",
    "fig.update_xaxes(categoryorder='total descending')\n",
    "fig.show()"
   ]
  },
  {
   "cell_type": "code",
   "execution_count": 10,
   "id": "edf1224c",
   "metadata": {},
   "outputs": [
    {
     "data": {
      "application/vnd.plotly.v1+json": {
       "config": {
        "plotlyServerURL": "https://plot.ly"
       },
       "data": [
        {
         "alignmentgroup": "True",
         "customdata": [
          [
           "Büchner"
          ],
          [
           "Büchner"
          ],
          [
           "Büchner"
          ],
          [
           "Goethe"
          ],
          [
           "Goethe"
          ],
          [
           "Goethe"
          ],
          [
           "Goethe"
          ],
          [
           "Goethe"
          ],
          [
           "Goethe"
          ],
          [
           "Grillparzer"
          ],
          [
           "Gryphius"
          ],
          [
           "Hebbel"
          ],
          [
           "Hofmannsthal"
          ],
          [
           "Hofmannsthal"
          ],
          [
           "Hofmannsthal"
          ],
          [
           "Kleist"
          ],
          [
           "Kleist"
          ],
          [
           "Kleist"
          ],
          [
           "Kleist"
          ],
          [
           "Kleist"
          ],
          [
           "Kleist"
          ],
          [
           "Kraus"
          ],
          [
           "Lenz"
          ],
          [
           "Lessing"
          ],
          [
           "Lessing"
          ],
          [
           "Lessing"
          ],
          [
           "Lessing"
          ],
          [
           "Schiller"
          ],
          [
           "Schiller"
          ],
          [
           "Schiller"
          ],
          [
           "Schiller"
          ],
          [
           "Schiller"
          ],
          [
           "Schnitzler"
          ],
          [
           "Schnitzler"
          ],
          [
           "Wagner"
          ],
          [
           "Wagner"
          ],
          [
           "Wagner"
          ],
          [
           "Wagner"
          ],
          [
           "Wagner"
          ],
          [
           "Wagner"
          ],
          [
           "Wagner"
          ]
         ],
         "hovertemplate": "firstAuthorGender=male<br>title=%{x}<br>BDSL_autortitel=%{y}<br>firstAuthor=%{customdata[0]}<extra></extra>",
         "legendgroup": "male",
         "marker": {
          "color": "#636efa",
          "pattern": {
           "shape": ""
          }
         },
         "name": "male",
         "offsetgroup": "male",
         "orientation": "v",
         "showlegend": true,
         "textposition": "auto",
         "type": "bar",
         "x": [
          "Dantons Tod",
          "Leonce und Lena",
          "Woyzeck",
          "Die natürliche Tochter",
          "Egmont",
          "Faust",
          "Iphigenie auf Tauris",
          "Stella",
          "Torquato Tasso",
          "Die Jüdin von Toledo",
          "Carolus Stuardus",
          "Judith",
          "Der Schwierige",
          "Der Turm",
          "Elektra",
          "Amphitryon",
          "Der zerbrochne Krug",
          "Die Familie Schroffenstein",
          "Die Hermannsschlacht",
          "Penthesilea",
          "Prinz Friedrich von Homburg",
          "Die letzten Tage der Menschheit",
          "Die Soldaten",
          "Die Juden",
          "Emilia Galotti",
          "Nathan der Weise",
          "Philotas",
          "Die Jungfrau von Orleans",
          "Die Räuber",
          "Kabale und Liebe",
          "Maria Stuart",
          "Wilhelm Tell",
          "Literatur",
          "Reigen",
          "Der fliegende Holländer",
          "Die Meistersinger von Nürnberg",
          "Lohengrin",
          "Parsifal",
          "Siegfried",
          "Tannhäuser und Der Sängerkrieg auf Wartburg",
          "Tristan und Isolde"
         ],
         "xaxis": "x",
         "y": [
          150,
          89,
          163,
          36,
          60,
          1346,
          82,
          33,
          83,
          36,
          33,
          31,
          65,
          31,
          69,
          82,
          51,
          37,
          63,
          192,
          78,
          49,
          46,
          48,
          114,
          138,
          34,
          76,
          106,
          53,
          89,
          92,
          42,
          86,
          35,
          73,
          44,
          152,
          38,
          60,
          112
         ],
         "yaxis": "y"
        }
       ],
       "layout": {
        "barmode": "relative",
        "legend": {
         "title": {
          "text": "firstAuthorGender"
         },
         "tracegroupgap": 0
        },
        "margin": {
         "t": 60
        },
        "template": {
         "data": {
          "bar": [
           {
            "error_x": {
             "color": "#2a3f5f"
            },
            "error_y": {
             "color": "#2a3f5f"
            },
            "marker": {
             "line": {
              "color": "#E5ECF6",
              "width": 0.5
             },
             "pattern": {
              "fillmode": "overlay",
              "size": 10,
              "solidity": 0.2
             }
            },
            "type": "bar"
           }
          ],
          "barpolar": [
           {
            "marker": {
             "line": {
              "color": "#E5ECF6",
              "width": 0.5
             },
             "pattern": {
              "fillmode": "overlay",
              "size": 10,
              "solidity": 0.2
             }
            },
            "type": "barpolar"
           }
          ],
          "carpet": [
           {
            "aaxis": {
             "endlinecolor": "#2a3f5f",
             "gridcolor": "white",
             "linecolor": "white",
             "minorgridcolor": "white",
             "startlinecolor": "#2a3f5f"
            },
            "baxis": {
             "endlinecolor": "#2a3f5f",
             "gridcolor": "white",
             "linecolor": "white",
             "minorgridcolor": "white",
             "startlinecolor": "#2a3f5f"
            },
            "type": "carpet"
           }
          ],
          "choropleth": [
           {
            "colorbar": {
             "outlinewidth": 0,
             "ticks": ""
            },
            "type": "choropleth"
           }
          ],
          "contour": [
           {
            "colorbar": {
             "outlinewidth": 0,
             "ticks": ""
            },
            "colorscale": [
             [
              0,
              "#0d0887"
             ],
             [
              0.1111111111111111,
              "#46039f"
             ],
             [
              0.2222222222222222,
              "#7201a8"
             ],
             [
              0.3333333333333333,
              "#9c179e"
             ],
             [
              0.4444444444444444,
              "#bd3786"
             ],
             [
              0.5555555555555556,
              "#d8576b"
             ],
             [
              0.6666666666666666,
              "#ed7953"
             ],
             [
              0.7777777777777778,
              "#fb9f3a"
             ],
             [
              0.8888888888888888,
              "#fdca26"
             ],
             [
              1,
              "#f0f921"
             ]
            ],
            "type": "contour"
           }
          ],
          "contourcarpet": [
           {
            "colorbar": {
             "outlinewidth": 0,
             "ticks": ""
            },
            "type": "contourcarpet"
           }
          ],
          "heatmap": [
           {
            "colorbar": {
             "outlinewidth": 0,
             "ticks": ""
            },
            "colorscale": [
             [
              0,
              "#0d0887"
             ],
             [
              0.1111111111111111,
              "#46039f"
             ],
             [
              0.2222222222222222,
              "#7201a8"
             ],
             [
              0.3333333333333333,
              "#9c179e"
             ],
             [
              0.4444444444444444,
              "#bd3786"
             ],
             [
              0.5555555555555556,
              "#d8576b"
             ],
             [
              0.6666666666666666,
              "#ed7953"
             ],
             [
              0.7777777777777778,
              "#fb9f3a"
             ],
             [
              0.8888888888888888,
              "#fdca26"
             ],
             [
              1,
              "#f0f921"
             ]
            ],
            "type": "heatmap"
           }
          ],
          "heatmapgl": [
           {
            "colorbar": {
             "outlinewidth": 0,
             "ticks": ""
            },
            "colorscale": [
             [
              0,
              "#0d0887"
             ],
             [
              0.1111111111111111,
              "#46039f"
             ],
             [
              0.2222222222222222,
              "#7201a8"
             ],
             [
              0.3333333333333333,
              "#9c179e"
             ],
             [
              0.4444444444444444,
              "#bd3786"
             ],
             [
              0.5555555555555556,
              "#d8576b"
             ],
             [
              0.6666666666666666,
              "#ed7953"
             ],
             [
              0.7777777777777778,
              "#fb9f3a"
             ],
             [
              0.8888888888888888,
              "#fdca26"
             ],
             [
              1,
              "#f0f921"
             ]
            ],
            "type": "heatmapgl"
           }
          ],
          "histogram": [
           {
            "marker": {
             "pattern": {
              "fillmode": "overlay",
              "size": 10,
              "solidity": 0.2
             }
            },
            "type": "histogram"
           }
          ],
          "histogram2d": [
           {
            "colorbar": {
             "outlinewidth": 0,
             "ticks": ""
            },
            "colorscale": [
             [
              0,
              "#0d0887"
             ],
             [
              0.1111111111111111,
              "#46039f"
             ],
             [
              0.2222222222222222,
              "#7201a8"
             ],
             [
              0.3333333333333333,
              "#9c179e"
             ],
             [
              0.4444444444444444,
              "#bd3786"
             ],
             [
              0.5555555555555556,
              "#d8576b"
             ],
             [
              0.6666666666666666,
              "#ed7953"
             ],
             [
              0.7777777777777778,
              "#fb9f3a"
             ],
             [
              0.8888888888888888,
              "#fdca26"
             ],
             [
              1,
              "#f0f921"
             ]
            ],
            "type": "histogram2d"
           }
          ],
          "histogram2dcontour": [
           {
            "colorbar": {
             "outlinewidth": 0,
             "ticks": ""
            },
            "colorscale": [
             [
              0,
              "#0d0887"
             ],
             [
              0.1111111111111111,
              "#46039f"
             ],
             [
              0.2222222222222222,
              "#7201a8"
             ],
             [
              0.3333333333333333,
              "#9c179e"
             ],
             [
              0.4444444444444444,
              "#bd3786"
             ],
             [
              0.5555555555555556,
              "#d8576b"
             ],
             [
              0.6666666666666666,
              "#ed7953"
             ],
             [
              0.7777777777777778,
              "#fb9f3a"
             ],
             [
              0.8888888888888888,
              "#fdca26"
             ],
             [
              1,
              "#f0f921"
             ]
            ],
            "type": "histogram2dcontour"
           }
          ],
          "mesh3d": [
           {
            "colorbar": {
             "outlinewidth": 0,
             "ticks": ""
            },
            "type": "mesh3d"
           }
          ],
          "parcoords": [
           {
            "line": {
             "colorbar": {
              "outlinewidth": 0,
              "ticks": ""
             }
            },
            "type": "parcoords"
           }
          ],
          "pie": [
           {
            "automargin": true,
            "type": "pie"
           }
          ],
          "scatter": [
           {
            "fillpattern": {
             "fillmode": "overlay",
             "size": 10,
             "solidity": 0.2
            },
            "type": "scatter"
           }
          ],
          "scatter3d": [
           {
            "line": {
             "colorbar": {
              "outlinewidth": 0,
              "ticks": ""
             }
            },
            "marker": {
             "colorbar": {
              "outlinewidth": 0,
              "ticks": ""
             }
            },
            "type": "scatter3d"
           }
          ],
          "scattercarpet": [
           {
            "marker": {
             "colorbar": {
              "outlinewidth": 0,
              "ticks": ""
             }
            },
            "type": "scattercarpet"
           }
          ],
          "scattergeo": [
           {
            "marker": {
             "colorbar": {
              "outlinewidth": 0,
              "ticks": ""
             }
            },
            "type": "scattergeo"
           }
          ],
          "scattergl": [
           {
            "marker": {
             "colorbar": {
              "outlinewidth": 0,
              "ticks": ""
             }
            },
            "type": "scattergl"
           }
          ],
          "scattermapbox": [
           {
            "marker": {
             "colorbar": {
              "outlinewidth": 0,
              "ticks": ""
             }
            },
            "type": "scattermapbox"
           }
          ],
          "scatterpolar": [
           {
            "marker": {
             "colorbar": {
              "outlinewidth": 0,
              "ticks": ""
             }
            },
            "type": "scatterpolar"
           }
          ],
          "scatterpolargl": [
           {
            "marker": {
             "colorbar": {
              "outlinewidth": 0,
              "ticks": ""
             }
            },
            "type": "scatterpolargl"
           }
          ],
          "scatterternary": [
           {
            "marker": {
             "colorbar": {
              "outlinewidth": 0,
              "ticks": ""
             }
            },
            "type": "scatterternary"
           }
          ],
          "surface": [
           {
            "colorbar": {
             "outlinewidth": 0,
             "ticks": ""
            },
            "colorscale": [
             [
              0,
              "#0d0887"
             ],
             [
              0.1111111111111111,
              "#46039f"
             ],
             [
              0.2222222222222222,
              "#7201a8"
             ],
             [
              0.3333333333333333,
              "#9c179e"
             ],
             [
              0.4444444444444444,
              "#bd3786"
             ],
             [
              0.5555555555555556,
              "#d8576b"
             ],
             [
              0.6666666666666666,
              "#ed7953"
             ],
             [
              0.7777777777777778,
              "#fb9f3a"
             ],
             [
              0.8888888888888888,
              "#fdca26"
             ],
             [
              1,
              "#f0f921"
             ]
            ],
            "type": "surface"
           }
          ],
          "table": [
           {
            "cells": {
             "fill": {
              "color": "#EBF0F8"
             },
             "line": {
              "color": "white"
             }
            },
            "header": {
             "fill": {
              "color": "#C8D4E3"
             },
             "line": {
              "color": "white"
             }
            },
            "type": "table"
           }
          ]
         },
         "layout": {
          "annotationdefaults": {
           "arrowcolor": "#2a3f5f",
           "arrowhead": 0,
           "arrowwidth": 1
          },
          "autotypenumbers": "strict",
          "coloraxis": {
           "colorbar": {
            "outlinewidth": 0,
            "ticks": ""
           }
          },
          "colorscale": {
           "diverging": [
            [
             0,
             "#8e0152"
            ],
            [
             0.1,
             "#c51b7d"
            ],
            [
             0.2,
             "#de77ae"
            ],
            [
             0.3,
             "#f1b6da"
            ],
            [
             0.4,
             "#fde0ef"
            ],
            [
             0.5,
             "#f7f7f7"
            ],
            [
             0.6,
             "#e6f5d0"
            ],
            [
             0.7,
             "#b8e186"
            ],
            [
             0.8,
             "#7fbc41"
            ],
            [
             0.9,
             "#4d9221"
            ],
            [
             1,
             "#276419"
            ]
           ],
           "sequential": [
            [
             0,
             "#0d0887"
            ],
            [
             0.1111111111111111,
             "#46039f"
            ],
            [
             0.2222222222222222,
             "#7201a8"
            ],
            [
             0.3333333333333333,
             "#9c179e"
            ],
            [
             0.4444444444444444,
             "#bd3786"
            ],
            [
             0.5555555555555556,
             "#d8576b"
            ],
            [
             0.6666666666666666,
             "#ed7953"
            ],
            [
             0.7777777777777778,
             "#fb9f3a"
            ],
            [
             0.8888888888888888,
             "#fdca26"
            ],
            [
             1,
             "#f0f921"
            ]
           ],
           "sequentialminus": [
            [
             0,
             "#0d0887"
            ],
            [
             0.1111111111111111,
             "#46039f"
            ],
            [
             0.2222222222222222,
             "#7201a8"
            ],
            [
             0.3333333333333333,
             "#9c179e"
            ],
            [
             0.4444444444444444,
             "#bd3786"
            ],
            [
             0.5555555555555556,
             "#d8576b"
            ],
            [
             0.6666666666666666,
             "#ed7953"
            ],
            [
             0.7777777777777778,
             "#fb9f3a"
            ],
            [
             0.8888888888888888,
             "#fdca26"
            ],
            [
             1,
             "#f0f921"
            ]
           ]
          },
          "colorway": [
           "#636efa",
           "#EF553B",
           "#00cc96",
           "#ab63fa",
           "#FFA15A",
           "#19d3f3",
           "#FF6692",
           "#B6E880",
           "#FF97FF",
           "#FECB52"
          ],
          "font": {
           "color": "#2a3f5f"
          },
          "geo": {
           "bgcolor": "white",
           "lakecolor": "white",
           "landcolor": "#E5ECF6",
           "showlakes": true,
           "showland": true,
           "subunitcolor": "white"
          },
          "hoverlabel": {
           "align": "left"
          },
          "hovermode": "closest",
          "mapbox": {
           "style": "light"
          },
          "paper_bgcolor": "white",
          "plot_bgcolor": "#E5ECF6",
          "polar": {
           "angularaxis": {
            "gridcolor": "white",
            "linecolor": "white",
            "ticks": ""
           },
           "bgcolor": "#E5ECF6",
           "radialaxis": {
            "gridcolor": "white",
            "linecolor": "white",
            "ticks": ""
           }
          },
          "scene": {
           "xaxis": {
            "backgroundcolor": "#E5ECF6",
            "gridcolor": "white",
            "gridwidth": 2,
            "linecolor": "white",
            "showbackground": true,
            "ticks": "",
            "zerolinecolor": "white"
           },
           "yaxis": {
            "backgroundcolor": "#E5ECF6",
            "gridcolor": "white",
            "gridwidth": 2,
            "linecolor": "white",
            "showbackground": true,
            "ticks": "",
            "zerolinecolor": "white"
           },
           "zaxis": {
            "backgroundcolor": "#E5ECF6",
            "gridcolor": "white",
            "gridwidth": 2,
            "linecolor": "white",
            "showbackground": true,
            "ticks": "",
            "zerolinecolor": "white"
           }
          },
          "shapedefaults": {
           "line": {
            "color": "#2a3f5f"
           }
          },
          "ternary": {
           "aaxis": {
            "gridcolor": "white",
            "linecolor": "white",
            "ticks": ""
           },
           "baxis": {
            "gridcolor": "white",
            "linecolor": "white",
            "ticks": ""
           },
           "bgcolor": "#E5ECF6",
           "caxis": {
            "gridcolor": "white",
            "linecolor": "white",
            "ticks": ""
           }
          },
          "title": {
           "x": 0.05
          },
          "xaxis": {
           "automargin": true,
           "gridcolor": "white",
           "linecolor": "white",
           "ticks": "",
           "title": {
            "standoff": 15
           },
           "zerolinecolor": "white",
           "zerolinewidth": 2
          },
          "yaxis": {
           "automargin": true,
           "gridcolor": "white",
           "linecolor": "white",
           "ticks": "",
           "title": {
            "standoff": 15
           },
           "zerolinecolor": "white",
           "zerolinewidth": 2
          }
         }
        },
        "xaxis": {
         "anchor": "y",
         "categoryorder": "total descending",
         "domain": [
          0,
          1
         ],
         "title": {
          "text": "title"
         }
        },
        "yaxis": {
         "anchor": "x",
         "domain": [
          0,
          1
         ],
         "title": {
          "text": "BDSL_autortitel"
         }
        }
       }
      },
      "text/html": [
       "<div>                            <div id=\"7969f094-f5ff-48e7-b783-f2a69383c31c\" class=\"plotly-graph-div\" style=\"height:525px; width:100%;\"></div>            <script type=\"text/javascript\">                require([\"plotly\"], function(Plotly) {                    window.PLOTLYENV=window.PLOTLYENV || {};                                    if (document.getElementById(\"7969f094-f5ff-48e7-b783-f2a69383c31c\")) {                    Plotly.newPlot(                        \"7969f094-f5ff-48e7-b783-f2a69383c31c\",                        [{\"alignmentgroup\":\"True\",\"customdata\":[[\"B\\u00fcchner\"],[\"B\\u00fcchner\"],[\"B\\u00fcchner\"],[\"Goethe\"],[\"Goethe\"],[\"Goethe\"],[\"Goethe\"],[\"Goethe\"],[\"Goethe\"],[\"Grillparzer\"],[\"Gryphius\"],[\"Hebbel\"],[\"Hofmannsthal\"],[\"Hofmannsthal\"],[\"Hofmannsthal\"],[\"Kleist\"],[\"Kleist\"],[\"Kleist\"],[\"Kleist\"],[\"Kleist\"],[\"Kleist\"],[\"Kraus\"],[\"Lenz\"],[\"Lessing\"],[\"Lessing\"],[\"Lessing\"],[\"Lessing\"],[\"Schiller\"],[\"Schiller\"],[\"Schiller\"],[\"Schiller\"],[\"Schiller\"],[\"Schnitzler\"],[\"Schnitzler\"],[\"Wagner\"],[\"Wagner\"],[\"Wagner\"],[\"Wagner\"],[\"Wagner\"],[\"Wagner\"],[\"Wagner\"]],\"hovertemplate\":\"firstAuthorGender=male<br>title=%{x}<br>BDSL_autortitel=%{y}<br>firstAuthor=%{customdata[0]}<extra></extra>\",\"legendgroup\":\"male\",\"marker\":{\"color\":\"#636efa\",\"pattern\":{\"shape\":\"\"}},\"name\":\"male\",\"offsetgroup\":\"male\",\"orientation\":\"v\",\"showlegend\":true,\"textposition\":\"auto\",\"x\":[\"Dantons Tod\",\"Leonce und Lena\",\"Woyzeck\",\"Die nat\\u00fcrliche Tochter\",\"Egmont\",\"Faust\",\"Iphigenie auf Tauris\",\"Stella\",\"Torquato Tasso\",\"Die J\\u00fcdin von Toledo\",\"Carolus Stuardus\",\"Judith\",\"Der Schwierige\",\"Der Turm\",\"Elektra\",\"Amphitryon\",\"Der zerbrochne Krug\",\"Die Familie Schroffenstein\",\"Die Hermannsschlacht\",\"Penthesilea\",\"Prinz Friedrich von Homburg\",\"Die letzten Tage der Menschheit\",\"Die Soldaten\",\"Die Juden\",\"Emilia Galotti\",\"Nathan der Weise\",\"Philotas\",\"Die Jungfrau von Orleans\",\"Die R\\u00e4uber\",\"Kabale und Liebe\",\"Maria Stuart\",\"Wilhelm Tell\",\"Literatur\",\"Reigen\",\"Der fliegende Holl\\u00e4nder\",\"Die Meistersinger von N\\u00fcrnberg\",\"Lohengrin\",\"Parsifal\",\"Siegfried\",\"Tannh\\u00e4user und Der S\\u00e4ngerkrieg auf Wartburg\",\"Tristan und Isolde\"],\"xaxis\":\"x\",\"y\":[150,89,163,36,60,1346,82,33,83,36,33,31,65,31,69,82,51,37,63,192,78,49,46,48,114,138,34,76,106,53,89,92,42,86,35,73,44,152,38,60,112],\"yaxis\":\"y\",\"type\":\"bar\"}],                        {\"template\":{\"data\":{\"histogram2dcontour\":[{\"type\":\"histogram2dcontour\",\"colorbar\":{\"outlinewidth\":0,\"ticks\":\"\"},\"colorscale\":[[0.0,\"#0d0887\"],[0.1111111111111111,\"#46039f\"],[0.2222222222222222,\"#7201a8\"],[0.3333333333333333,\"#9c179e\"],[0.4444444444444444,\"#bd3786\"],[0.5555555555555556,\"#d8576b\"],[0.6666666666666666,\"#ed7953\"],[0.7777777777777778,\"#fb9f3a\"],[0.8888888888888888,\"#fdca26\"],[1.0,\"#f0f921\"]]}],\"choropleth\":[{\"type\":\"choropleth\",\"colorbar\":{\"outlinewidth\":0,\"ticks\":\"\"}}],\"histogram2d\":[{\"type\":\"histogram2d\",\"colorbar\":{\"outlinewidth\":0,\"ticks\":\"\"},\"colorscale\":[[0.0,\"#0d0887\"],[0.1111111111111111,\"#46039f\"],[0.2222222222222222,\"#7201a8\"],[0.3333333333333333,\"#9c179e\"],[0.4444444444444444,\"#bd3786\"],[0.5555555555555556,\"#d8576b\"],[0.6666666666666666,\"#ed7953\"],[0.7777777777777778,\"#fb9f3a\"],[0.8888888888888888,\"#fdca26\"],[1.0,\"#f0f921\"]]}],\"heatmap\":[{\"type\":\"heatmap\",\"colorbar\":{\"outlinewidth\":0,\"ticks\":\"\"},\"colorscale\":[[0.0,\"#0d0887\"],[0.1111111111111111,\"#46039f\"],[0.2222222222222222,\"#7201a8\"],[0.3333333333333333,\"#9c179e\"],[0.4444444444444444,\"#bd3786\"],[0.5555555555555556,\"#d8576b\"],[0.6666666666666666,\"#ed7953\"],[0.7777777777777778,\"#fb9f3a\"],[0.8888888888888888,\"#fdca26\"],[1.0,\"#f0f921\"]]}],\"heatmapgl\":[{\"type\":\"heatmapgl\",\"colorbar\":{\"outlinewidth\":0,\"ticks\":\"\"},\"colorscale\":[[0.0,\"#0d0887\"],[0.1111111111111111,\"#46039f\"],[0.2222222222222222,\"#7201a8\"],[0.3333333333333333,\"#9c179e\"],[0.4444444444444444,\"#bd3786\"],[0.5555555555555556,\"#d8576b\"],[0.6666666666666666,\"#ed7953\"],[0.7777777777777778,\"#fb9f3a\"],[0.8888888888888888,\"#fdca26\"],[1.0,\"#f0f921\"]]}],\"contourcarpet\":[{\"type\":\"contourcarpet\",\"colorbar\":{\"outlinewidth\":0,\"ticks\":\"\"}}],\"contour\":[{\"type\":\"contour\",\"colorbar\":{\"outlinewidth\":0,\"ticks\":\"\"},\"colorscale\":[[0.0,\"#0d0887\"],[0.1111111111111111,\"#46039f\"],[0.2222222222222222,\"#7201a8\"],[0.3333333333333333,\"#9c179e\"],[0.4444444444444444,\"#bd3786\"],[0.5555555555555556,\"#d8576b\"],[0.6666666666666666,\"#ed7953\"],[0.7777777777777778,\"#fb9f3a\"],[0.8888888888888888,\"#fdca26\"],[1.0,\"#f0f921\"]]}],\"surface\":[{\"type\":\"surface\",\"colorbar\":{\"outlinewidth\":0,\"ticks\":\"\"},\"colorscale\":[[0.0,\"#0d0887\"],[0.1111111111111111,\"#46039f\"],[0.2222222222222222,\"#7201a8\"],[0.3333333333333333,\"#9c179e\"],[0.4444444444444444,\"#bd3786\"],[0.5555555555555556,\"#d8576b\"],[0.6666666666666666,\"#ed7953\"],[0.7777777777777778,\"#fb9f3a\"],[0.8888888888888888,\"#fdca26\"],[1.0,\"#f0f921\"]]}],\"mesh3d\":[{\"type\":\"mesh3d\",\"colorbar\":{\"outlinewidth\":0,\"ticks\":\"\"}}],\"scatter\":[{\"fillpattern\":{\"fillmode\":\"overlay\",\"size\":10,\"solidity\":0.2},\"type\":\"scatter\"}],\"parcoords\":[{\"type\":\"parcoords\",\"line\":{\"colorbar\":{\"outlinewidth\":0,\"ticks\":\"\"}}}],\"scatterpolargl\":[{\"type\":\"scatterpolargl\",\"marker\":{\"colorbar\":{\"outlinewidth\":0,\"ticks\":\"\"}}}],\"bar\":[{\"error_x\":{\"color\":\"#2a3f5f\"},\"error_y\":{\"color\":\"#2a3f5f\"},\"marker\":{\"line\":{\"color\":\"#E5ECF6\",\"width\":0.5},\"pattern\":{\"fillmode\":\"overlay\",\"size\":10,\"solidity\":0.2}},\"type\":\"bar\"}],\"scattergeo\":[{\"type\":\"scattergeo\",\"marker\":{\"colorbar\":{\"outlinewidth\":0,\"ticks\":\"\"}}}],\"scatterpolar\":[{\"type\":\"scatterpolar\",\"marker\":{\"colorbar\":{\"outlinewidth\":0,\"ticks\":\"\"}}}],\"histogram\":[{\"marker\":{\"pattern\":{\"fillmode\":\"overlay\",\"size\":10,\"solidity\":0.2}},\"type\":\"histogram\"}],\"scattergl\":[{\"type\":\"scattergl\",\"marker\":{\"colorbar\":{\"outlinewidth\":0,\"ticks\":\"\"}}}],\"scatter3d\":[{\"type\":\"scatter3d\",\"line\":{\"colorbar\":{\"outlinewidth\":0,\"ticks\":\"\"}},\"marker\":{\"colorbar\":{\"outlinewidth\":0,\"ticks\":\"\"}}}],\"scattermapbox\":[{\"type\":\"scattermapbox\",\"marker\":{\"colorbar\":{\"outlinewidth\":0,\"ticks\":\"\"}}}],\"scatterternary\":[{\"type\":\"scatterternary\",\"marker\":{\"colorbar\":{\"outlinewidth\":0,\"ticks\":\"\"}}}],\"scattercarpet\":[{\"type\":\"scattercarpet\",\"marker\":{\"colorbar\":{\"outlinewidth\":0,\"ticks\":\"\"}}}],\"carpet\":[{\"aaxis\":{\"endlinecolor\":\"#2a3f5f\",\"gridcolor\":\"white\",\"linecolor\":\"white\",\"minorgridcolor\":\"white\",\"startlinecolor\":\"#2a3f5f\"},\"baxis\":{\"endlinecolor\":\"#2a3f5f\",\"gridcolor\":\"white\",\"linecolor\":\"white\",\"minorgridcolor\":\"white\",\"startlinecolor\":\"#2a3f5f\"},\"type\":\"carpet\"}],\"table\":[{\"cells\":{\"fill\":{\"color\":\"#EBF0F8\"},\"line\":{\"color\":\"white\"}},\"header\":{\"fill\":{\"color\":\"#C8D4E3\"},\"line\":{\"color\":\"white\"}},\"type\":\"table\"}],\"barpolar\":[{\"marker\":{\"line\":{\"color\":\"#E5ECF6\",\"width\":0.5},\"pattern\":{\"fillmode\":\"overlay\",\"size\":10,\"solidity\":0.2}},\"type\":\"barpolar\"}],\"pie\":[{\"automargin\":true,\"type\":\"pie\"}]},\"layout\":{\"autotypenumbers\":\"strict\",\"colorway\":[\"#636efa\",\"#EF553B\",\"#00cc96\",\"#ab63fa\",\"#FFA15A\",\"#19d3f3\",\"#FF6692\",\"#B6E880\",\"#FF97FF\",\"#FECB52\"],\"font\":{\"color\":\"#2a3f5f\"},\"hovermode\":\"closest\",\"hoverlabel\":{\"align\":\"left\"},\"paper_bgcolor\":\"white\",\"plot_bgcolor\":\"#E5ECF6\",\"polar\":{\"bgcolor\":\"#E5ECF6\",\"angularaxis\":{\"gridcolor\":\"white\",\"linecolor\":\"white\",\"ticks\":\"\"},\"radialaxis\":{\"gridcolor\":\"white\",\"linecolor\":\"white\",\"ticks\":\"\"}},\"ternary\":{\"bgcolor\":\"#E5ECF6\",\"aaxis\":{\"gridcolor\":\"white\",\"linecolor\":\"white\",\"ticks\":\"\"},\"baxis\":{\"gridcolor\":\"white\",\"linecolor\":\"white\",\"ticks\":\"\"},\"caxis\":{\"gridcolor\":\"white\",\"linecolor\":\"white\",\"ticks\":\"\"}},\"coloraxis\":{\"colorbar\":{\"outlinewidth\":0,\"ticks\":\"\"}},\"colorscale\":{\"sequential\":[[0.0,\"#0d0887\"],[0.1111111111111111,\"#46039f\"],[0.2222222222222222,\"#7201a8\"],[0.3333333333333333,\"#9c179e\"],[0.4444444444444444,\"#bd3786\"],[0.5555555555555556,\"#d8576b\"],[0.6666666666666666,\"#ed7953\"],[0.7777777777777778,\"#fb9f3a\"],[0.8888888888888888,\"#fdca26\"],[1.0,\"#f0f921\"]],\"sequentialminus\":[[0.0,\"#0d0887\"],[0.1111111111111111,\"#46039f\"],[0.2222222222222222,\"#7201a8\"],[0.3333333333333333,\"#9c179e\"],[0.4444444444444444,\"#bd3786\"],[0.5555555555555556,\"#d8576b\"],[0.6666666666666666,\"#ed7953\"],[0.7777777777777778,\"#fb9f3a\"],[0.8888888888888888,\"#fdca26\"],[1.0,\"#f0f921\"]],\"diverging\":[[0,\"#8e0152\"],[0.1,\"#c51b7d\"],[0.2,\"#de77ae\"],[0.3,\"#f1b6da\"],[0.4,\"#fde0ef\"],[0.5,\"#f7f7f7\"],[0.6,\"#e6f5d0\"],[0.7,\"#b8e186\"],[0.8,\"#7fbc41\"],[0.9,\"#4d9221\"],[1,\"#276419\"]]},\"xaxis\":{\"gridcolor\":\"white\",\"linecolor\":\"white\",\"ticks\":\"\",\"title\":{\"standoff\":15},\"zerolinecolor\":\"white\",\"automargin\":true,\"zerolinewidth\":2},\"yaxis\":{\"gridcolor\":\"white\",\"linecolor\":\"white\",\"ticks\":\"\",\"title\":{\"standoff\":15},\"zerolinecolor\":\"white\",\"automargin\":true,\"zerolinewidth\":2},\"scene\":{\"xaxis\":{\"backgroundcolor\":\"#E5ECF6\",\"gridcolor\":\"white\",\"linecolor\":\"white\",\"showbackground\":true,\"ticks\":\"\",\"zerolinecolor\":\"white\",\"gridwidth\":2},\"yaxis\":{\"backgroundcolor\":\"#E5ECF6\",\"gridcolor\":\"white\",\"linecolor\":\"white\",\"showbackground\":true,\"ticks\":\"\",\"zerolinecolor\":\"white\",\"gridwidth\":2},\"zaxis\":{\"backgroundcolor\":\"#E5ECF6\",\"gridcolor\":\"white\",\"linecolor\":\"white\",\"showbackground\":true,\"ticks\":\"\",\"zerolinecolor\":\"white\",\"gridwidth\":2}},\"shapedefaults\":{\"line\":{\"color\":\"#2a3f5f\"}},\"annotationdefaults\":{\"arrowcolor\":\"#2a3f5f\",\"arrowhead\":0,\"arrowwidth\":1},\"geo\":{\"bgcolor\":\"white\",\"landcolor\":\"#E5ECF6\",\"subunitcolor\":\"white\",\"showland\":true,\"showlakes\":true,\"lakecolor\":\"white\"},\"title\":{\"x\":0.05},\"mapbox\":{\"style\":\"light\"}}},\"xaxis\":{\"anchor\":\"y\",\"domain\":[0.0,1.0],\"title\":{\"text\":\"title\"},\"categoryorder\":\"total descending\"},\"yaxis\":{\"anchor\":\"x\",\"domain\":[0.0,1.0],\"title\":{\"text\":\"BDSL_autortitel\"}},\"legend\":{\"title\":{\"text\":\"firstAuthorGender\"},\"tracegroupgap\":0},\"margin\":{\"t\":60},\"barmode\":\"relative\"},                        {\"responsive\": true}                    ).then(function(){\n",
       "                            \n",
       "var gd = document.getElementById('7969f094-f5ff-48e7-b783-f2a69383c31c');\n",
       "var x = new MutationObserver(function (mutations, observer) {{\n",
       "        var display = window.getComputedStyle(gd).display;\n",
       "        if (!display || display === 'none') {{\n",
       "            console.log([gd, 'removed!']);\n",
       "            Plotly.purge(gd);\n",
       "            observer.disconnect();\n",
       "        }}\n",
       "}});\n",
       "\n",
       "// Listen for the removal of the full notebook cells\n",
       "var notebookContainer = gd.closest('#notebook-container');\n",
       "if (notebookContainer) {{\n",
       "    x.observe(notebookContainer, {childList: true});\n",
       "}}\n",
       "\n",
       "// Listen for the clearing of the current output cell\n",
       "var outputEl = gd.closest('.output');\n",
       "if (outputEl) {{\n",
       "    x.observe(outputEl, {childList: true});\n",
       "}}\n",
       "\n",
       "                        })                };                });            </script>        </div>"
      ]
     },
     "metadata": {},
     "output_type": "display_data"
    }
   ],
   "source": [
    "df_short = df[df[\"BDSL_autortitel\"]>30]\n",
    "fig = px.bar(df_short, x='title', y='BDSL_autortitel', color=\"firstAuthorGender\", hover_data=[\"firstAuthor\", \"BDSL_autortitel\"])\n",
    "fig.update_xaxes(categoryorder='total descending')\n",
    "fig.show()"
   ]
  },
  {
   "cell_type": "code",
   "execution_count": 11,
   "id": "dd41565a",
   "metadata": {},
   "outputs": [],
   "source": [
    "fig.write_image(\"figures/bdsl_autortiteltreffer_barchart.png\")"
   ]
  },
  {
   "cell_type": "code",
   "execution_count": 8,
   "id": "b8a246ec",
   "metadata": {},
   "outputs": [
    {
     "data": {
      "application/vnd.plotly.v1+json": {
       "config": {
        "plotlyServerURL": "https://plot.ly"
       },
       "data": [
        {
         "alignmentgroup": "True",
         "customdata": [
          [
           "Dantons Tod",
           "Georg",
           150
          ],
          [
           "Leonce und Lena",
           "Georg",
           89
          ],
          [
           "Woyzeck",
           "Georg",
           163
          ],
          [
           "Die natürliche Tochter",
           "Johann",
           36
          ],
          [
           "Egmont",
           "Johann",
           60
          ],
          [
           "Faust",
           "Johann",
           1346
          ],
          [
           "Iphigenie auf Tauris",
           "Johann",
           82
          ],
          [
           "Pandora",
           "Johann",
           29
          ],
          [
           "Stella",
           "Johann",
           33
          ],
          [
           "Torquato Tasso",
           "Johann",
           83
          ],
          [
           "Die Jüdin von Toledo",
           "Franz",
           36
          ],
          [
           "Libussa",
           "Franz",
           27
          ],
          [
           "Carolus Stuardus",
           "Andreas",
           33
          ],
          [
           "Die Ratten",
           "Gerhart",
           21
          ],
          [
           "Vor Sonnenaufgang",
           "Gerhart",
           23
          ],
          [
           "Agnes Bernauer",
           "Friedrich",
           24
          ],
          [
           "Judith",
           "Friedrich",
           31
          ],
          [
           "Ariadne auf Naxos",
           "Hugo",
           30
          ],
          [
           "Der Rosenkavalier",
           "Hugo",
           21
          ],
          [
           "Der Schwierige",
           "Hugo",
           65
          ],
          [
           "Der Turm",
           "Hugo",
           31
          ],
          [
           "Elektra",
           "Hugo",
           69
          ],
          [
           "Geschichten aus dem Wiener Wald",
           "Ödön",
           22
          ],
          [
           "Amphitryon",
           "Heinrich",
           82
          ],
          [
           "Der zerbrochne Krug",
           "Heinrich",
           51
          ],
          [
           "Die Familie Schroffenstein",
           "Heinrich",
           37
          ],
          [
           "Die Hermannsschlacht",
           "Heinrich",
           63
          ],
          [
           "Penthesilea",
           "Heinrich",
           192
          ],
          [
           "Prinz Friedrich von Homburg",
           "Heinrich",
           78
          ],
          [
           "Die letzten Tage der Menschheit",
           "Karl",
           49
          ],
          [
           "Die Soldaten",
           "Jakob",
           46
          ],
          [
           "Die Juden",
           "Gotthold",
           48
          ],
          [
           "Emilia Galotti",
           "Gotthold",
           114
          ],
          [
           "Nathan der Weise",
           "Gotthold",
           138
          ],
          [
           "Philotas",
           "Gotthold",
           34
          ],
          [
           "Die Schwärmer",
           "Robert",
           21
          ],
          [
           "Die Jungfrau von Orleans",
           "Friedrich",
           76
          ],
          [
           "Die Räuber",
           "Friedrich",
           106
          ],
          [
           "Kabale und Liebe",
           "Friedrich",
           53
          ],
          [
           "Maria Stuart",
           "Friedrich",
           89
          ],
          [
           "Wilhelm Tell",
           "Friedrich",
           92
          ],
          [
           "Literatur",
           "Arthur",
           42
          ],
          [
           "Reigen",
           "Arthur",
           86
          ],
          [
           "Moral",
           "Ludwig",
           26
          ],
          [
           "Der fliegende Holländer",
           "Richard",
           35
          ],
          [
           "Die Meistersinger von Nürnberg",
           "Richard",
           73
          ],
          [
           "Lohengrin",
           "Richard",
           44
          ],
          [
           "Parsifal",
           "Richard",
           152
          ],
          [
           "Siegfried",
           "Richard",
           38
          ],
          [
           "Tannhäuser und Der Sängerkrieg auf Wartburg",
           "Richard",
           60
          ],
          [
           "Tristan und Isolde",
           "Richard",
           112
          ],
          [
           "Frühlings Erwachen",
           "Frank",
           26
          ]
         ],
         "hovertemplate": "firstAuthorGender=male<br>firstAuthor=%{x}<br>BDSL_autor=%{y}<br>title=%{customdata[0]}<br>firstAuthorFirstname=%{customdata[1]}<br>BDSL_autortitel=%{customdata[2]}<extra></extra>",
         "legendgroup": "male",
         "marker": {
          "color": "#636efa",
          "pattern": {
           "shape": ""
          }
         },
         "name": "male",
         "offsetgroup": "male",
         "orientation": "v",
         "showlegend": true,
         "textposition": "auto",
         "type": "bar",
         "x": [
          "Büchner",
          "Büchner",
          "Büchner",
          "Goethe",
          "Goethe",
          "Goethe",
          "Goethe",
          "Goethe",
          "Goethe",
          "Goethe",
          "Grillparzer",
          "Grillparzer",
          "Gryphius",
          "Hauptmann",
          "Hauptmann",
          "Hebbel",
          "Hebbel",
          "Hofmannsthal",
          "Hofmannsthal",
          "Hofmannsthal",
          "Hofmannsthal",
          "Hofmannsthal",
          "Horváth",
          "Kleist",
          "Kleist",
          "Kleist",
          "Kleist",
          "Kleist",
          "Kleist",
          "Kraus",
          "Lenz",
          "Lessing",
          "Lessing",
          "Lessing",
          "Lessing",
          "Musil",
          "Schiller",
          "Schiller",
          "Schiller",
          "Schiller",
          "Schiller",
          "Schnitzler",
          "Schnitzler",
          "Thoma",
          "Wagner",
          "Wagner",
          "Wagner",
          "Wagner",
          "Wagner",
          "Wagner",
          "Wagner",
          "Wedekind"
         ],
         "xaxis": "x",
         "y": [
          2030,
          2030,
          2030,
          16766,
          16766,
          16766,
          16766,
          16766,
          16766,
          16766,
          971,
          971,
          491,
          1511,
          1511,
          855,
          855,
          2531,
          2531,
          2531,
          2531,
          2531,
          543,
          4718,
          4718,
          4718,
          4718,
          4718,
          4718,
          1322,
          897,
          2729,
          2729,
          2729,
          2729,
          2873,
          5318,
          5318,
          5318,
          5318,
          5318,
          1810,
          1810,
          184,
          2624,
          2624,
          2624,
          2624,
          2624,
          2624,
          2624,
          520
         ],
         "yaxis": "y"
        },
        {
         "alignmentgroup": "True",
         "customdata": [
          [
           "Die Wupper",
           "Else",
           21
          ]
         ],
         "hovertemplate": "firstAuthorGender=female<br>firstAuthor=%{x}<br>BDSL_autor=%{y}<br>title=%{customdata[0]}<br>firstAuthorFirstname=%{customdata[1]}<br>BDSL_autortitel=%{customdata[2]}<extra></extra>",
         "legendgroup": "female",
         "marker": {
          "color": "#EF553B",
          "pattern": {
           "shape": ""
          }
         },
         "name": "female",
         "offsetgroup": "female",
         "orientation": "v",
         "showlegend": true,
         "textposition": "auto",
         "type": "bar",
         "x": [
          "Lasker-Schüler"
         ],
         "xaxis": "x",
         "y": [
          793
         ],
         "yaxis": "y"
        }
       ],
       "layout": {
        "barmode": "relative",
        "legend": {
         "title": {
          "text": "firstAuthorGender"
         },
         "tracegroupgap": 0
        },
        "margin": {
         "t": 60
        },
        "template": {
         "data": {
          "bar": [
           {
            "error_x": {
             "color": "#2a3f5f"
            },
            "error_y": {
             "color": "#2a3f5f"
            },
            "marker": {
             "line": {
              "color": "#E5ECF6",
              "width": 0.5
             },
             "pattern": {
              "fillmode": "overlay",
              "size": 10,
              "solidity": 0.2
             }
            },
            "type": "bar"
           }
          ],
          "barpolar": [
           {
            "marker": {
             "line": {
              "color": "#E5ECF6",
              "width": 0.5
             },
             "pattern": {
              "fillmode": "overlay",
              "size": 10,
              "solidity": 0.2
             }
            },
            "type": "barpolar"
           }
          ],
          "carpet": [
           {
            "aaxis": {
             "endlinecolor": "#2a3f5f",
             "gridcolor": "white",
             "linecolor": "white",
             "minorgridcolor": "white",
             "startlinecolor": "#2a3f5f"
            },
            "baxis": {
             "endlinecolor": "#2a3f5f",
             "gridcolor": "white",
             "linecolor": "white",
             "minorgridcolor": "white",
             "startlinecolor": "#2a3f5f"
            },
            "type": "carpet"
           }
          ],
          "choropleth": [
           {
            "colorbar": {
             "outlinewidth": 0,
             "ticks": ""
            },
            "type": "choropleth"
           }
          ],
          "contour": [
           {
            "colorbar": {
             "outlinewidth": 0,
             "ticks": ""
            },
            "colorscale": [
             [
              0,
              "#0d0887"
             ],
             [
              0.1111111111111111,
              "#46039f"
             ],
             [
              0.2222222222222222,
              "#7201a8"
             ],
             [
              0.3333333333333333,
              "#9c179e"
             ],
             [
              0.4444444444444444,
              "#bd3786"
             ],
             [
              0.5555555555555556,
              "#d8576b"
             ],
             [
              0.6666666666666666,
              "#ed7953"
             ],
             [
              0.7777777777777778,
              "#fb9f3a"
             ],
             [
              0.8888888888888888,
              "#fdca26"
             ],
             [
              1,
              "#f0f921"
             ]
            ],
            "type": "contour"
           }
          ],
          "contourcarpet": [
           {
            "colorbar": {
             "outlinewidth": 0,
             "ticks": ""
            },
            "type": "contourcarpet"
           }
          ],
          "heatmap": [
           {
            "colorbar": {
             "outlinewidth": 0,
             "ticks": ""
            },
            "colorscale": [
             [
              0,
              "#0d0887"
             ],
             [
              0.1111111111111111,
              "#46039f"
             ],
             [
              0.2222222222222222,
              "#7201a8"
             ],
             [
              0.3333333333333333,
              "#9c179e"
             ],
             [
              0.4444444444444444,
              "#bd3786"
             ],
             [
              0.5555555555555556,
              "#d8576b"
             ],
             [
              0.6666666666666666,
              "#ed7953"
             ],
             [
              0.7777777777777778,
              "#fb9f3a"
             ],
             [
              0.8888888888888888,
              "#fdca26"
             ],
             [
              1,
              "#f0f921"
             ]
            ],
            "type": "heatmap"
           }
          ],
          "heatmapgl": [
           {
            "colorbar": {
             "outlinewidth": 0,
             "ticks": ""
            },
            "colorscale": [
             [
              0,
              "#0d0887"
             ],
             [
              0.1111111111111111,
              "#46039f"
             ],
             [
              0.2222222222222222,
              "#7201a8"
             ],
             [
              0.3333333333333333,
              "#9c179e"
             ],
             [
              0.4444444444444444,
              "#bd3786"
             ],
             [
              0.5555555555555556,
              "#d8576b"
             ],
             [
              0.6666666666666666,
              "#ed7953"
             ],
             [
              0.7777777777777778,
              "#fb9f3a"
             ],
             [
              0.8888888888888888,
              "#fdca26"
             ],
             [
              1,
              "#f0f921"
             ]
            ],
            "type": "heatmapgl"
           }
          ],
          "histogram": [
           {
            "marker": {
             "pattern": {
              "fillmode": "overlay",
              "size": 10,
              "solidity": 0.2
             }
            },
            "type": "histogram"
           }
          ],
          "histogram2d": [
           {
            "colorbar": {
             "outlinewidth": 0,
             "ticks": ""
            },
            "colorscale": [
             [
              0,
              "#0d0887"
             ],
             [
              0.1111111111111111,
              "#46039f"
             ],
             [
              0.2222222222222222,
              "#7201a8"
             ],
             [
              0.3333333333333333,
              "#9c179e"
             ],
             [
              0.4444444444444444,
              "#bd3786"
             ],
             [
              0.5555555555555556,
              "#d8576b"
             ],
             [
              0.6666666666666666,
              "#ed7953"
             ],
             [
              0.7777777777777778,
              "#fb9f3a"
             ],
             [
              0.8888888888888888,
              "#fdca26"
             ],
             [
              1,
              "#f0f921"
             ]
            ],
            "type": "histogram2d"
           }
          ],
          "histogram2dcontour": [
           {
            "colorbar": {
             "outlinewidth": 0,
             "ticks": ""
            },
            "colorscale": [
             [
              0,
              "#0d0887"
             ],
             [
              0.1111111111111111,
              "#46039f"
             ],
             [
              0.2222222222222222,
              "#7201a8"
             ],
             [
              0.3333333333333333,
              "#9c179e"
             ],
             [
              0.4444444444444444,
              "#bd3786"
             ],
             [
              0.5555555555555556,
              "#d8576b"
             ],
             [
              0.6666666666666666,
              "#ed7953"
             ],
             [
              0.7777777777777778,
              "#fb9f3a"
             ],
             [
              0.8888888888888888,
              "#fdca26"
             ],
             [
              1,
              "#f0f921"
             ]
            ],
            "type": "histogram2dcontour"
           }
          ],
          "mesh3d": [
           {
            "colorbar": {
             "outlinewidth": 0,
             "ticks": ""
            },
            "type": "mesh3d"
           }
          ],
          "parcoords": [
           {
            "line": {
             "colorbar": {
              "outlinewidth": 0,
              "ticks": ""
             }
            },
            "type": "parcoords"
           }
          ],
          "pie": [
           {
            "automargin": true,
            "type": "pie"
           }
          ],
          "scatter": [
           {
            "fillpattern": {
             "fillmode": "overlay",
             "size": 10,
             "solidity": 0.2
            },
            "type": "scatter"
           }
          ],
          "scatter3d": [
           {
            "line": {
             "colorbar": {
              "outlinewidth": 0,
              "ticks": ""
             }
            },
            "marker": {
             "colorbar": {
              "outlinewidth": 0,
              "ticks": ""
             }
            },
            "type": "scatter3d"
           }
          ],
          "scattercarpet": [
           {
            "marker": {
             "colorbar": {
              "outlinewidth": 0,
              "ticks": ""
             }
            },
            "type": "scattercarpet"
           }
          ],
          "scattergeo": [
           {
            "marker": {
             "colorbar": {
              "outlinewidth": 0,
              "ticks": ""
             }
            },
            "type": "scattergeo"
           }
          ],
          "scattergl": [
           {
            "marker": {
             "colorbar": {
              "outlinewidth": 0,
              "ticks": ""
             }
            },
            "type": "scattergl"
           }
          ],
          "scattermapbox": [
           {
            "marker": {
             "colorbar": {
              "outlinewidth": 0,
              "ticks": ""
             }
            },
            "type": "scattermapbox"
           }
          ],
          "scatterpolar": [
           {
            "marker": {
             "colorbar": {
              "outlinewidth": 0,
              "ticks": ""
             }
            },
            "type": "scatterpolar"
           }
          ],
          "scatterpolargl": [
           {
            "marker": {
             "colorbar": {
              "outlinewidth": 0,
              "ticks": ""
             }
            },
            "type": "scatterpolargl"
           }
          ],
          "scatterternary": [
           {
            "marker": {
             "colorbar": {
              "outlinewidth": 0,
              "ticks": ""
             }
            },
            "type": "scatterternary"
           }
          ],
          "surface": [
           {
            "colorbar": {
             "outlinewidth": 0,
             "ticks": ""
            },
            "colorscale": [
             [
              0,
              "#0d0887"
             ],
             [
              0.1111111111111111,
              "#46039f"
             ],
             [
              0.2222222222222222,
              "#7201a8"
             ],
             [
              0.3333333333333333,
              "#9c179e"
             ],
             [
              0.4444444444444444,
              "#bd3786"
             ],
             [
              0.5555555555555556,
              "#d8576b"
             ],
             [
              0.6666666666666666,
              "#ed7953"
             ],
             [
              0.7777777777777778,
              "#fb9f3a"
             ],
             [
              0.8888888888888888,
              "#fdca26"
             ],
             [
              1,
              "#f0f921"
             ]
            ],
            "type": "surface"
           }
          ],
          "table": [
           {
            "cells": {
             "fill": {
              "color": "#EBF0F8"
             },
             "line": {
              "color": "white"
             }
            },
            "header": {
             "fill": {
              "color": "#C8D4E3"
             },
             "line": {
              "color": "white"
             }
            },
            "type": "table"
           }
          ]
         },
         "layout": {
          "annotationdefaults": {
           "arrowcolor": "#2a3f5f",
           "arrowhead": 0,
           "arrowwidth": 1
          },
          "autotypenumbers": "strict",
          "coloraxis": {
           "colorbar": {
            "outlinewidth": 0,
            "ticks": ""
           }
          },
          "colorscale": {
           "diverging": [
            [
             0,
             "#8e0152"
            ],
            [
             0.1,
             "#c51b7d"
            ],
            [
             0.2,
             "#de77ae"
            ],
            [
             0.3,
             "#f1b6da"
            ],
            [
             0.4,
             "#fde0ef"
            ],
            [
             0.5,
             "#f7f7f7"
            ],
            [
             0.6,
             "#e6f5d0"
            ],
            [
             0.7,
             "#b8e186"
            ],
            [
             0.8,
             "#7fbc41"
            ],
            [
             0.9,
             "#4d9221"
            ],
            [
             1,
             "#276419"
            ]
           ],
           "sequential": [
            [
             0,
             "#0d0887"
            ],
            [
             0.1111111111111111,
             "#46039f"
            ],
            [
             0.2222222222222222,
             "#7201a8"
            ],
            [
             0.3333333333333333,
             "#9c179e"
            ],
            [
             0.4444444444444444,
             "#bd3786"
            ],
            [
             0.5555555555555556,
             "#d8576b"
            ],
            [
             0.6666666666666666,
             "#ed7953"
            ],
            [
             0.7777777777777778,
             "#fb9f3a"
            ],
            [
             0.8888888888888888,
             "#fdca26"
            ],
            [
             1,
             "#f0f921"
            ]
           ],
           "sequentialminus": [
            [
             0,
             "#0d0887"
            ],
            [
             0.1111111111111111,
             "#46039f"
            ],
            [
             0.2222222222222222,
             "#7201a8"
            ],
            [
             0.3333333333333333,
             "#9c179e"
            ],
            [
             0.4444444444444444,
             "#bd3786"
            ],
            [
             0.5555555555555556,
             "#d8576b"
            ],
            [
             0.6666666666666666,
             "#ed7953"
            ],
            [
             0.7777777777777778,
             "#fb9f3a"
            ],
            [
             0.8888888888888888,
             "#fdca26"
            ],
            [
             1,
             "#f0f921"
            ]
           ]
          },
          "colorway": [
           "#636efa",
           "#EF553B",
           "#00cc96",
           "#ab63fa",
           "#FFA15A",
           "#19d3f3",
           "#FF6692",
           "#B6E880",
           "#FF97FF",
           "#FECB52"
          ],
          "font": {
           "color": "#2a3f5f"
          },
          "geo": {
           "bgcolor": "white",
           "lakecolor": "white",
           "landcolor": "#E5ECF6",
           "showlakes": true,
           "showland": true,
           "subunitcolor": "white"
          },
          "hoverlabel": {
           "align": "left"
          },
          "hovermode": "closest",
          "mapbox": {
           "style": "light"
          },
          "paper_bgcolor": "white",
          "plot_bgcolor": "#E5ECF6",
          "polar": {
           "angularaxis": {
            "gridcolor": "white",
            "linecolor": "white",
            "ticks": ""
           },
           "bgcolor": "#E5ECF6",
           "radialaxis": {
            "gridcolor": "white",
            "linecolor": "white",
            "ticks": ""
           }
          },
          "scene": {
           "xaxis": {
            "backgroundcolor": "#E5ECF6",
            "gridcolor": "white",
            "gridwidth": 2,
            "linecolor": "white",
            "showbackground": true,
            "ticks": "",
            "zerolinecolor": "white"
           },
           "yaxis": {
            "backgroundcolor": "#E5ECF6",
            "gridcolor": "white",
            "gridwidth": 2,
            "linecolor": "white",
            "showbackground": true,
            "ticks": "",
            "zerolinecolor": "white"
           },
           "zaxis": {
            "backgroundcolor": "#E5ECF6",
            "gridcolor": "white",
            "gridwidth": 2,
            "linecolor": "white",
            "showbackground": true,
            "ticks": "",
            "zerolinecolor": "white"
           }
          },
          "shapedefaults": {
           "line": {
            "color": "#2a3f5f"
           }
          },
          "ternary": {
           "aaxis": {
            "gridcolor": "white",
            "linecolor": "white",
            "ticks": ""
           },
           "baxis": {
            "gridcolor": "white",
            "linecolor": "white",
            "ticks": ""
           },
           "bgcolor": "#E5ECF6",
           "caxis": {
            "gridcolor": "white",
            "linecolor": "white",
            "ticks": ""
           }
          },
          "title": {
           "x": 0.05
          },
          "xaxis": {
           "automargin": true,
           "gridcolor": "white",
           "linecolor": "white",
           "ticks": "",
           "title": {
            "standoff": 15
           },
           "zerolinecolor": "white",
           "zerolinewidth": 2
          },
          "yaxis": {
           "automargin": true,
           "gridcolor": "white",
           "linecolor": "white",
           "ticks": "",
           "title": {
            "standoff": 15
           },
           "zerolinecolor": "white",
           "zerolinewidth": 2
          }
         }
        },
        "xaxis": {
         "anchor": "y",
         "categoryorder": "total descending",
         "domain": [
          0,
          1
         ],
         "title": {
          "text": "firstAuthor"
         }
        },
        "yaxis": {
         "anchor": "x",
         "domain": [
          0,
          1
         ],
         "title": {
          "text": "BDSL_autor"
         }
        }
       }
      },
      "text/html": [
       "<div>                            <div id=\"63ccb846-464b-4d29-b7bd-a9c710062e20\" class=\"plotly-graph-div\" style=\"height:525px; width:100%;\"></div>            <script type=\"text/javascript\">                require([\"plotly\"], function(Plotly) {                    window.PLOTLYENV=window.PLOTLYENV || {};                                    if (document.getElementById(\"63ccb846-464b-4d29-b7bd-a9c710062e20\")) {                    Plotly.newPlot(                        \"63ccb846-464b-4d29-b7bd-a9c710062e20\",                        [{\"alignmentgroup\":\"True\",\"customdata\":[[\"Dantons Tod\",\"Georg\",150],[\"Leonce und Lena\",\"Georg\",89],[\"Woyzeck\",\"Georg\",163],[\"Die nat\\u00fcrliche Tochter\",\"Johann\",36],[\"Egmont\",\"Johann\",60],[\"Faust\",\"Johann\",1346],[\"Iphigenie auf Tauris\",\"Johann\",82],[\"Pandora\",\"Johann\",29],[\"Stella\",\"Johann\",33],[\"Torquato Tasso\",\"Johann\",83],[\"Die J\\u00fcdin von Toledo\",\"Franz\",36],[\"Libussa\",\"Franz\",27],[\"Carolus Stuardus\",\"Andreas\",33],[\"Die Ratten\",\"Gerhart\",21],[\"Vor Sonnenaufgang\",\"Gerhart\",23],[\"Agnes Bernauer\",\"Friedrich\",24],[\"Judith\",\"Friedrich\",31],[\"Ariadne auf Naxos\",\"Hugo\",30],[\"Der Rosenkavalier\",\"Hugo\",21],[\"Der Schwierige\",\"Hugo\",65],[\"Der Turm\",\"Hugo\",31],[\"Elektra\",\"Hugo\",69],[\"Geschichten aus dem Wiener Wald\",\"\\u00d6d\\u00f6n\",22],[\"Amphitryon\",\"Heinrich\",82],[\"Der zerbrochne Krug\",\"Heinrich\",51],[\"Die Familie Schroffenstein\",\"Heinrich\",37],[\"Die Hermannsschlacht\",\"Heinrich\",63],[\"Penthesilea\",\"Heinrich\",192],[\"Prinz Friedrich von Homburg\",\"Heinrich\",78],[\"Die letzten Tage der Menschheit\",\"Karl\",49],[\"Die Soldaten\",\"Jakob\",46],[\"Die Juden\",\"Gotthold\",48],[\"Emilia Galotti\",\"Gotthold\",114],[\"Nathan der Weise\",\"Gotthold\",138],[\"Philotas\",\"Gotthold\",34],[\"Die Schw\\u00e4rmer\",\"Robert\",21],[\"Die Jungfrau von Orleans\",\"Friedrich\",76],[\"Die R\\u00e4uber\",\"Friedrich\",106],[\"Kabale und Liebe\",\"Friedrich\",53],[\"Maria Stuart\",\"Friedrich\",89],[\"Wilhelm Tell\",\"Friedrich\",92],[\"Literatur\",\"Arthur\",42],[\"Reigen\",\"Arthur\",86],[\"Moral\",\"Ludwig\",26],[\"Der fliegende Holl\\u00e4nder\",\"Richard\",35],[\"Die Meistersinger von N\\u00fcrnberg\",\"Richard\",73],[\"Lohengrin\",\"Richard\",44],[\"Parsifal\",\"Richard\",152],[\"Siegfried\",\"Richard\",38],[\"Tannh\\u00e4user und Der S\\u00e4ngerkrieg auf Wartburg\",\"Richard\",60],[\"Tristan und Isolde\",\"Richard\",112],[\"Fr\\u00fchlings Erwachen\",\"Frank\",26]],\"hovertemplate\":\"firstAuthorGender=male<br>firstAuthor=%{x}<br>BDSL_autor=%{y}<br>title=%{customdata[0]}<br>firstAuthorFirstname=%{customdata[1]}<br>BDSL_autortitel=%{customdata[2]}<extra></extra>\",\"legendgroup\":\"male\",\"marker\":{\"color\":\"#636efa\",\"pattern\":{\"shape\":\"\"}},\"name\":\"male\",\"offsetgroup\":\"male\",\"orientation\":\"v\",\"showlegend\":true,\"textposition\":\"auto\",\"x\":[\"B\\u00fcchner\",\"B\\u00fcchner\",\"B\\u00fcchner\",\"Goethe\",\"Goethe\",\"Goethe\",\"Goethe\",\"Goethe\",\"Goethe\",\"Goethe\",\"Grillparzer\",\"Grillparzer\",\"Gryphius\",\"Hauptmann\",\"Hauptmann\",\"Hebbel\",\"Hebbel\",\"Hofmannsthal\",\"Hofmannsthal\",\"Hofmannsthal\",\"Hofmannsthal\",\"Hofmannsthal\",\"Horv\\u00e1th\",\"Kleist\",\"Kleist\",\"Kleist\",\"Kleist\",\"Kleist\",\"Kleist\",\"Kraus\",\"Lenz\",\"Lessing\",\"Lessing\",\"Lessing\",\"Lessing\",\"Musil\",\"Schiller\",\"Schiller\",\"Schiller\",\"Schiller\",\"Schiller\",\"Schnitzler\",\"Schnitzler\",\"Thoma\",\"Wagner\",\"Wagner\",\"Wagner\",\"Wagner\",\"Wagner\",\"Wagner\",\"Wagner\",\"Wedekind\"],\"xaxis\":\"x\",\"y\":[2030,2030,2030,16766,16766,16766,16766,16766,16766,16766,971,971,491,1511,1511,855,855,2531,2531,2531,2531,2531,543,4718,4718,4718,4718,4718,4718,1322,897,2729,2729,2729,2729,2873,5318,5318,5318,5318,5318,1810,1810,184,2624,2624,2624,2624,2624,2624,2624,520],\"yaxis\":\"y\",\"type\":\"bar\"},{\"alignmentgroup\":\"True\",\"customdata\":[[\"Die Wupper\",\"Else\",21]],\"hovertemplate\":\"firstAuthorGender=female<br>firstAuthor=%{x}<br>BDSL_autor=%{y}<br>title=%{customdata[0]}<br>firstAuthorFirstname=%{customdata[1]}<br>BDSL_autortitel=%{customdata[2]}<extra></extra>\",\"legendgroup\":\"female\",\"marker\":{\"color\":\"#EF553B\",\"pattern\":{\"shape\":\"\"}},\"name\":\"female\",\"offsetgroup\":\"female\",\"orientation\":\"v\",\"showlegend\":true,\"textposition\":\"auto\",\"x\":[\"Lasker-Sch\\u00fcler\"],\"xaxis\":\"x\",\"y\":[793],\"yaxis\":\"y\",\"type\":\"bar\"}],                        {\"template\":{\"data\":{\"histogram2dcontour\":[{\"type\":\"histogram2dcontour\",\"colorbar\":{\"outlinewidth\":0,\"ticks\":\"\"},\"colorscale\":[[0.0,\"#0d0887\"],[0.1111111111111111,\"#46039f\"],[0.2222222222222222,\"#7201a8\"],[0.3333333333333333,\"#9c179e\"],[0.4444444444444444,\"#bd3786\"],[0.5555555555555556,\"#d8576b\"],[0.6666666666666666,\"#ed7953\"],[0.7777777777777778,\"#fb9f3a\"],[0.8888888888888888,\"#fdca26\"],[1.0,\"#f0f921\"]]}],\"choropleth\":[{\"type\":\"choropleth\",\"colorbar\":{\"outlinewidth\":0,\"ticks\":\"\"}}],\"histogram2d\":[{\"type\":\"histogram2d\",\"colorbar\":{\"outlinewidth\":0,\"ticks\":\"\"},\"colorscale\":[[0.0,\"#0d0887\"],[0.1111111111111111,\"#46039f\"],[0.2222222222222222,\"#7201a8\"],[0.3333333333333333,\"#9c179e\"],[0.4444444444444444,\"#bd3786\"],[0.5555555555555556,\"#d8576b\"],[0.6666666666666666,\"#ed7953\"],[0.7777777777777778,\"#fb9f3a\"],[0.8888888888888888,\"#fdca26\"],[1.0,\"#f0f921\"]]}],\"heatmap\":[{\"type\":\"heatmap\",\"colorbar\":{\"outlinewidth\":0,\"ticks\":\"\"},\"colorscale\":[[0.0,\"#0d0887\"],[0.1111111111111111,\"#46039f\"],[0.2222222222222222,\"#7201a8\"],[0.3333333333333333,\"#9c179e\"],[0.4444444444444444,\"#bd3786\"],[0.5555555555555556,\"#d8576b\"],[0.6666666666666666,\"#ed7953\"],[0.7777777777777778,\"#fb9f3a\"],[0.8888888888888888,\"#fdca26\"],[1.0,\"#f0f921\"]]}],\"heatmapgl\":[{\"type\":\"heatmapgl\",\"colorbar\":{\"outlinewidth\":0,\"ticks\":\"\"},\"colorscale\":[[0.0,\"#0d0887\"],[0.1111111111111111,\"#46039f\"],[0.2222222222222222,\"#7201a8\"],[0.3333333333333333,\"#9c179e\"],[0.4444444444444444,\"#bd3786\"],[0.5555555555555556,\"#d8576b\"],[0.6666666666666666,\"#ed7953\"],[0.7777777777777778,\"#fb9f3a\"],[0.8888888888888888,\"#fdca26\"],[1.0,\"#f0f921\"]]}],\"contourcarpet\":[{\"type\":\"contourcarpet\",\"colorbar\":{\"outlinewidth\":0,\"ticks\":\"\"}}],\"contour\":[{\"type\":\"contour\",\"colorbar\":{\"outlinewidth\":0,\"ticks\":\"\"},\"colorscale\":[[0.0,\"#0d0887\"],[0.1111111111111111,\"#46039f\"],[0.2222222222222222,\"#7201a8\"],[0.3333333333333333,\"#9c179e\"],[0.4444444444444444,\"#bd3786\"],[0.5555555555555556,\"#d8576b\"],[0.6666666666666666,\"#ed7953\"],[0.7777777777777778,\"#fb9f3a\"],[0.8888888888888888,\"#fdca26\"],[1.0,\"#f0f921\"]]}],\"surface\":[{\"type\":\"surface\",\"colorbar\":{\"outlinewidth\":0,\"ticks\":\"\"},\"colorscale\":[[0.0,\"#0d0887\"],[0.1111111111111111,\"#46039f\"],[0.2222222222222222,\"#7201a8\"],[0.3333333333333333,\"#9c179e\"],[0.4444444444444444,\"#bd3786\"],[0.5555555555555556,\"#d8576b\"],[0.6666666666666666,\"#ed7953\"],[0.7777777777777778,\"#fb9f3a\"],[0.8888888888888888,\"#fdca26\"],[1.0,\"#f0f921\"]]}],\"mesh3d\":[{\"type\":\"mesh3d\",\"colorbar\":{\"outlinewidth\":0,\"ticks\":\"\"}}],\"scatter\":[{\"fillpattern\":{\"fillmode\":\"overlay\",\"size\":10,\"solidity\":0.2},\"type\":\"scatter\"}],\"parcoords\":[{\"type\":\"parcoords\",\"line\":{\"colorbar\":{\"outlinewidth\":0,\"ticks\":\"\"}}}],\"scatterpolargl\":[{\"type\":\"scatterpolargl\",\"marker\":{\"colorbar\":{\"outlinewidth\":0,\"ticks\":\"\"}}}],\"bar\":[{\"error_x\":{\"color\":\"#2a3f5f\"},\"error_y\":{\"color\":\"#2a3f5f\"},\"marker\":{\"line\":{\"color\":\"#E5ECF6\",\"width\":0.5},\"pattern\":{\"fillmode\":\"overlay\",\"size\":10,\"solidity\":0.2}},\"type\":\"bar\"}],\"scattergeo\":[{\"type\":\"scattergeo\",\"marker\":{\"colorbar\":{\"outlinewidth\":0,\"ticks\":\"\"}}}],\"scatterpolar\":[{\"type\":\"scatterpolar\",\"marker\":{\"colorbar\":{\"outlinewidth\":0,\"ticks\":\"\"}}}],\"histogram\":[{\"marker\":{\"pattern\":{\"fillmode\":\"overlay\",\"size\":10,\"solidity\":0.2}},\"type\":\"histogram\"}],\"scattergl\":[{\"type\":\"scattergl\",\"marker\":{\"colorbar\":{\"outlinewidth\":0,\"ticks\":\"\"}}}],\"scatter3d\":[{\"type\":\"scatter3d\",\"line\":{\"colorbar\":{\"outlinewidth\":0,\"ticks\":\"\"}},\"marker\":{\"colorbar\":{\"outlinewidth\":0,\"ticks\":\"\"}}}],\"scattermapbox\":[{\"type\":\"scattermapbox\",\"marker\":{\"colorbar\":{\"outlinewidth\":0,\"ticks\":\"\"}}}],\"scatterternary\":[{\"type\":\"scatterternary\",\"marker\":{\"colorbar\":{\"outlinewidth\":0,\"ticks\":\"\"}}}],\"scattercarpet\":[{\"type\":\"scattercarpet\",\"marker\":{\"colorbar\":{\"outlinewidth\":0,\"ticks\":\"\"}}}],\"carpet\":[{\"aaxis\":{\"endlinecolor\":\"#2a3f5f\",\"gridcolor\":\"white\",\"linecolor\":\"white\",\"minorgridcolor\":\"white\",\"startlinecolor\":\"#2a3f5f\"},\"baxis\":{\"endlinecolor\":\"#2a3f5f\",\"gridcolor\":\"white\",\"linecolor\":\"white\",\"minorgridcolor\":\"white\",\"startlinecolor\":\"#2a3f5f\"},\"type\":\"carpet\"}],\"table\":[{\"cells\":{\"fill\":{\"color\":\"#EBF0F8\"},\"line\":{\"color\":\"white\"}},\"header\":{\"fill\":{\"color\":\"#C8D4E3\"},\"line\":{\"color\":\"white\"}},\"type\":\"table\"}],\"barpolar\":[{\"marker\":{\"line\":{\"color\":\"#E5ECF6\",\"width\":0.5},\"pattern\":{\"fillmode\":\"overlay\",\"size\":10,\"solidity\":0.2}},\"type\":\"barpolar\"}],\"pie\":[{\"automargin\":true,\"type\":\"pie\"}]},\"layout\":{\"autotypenumbers\":\"strict\",\"colorway\":[\"#636efa\",\"#EF553B\",\"#00cc96\",\"#ab63fa\",\"#FFA15A\",\"#19d3f3\",\"#FF6692\",\"#B6E880\",\"#FF97FF\",\"#FECB52\"],\"font\":{\"color\":\"#2a3f5f\"},\"hovermode\":\"closest\",\"hoverlabel\":{\"align\":\"left\"},\"paper_bgcolor\":\"white\",\"plot_bgcolor\":\"#E5ECF6\",\"polar\":{\"bgcolor\":\"#E5ECF6\",\"angularaxis\":{\"gridcolor\":\"white\",\"linecolor\":\"white\",\"ticks\":\"\"},\"radialaxis\":{\"gridcolor\":\"white\",\"linecolor\":\"white\",\"ticks\":\"\"}},\"ternary\":{\"bgcolor\":\"#E5ECF6\",\"aaxis\":{\"gridcolor\":\"white\",\"linecolor\":\"white\",\"ticks\":\"\"},\"baxis\":{\"gridcolor\":\"white\",\"linecolor\":\"white\",\"ticks\":\"\"},\"caxis\":{\"gridcolor\":\"white\",\"linecolor\":\"white\",\"ticks\":\"\"}},\"coloraxis\":{\"colorbar\":{\"outlinewidth\":0,\"ticks\":\"\"}},\"colorscale\":{\"sequential\":[[0.0,\"#0d0887\"],[0.1111111111111111,\"#46039f\"],[0.2222222222222222,\"#7201a8\"],[0.3333333333333333,\"#9c179e\"],[0.4444444444444444,\"#bd3786\"],[0.5555555555555556,\"#d8576b\"],[0.6666666666666666,\"#ed7953\"],[0.7777777777777778,\"#fb9f3a\"],[0.8888888888888888,\"#fdca26\"],[1.0,\"#f0f921\"]],\"sequentialminus\":[[0.0,\"#0d0887\"],[0.1111111111111111,\"#46039f\"],[0.2222222222222222,\"#7201a8\"],[0.3333333333333333,\"#9c179e\"],[0.4444444444444444,\"#bd3786\"],[0.5555555555555556,\"#d8576b\"],[0.6666666666666666,\"#ed7953\"],[0.7777777777777778,\"#fb9f3a\"],[0.8888888888888888,\"#fdca26\"],[1.0,\"#f0f921\"]],\"diverging\":[[0,\"#8e0152\"],[0.1,\"#c51b7d\"],[0.2,\"#de77ae\"],[0.3,\"#f1b6da\"],[0.4,\"#fde0ef\"],[0.5,\"#f7f7f7\"],[0.6,\"#e6f5d0\"],[0.7,\"#b8e186\"],[0.8,\"#7fbc41\"],[0.9,\"#4d9221\"],[1,\"#276419\"]]},\"xaxis\":{\"gridcolor\":\"white\",\"linecolor\":\"white\",\"ticks\":\"\",\"title\":{\"standoff\":15},\"zerolinecolor\":\"white\",\"automargin\":true,\"zerolinewidth\":2},\"yaxis\":{\"gridcolor\":\"white\",\"linecolor\":\"white\",\"ticks\":\"\",\"title\":{\"standoff\":15},\"zerolinecolor\":\"white\",\"automargin\":true,\"zerolinewidth\":2},\"scene\":{\"xaxis\":{\"backgroundcolor\":\"#E5ECF6\",\"gridcolor\":\"white\",\"linecolor\":\"white\",\"showbackground\":true,\"ticks\":\"\",\"zerolinecolor\":\"white\",\"gridwidth\":2},\"yaxis\":{\"backgroundcolor\":\"#E5ECF6\",\"gridcolor\":\"white\",\"linecolor\":\"white\",\"showbackground\":true,\"ticks\":\"\",\"zerolinecolor\":\"white\",\"gridwidth\":2},\"zaxis\":{\"backgroundcolor\":\"#E5ECF6\",\"gridcolor\":\"white\",\"linecolor\":\"white\",\"showbackground\":true,\"ticks\":\"\",\"zerolinecolor\":\"white\",\"gridwidth\":2}},\"shapedefaults\":{\"line\":{\"color\":\"#2a3f5f\"}},\"annotationdefaults\":{\"arrowcolor\":\"#2a3f5f\",\"arrowhead\":0,\"arrowwidth\":1},\"geo\":{\"bgcolor\":\"white\",\"landcolor\":\"#E5ECF6\",\"subunitcolor\":\"white\",\"showland\":true,\"showlakes\":true,\"lakecolor\":\"white\"},\"title\":{\"x\":0.05},\"mapbox\":{\"style\":\"light\"}}},\"xaxis\":{\"anchor\":\"y\",\"domain\":[0.0,1.0],\"title\":{\"text\":\"firstAuthor\"},\"categoryorder\":\"total descending\"},\"yaxis\":{\"anchor\":\"x\",\"domain\":[0.0,1.0],\"title\":{\"text\":\"BDSL_autor\"}},\"legend\":{\"title\":{\"text\":\"firstAuthorGender\"},\"tracegroupgap\":0},\"margin\":{\"t\":60},\"barmode\":\"relative\"},                        {\"responsive\": true}                    ).then(function(){\n",
       "                            \n",
       "var gd = document.getElementById('63ccb846-464b-4d29-b7bd-a9c710062e20');\n",
       "var x = new MutationObserver(function (mutations, observer) {{\n",
       "        var display = window.getComputedStyle(gd).display;\n",
       "        if (!display || display === 'none') {{\n",
       "            console.log([gd, 'removed!']);\n",
       "            Plotly.purge(gd);\n",
       "            observer.disconnect();\n",
       "        }}\n",
       "}});\n",
       "\n",
       "// Listen for the removal of the full notebook cells\n",
       "var notebookContainer = gd.closest('#notebook-container');\n",
       "if (notebookContainer) {{\n",
       "    x.observe(notebookContainer, {childList: true});\n",
       "}}\n",
       "\n",
       "// Listen for the clearing of the current output cell\n",
       "var outputEl = gd.closest('.output');\n",
       "if (outputEl) {{\n",
       "    x.observe(outputEl, {childList: true});\n",
       "}}\n",
       "\n",
       "                        })                };                });            </script>        </div>"
      ]
     },
     "metadata": {},
     "output_type": "display_data"
    }
   ],
   "source": [
    "df_short = df[df[\"BDSL_autortitel\"]>20]\n",
    "fig = px.bar(df_short, x='firstAuthor', y='BDSL_autor', color=\"firstAuthorGender\", hover_data=[\"title\", \"firstAuthorFirstname\", \"BDSL_autortitel\"])\n",
    "fig.update_xaxes(categoryorder='total descending')\n",
    "fig.show()"
   ]
  },
  {
   "cell_type": "code",
   "execution_count": 9,
   "id": "2d803de1",
   "metadata": {},
   "outputs": [],
   "source": [
    "fig.write_image(\"figures/bdsl_autortreffer_barchart.png\")"
   ]
  },
  {
   "cell_type": "code",
   "execution_count": null,
   "id": "99d34fef",
   "metadata": {},
   "outputs": [],
   "source": []
  }
 ],
 "metadata": {
  "kernelspec": {
   "display_name": "Python 3 (ipykernel)",
   "language": "python",
   "name": "python3"
  },
  "language_info": {
   "codemirror_mode": {
    "name": "ipython",
    "version": 3
   },
   "file_extension": ".py",
   "mimetype": "text/x-python",
   "name": "python",
   "nbconvert_exporter": "python",
   "pygments_lexer": "ipython3",
   "version": "3.10.8"
  }
 },
 "nbformat": 4,
 "nbformat_minor": 5
}
